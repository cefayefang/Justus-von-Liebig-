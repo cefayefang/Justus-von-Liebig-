{
 "cells": [
  {
   "cell_type": "markdown",
   "id": "aab310cb-462d-4966-ad5c-90fcb9751ce0",
   "metadata": {},
   "source": [
    "##                    EEP 153 Project 2: Justus von Liebig "
   ]
  },
  {
   "cell_type": "markdown",
   "id": "4ba92489-3ceb-4d37-aab4-97718aab4a12",
   "metadata": {},
   "source": [
    "### Minimum Cost Diet on Native Indian reservations VS at the nearest metropolitan city"
   ]
  },
  {
   "cell_type": "code",
   "execution_count": 25,
   "id": "80c72e47-ddc8-4ba9-9020-8affb09b74ed",
   "metadata": {},
   "outputs": [
    {
     "name": "stdout",
     "output_type": "stream",
     "text": [
      "Requirement already satisfied: Pint>=0.8.1 in /srv/conda/lib/python3.9/site-packages (from -r EEP153_Materials/Project2/requirements.txt (line 2)) (0.17)\n",
      "Requirement already satisfied: numpy>=1.15.0 in /srv/conda/lib/python3.9/site-packages (from -r EEP153_Materials/Project2/requirements.txt (line 6)) (1.22.4)\n",
      "Requirement already satisfied: pandas>=0.23.3 in /srv/conda/lib/python3.9/site-packages (from -r EEP153_Materials/Project2/requirements.txt (line 11)) (1.3.5)\n",
      "Requirement already satisfied: requests>=2.20.0 in /srv/conda/lib/python3.9/site-packages (from -r EEP153_Materials/Project2/requirements.txt (line 15)) (2.31.0)\n",
      "Requirement already satisfied: scipy>=1.1.0 in /srv/conda/lib/python3.9/site-packages (from -r EEP153_Materials/Project2/requirements.txt (line 18)) (1.10.0)\n",
      "Requirement already satisfied: gspread in /srv/conda/lib/python3.9/site-packages (from -r EEP153_Materials/Project2/requirements.txt (line 20)) (4.0.1)\n",
      "Requirement already satisfied: gspread_pandas in /srv/conda/lib/python3.9/site-packages (from -r EEP153_Materials/Project2/requirements.txt (line 22)) (2.3.0)\n",
      "Requirement already satisfied: bottleneck>=1.3.6 in /srv/conda/lib/python3.9/site-packages (from -r EEP153_Materials/Project2/requirements.txt (line 24)) (1.3.8)\n",
      "Requirement already satisfied: eep153_tools in /srv/conda/lib/python3.9/site-packages (from -r EEP153_Materials/Project2/requirements.txt (line 26)) (0.11)\n",
      "Requirement already satisfied: fooddatacentral in /srv/conda/lib/python3.9/site-packages (from -r EEP153_Materials/Project2/requirements.txt (line 28)) (1.0.10)\n",
      "Requirement already satisfied: packaging in /srv/conda/lib/python3.9/site-packages (from Pint>=0.8.1->-r EEP153_Materials/Project2/requirements.txt (line 2)) (23.2)\n",
      "Requirement already satisfied: python-dateutil>=2.7.3 in /srv/conda/lib/python3.9/site-packages (from pandas>=0.23.3->-r EEP153_Materials/Project2/requirements.txt (line 11)) (2.8.2)\n",
      "Requirement already satisfied: pytz>=2017.3 in /srv/conda/lib/python3.9/site-packages (from pandas>=0.23.3->-r EEP153_Materials/Project2/requirements.txt (line 11)) (2024.1)\n",
      "Requirement already satisfied: certifi>=2017.4.17 in /srv/conda/lib/python3.9/site-packages (from requests>=2.20.0->-r EEP153_Materials/Project2/requirements.txt (line 15)) (2022.12.7)\n",
      "Requirement already satisfied: charset-normalizer<4,>=2 in /srv/conda/lib/python3.9/site-packages (from requests>=2.20.0->-r EEP153_Materials/Project2/requirements.txt (line 15)) (3.1.0)\n",
      "Requirement already satisfied: idna<4,>=2.5 in /srv/conda/lib/python3.9/site-packages (from requests>=2.20.0->-r EEP153_Materials/Project2/requirements.txt (line 15)) (3.4)\n",
      "Requirement already satisfied: urllib3<3,>=1.21.1 in /srv/conda/lib/python3.9/site-packages (from requests>=2.20.0->-r EEP153_Materials/Project2/requirements.txt (line 15)) (1.26.15)\n",
      "Requirement already satisfied: google-auth>=1.12.0 in /srv/conda/lib/python3.9/site-packages (from gspread->-r EEP153_Materials/Project2/requirements.txt (line 20)) (2.28.1)\n",
      "Requirement already satisfied: google-auth-oauthlib>=0.4.1 in /srv/conda/lib/python3.9/site-packages (from gspread->-r EEP153_Materials/Project2/requirements.txt (line 20)) (0.4.5)\n",
      "Requirement already satisfied: decorator in /srv/conda/lib/python3.9/site-packages (from gspread_pandas->-r EEP153_Materials/Project2/requirements.txt (line 22)) (5.0.9)\n",
      "Requirement already satisfied: six in /srv/conda/lib/python3.9/site-packages (from gspread_pandas->-r EEP153_Materials/Project2/requirements.txt (line 22)) (1.16.0)\n",
      "Requirement already satisfied: cachetools<6.0,>=2.0.0 in /srv/conda/lib/python3.9/site-packages (from google-auth>=1.12.0->gspread->-r EEP153_Materials/Project2/requirements.txt (line 20)) (5.3.2)\n",
      "Requirement already satisfied: pyasn1-modules>=0.2.1 in /srv/conda/lib/python3.9/site-packages (from google-auth>=1.12.0->gspread->-r EEP153_Materials/Project2/requirements.txt (line 20)) (0.3.0)\n",
      "Requirement already satisfied: rsa<5,>=3.1.4 in /srv/conda/lib/python3.9/site-packages (from google-auth>=1.12.0->gspread->-r EEP153_Materials/Project2/requirements.txt (line 20)) (4.9)\n",
      "Requirement already satisfied: requests-oauthlib>=0.7.0 in /srv/conda/lib/python3.9/site-packages (from google-auth-oauthlib>=0.4.1->gspread->-r EEP153_Materials/Project2/requirements.txt (line 20)) (1.3.1)\n",
      "Requirement already satisfied: pyasn1<0.6.0,>=0.4.6 in /srv/conda/lib/python3.9/site-packages (from pyasn1-modules>=0.2.1->google-auth>=1.12.0->gspread->-r EEP153_Materials/Project2/requirements.txt (line 20)) (0.5.1)\n",
      "Requirement already satisfied: oauthlib>=3.0.0 in /srv/conda/lib/python3.9/site-packages (from requests-oauthlib>=0.7.0->google-auth-oauthlib>=0.4.1->gspread->-r EEP153_Materials/Project2/requirements.txt (line 20)) (3.2.2)\n",
      "Requirement already satisfied: gnupg in /srv/conda/lib/python3.9/site-packages (2.3.1)\n",
      "Requirement already satisfied: psutil>=1.2.1 in /srv/conda/lib/python3.9/site-packages (from gnupg) (5.9.8)\n"
     ]
    }
   ],
   "source": [
    "#Installation of necessary packages \n",
    "!pip install -r EEP153_Materials/Project2/requirements.txt\n",
    "!pip install gnupg\n",
    "\n",
    "from eep153_tools.sheets import read_sheets\n",
    "from  scipy.optimize import linprog as lp\n",
    "import numpy as np\n",
    "import warnings\n",
    "import pandas as pd\n",
    "import fooddatacentral as fdc\n",
    "import warnings"
   ]
  },
  {
   "cell_type": "code",
   "execution_count": 4,
   "id": "edffe55f-047a-4abc-8594-09367b6c6253",
   "metadata": {},
   "outputs": [
    {
     "name": "stdout",
     "output_type": "stream",
     "text": [
      "Min intake\n",
      "Nutrition\n",
      "Energy                            2400.0\n",
      "Protein                             56.0\n",
      "Fiber, total dietary                33.6\n",
      "Folate, DFE                        400.0\n",
      "Calcium, Ca                       1000.0\n",
      "Carbohydrate, by difference        130.0\n",
      "Iron, Fe                             8.0\n",
      "Magnesium, Mg                      400.0\n",
      "Niacin                              16.0\n",
      "Phosphorus, P                      700.0\n",
      "Potassium, K                      4700.0\n",
      "Riboflavin                           1.3\n",
      "Thiamin                              1.2\n",
      "Vitamin A, RAE                     900.0\n",
      "Vitamin B-12                         2.4\n",
      "Vitamin B-6                          1.3\n",
      "Vitamin C, total ascorbic acid      90.0\n",
      "Vitamin E (alpha-tocopherol)        15.0\n",
      "Vitamin K (phylloquinone)          120.0\n",
      "Zinc, Zn                            11.0\n",
      "Name: M 19-30, dtype: float64\n",
      "\n",
      "Max intake\n",
      "Nutrition\n",
      "Sodium, Na    2300\n",
      "Energy        3100\n",
      "Name: M 19-30, dtype: int64\n"
     ]
    }
   ],
   "source": [
    "import pandas as pd\n",
    "\n",
    "def get_recommended_intake_from_csv(age, sex, csv_path):\n",
    "    \n",
    "    df = pd.read_csv(csv_path)\n",
    "    if age <= 3:\n",
    "        age_sex_cat = 'C 1-3'\n",
    "    elif 4 <= age <= 8:\n",
    "        age_sex_cat = f'{sex} 4-8'\n",
    "    elif 9 <= age <= 13:\n",
    "        age_sex_cat = f'{sex} 9-13'\n",
    "    elif 14 <= age <= 18:\n",
    "        age_sex_cat = f'{sex} 14-18'\n",
    "    elif 19 <= age <= 30:\n",
    "        age_sex_cat = f'{sex} 19-30'\n",
    "    elif 31 <= age <= 50:\n",
    "        age_sex_cat = f'{sex} 31-50'\n",
    "    else:\n",
    "        age_sex_cat = f'{sex} 51+'\n",
    "    \n",
    "    recommended_intake = df.set_index('Nutrition')[age_sex_cat]\n",
    "    return recommended_intake\n",
    "\n",
    "min_csv_path = './diet_min.csv'\n",
    "max_csv_path = './diet_max.csv'\n",
    "min_recommended_intake_series = get_recommended_intake_from_csv(25, 'M', min_csv_path)\n",
    "max_recommended_intake_series = get_recommended_intake_from_csv(25, 'M', max_csv_path)\n",
    "\n",
    "print(\"Min intake\")\n",
    "print(min_recommended_intake_series)\n",
    "print()\n",
    "print(\"Max intake\")\n",
    "print(max_recommended_intake_series)\n",
    "\n"
   ]
  },
  {
   "cell_type": "code",
   "execution_count": null,
   "id": "5c173ac0-c936-499b-b2d2-520778461a13",
   "metadata": {},
   "outputs": [],
   "source": []
  }
 ],
 "metadata": {
  "kernelspec": {
   "display_name": "Python 3 (ipykernel)",
   "language": "python",
   "name": "python3"
  },
  "language_info": {
   "codemirror_mode": {
    "name": "ipython",
    "version": 3
   },
   "file_extension": ".py",
   "mimetype": "text/x-python",
   "name": "python",
   "nbconvert_exporter": "python",
   "pygments_lexer": "ipython3",
   "version": "3.9.15"
  }
 },
 "nbformat": 4,
 "nbformat_minor": 5
}
