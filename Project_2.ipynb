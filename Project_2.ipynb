{
 "cells": [
  {
   "cell_type": "markdown",
   "id": "2e840828-dd73-4d54-9647-0ce467c7cd57",
   "metadata": {},
   "source": [
    "## Setting Up"
   ]
  },
  {
   "cell_type": "code",
   "execution_count": 2,
   "id": "39d73def-ee8e-428c-9178-4d684d43c8d4",
   "metadata": {},
   "outputs": [
    {
     "name": "stdout",
     "output_type": "stream",
     "text": [
      "Requirement already satisfied: python-gnupg in /srv/conda/lib/python3.9/site-packages (0.5.2)\n",
      "Requirement already satisfied: eep153_tools in /srv/conda/lib/python3.9/site-packages (0.11)\n",
      "Requirement already satisfied: fooddatacentral in /srv/conda/lib/python3.9/site-packages (1.0.10)\n"
     ]
    }
   ],
   "source": [
    "#Installation of necessary packages \n",
    "#!pip install -r EEP153_Materials/Project2/requirements.txt\n",
    "!pip install python-gnupg\n",
    "!pip install eep153_tools\n",
    "!pip install fooddatacentral\n",
    "from eep153_tools.sheets import read_sheets\n",
    "from  scipy.optimize import linprog as lp\n",
    "import numpy as np\n",
    "import warnings\n",
    "import pandas as pd\n",
    "import fooddatacentral as fdc\n",
    "import warnings\n",
    "import matplotlib.pyplot as plt\n",
    "import seaborn as sns"
   ]
  },
  {
   "cell_type": "markdown",
   "id": "a1f68a73-2197-45e6-affe-b8fa510863b1",
   "metadata": {},
   "source": [
    "## Dietary Reference Intakes"
   ]
  },
  {
   "cell_type": "markdown",
   "id": "a218d6d9-f13f-458a-a1e4-784acc22b836",
   "metadata": {},
   "source": [
    "#### `get_recommended_intake_from_cvs` takes as arguments the characteristics of a per (e.g., age, sex) and returns a pandas,.Series of Dietary Reference Intakes of our population interest."
   ]
  },
  {
   "cell_type": "code",
   "execution_count": 4,
   "id": "7bba8bda-86db-454a-ac81-be44346fc188",
   "metadata": {},
   "outputs": [
    {
     "name": "stdout",
     "output_type": "stream",
     "text": [
      "Min intake\n",
      "Nutrition\n",
      "Energy                            2400.0\n",
      "Protein                             56.0\n",
      "Fiber, total dietary                33.6\n",
      "Folate, DFE                        400.0\n",
      "Calcium, Ca                       1000.0\n",
      "Carbohydrate, by difference        130.0\n",
      "Iron, Fe                             8.0\n",
      "Magnesium, Mg                      400.0\n",
      "Niacin                              16.0\n",
      "Phosphorus, P                      700.0\n",
      "Potassium, K                      4700.0\n",
      "Riboflavin                           1.3\n",
      "Thiamin                              1.2\n",
      "Vitamin A, RAE                     900.0\n",
      "Vitamin B-12                         2.4\n",
      "Vitamin B-6                          1.3\n",
      "Vitamin C, total ascorbic acid      90.0\n",
      "Vitamin E (alpha-tocopherol)        15.0\n",
      "Vitamin K (phylloquinone)          120.0\n",
      "Zinc, Zn                            11.0\n",
      "Name: M 19-30, dtype: float64\n",
      "\n",
      "Max intake\n",
      "Nutrition\n",
      "Sodium, Na    2300\n",
      "Energy        3100\n",
      "Name: M 19-30, dtype: int64\n"
     ]
    }
   ],
   "source": [
    "def get_recommended_intake_from_csv(age, sex, csv_path):\n",
    "    \n",
    "    df = pd.read_csv(csv_path)\n",
    "    if age <= 3:\n",
    "        age_sex_cat = 'C 1-3'\n",
    "    elif 4 <= age <= 8:\n",
    "        age_sex_cat = f'{sex} 4-8'\n",
    "    elif 9 <= age <= 13:\n",
    "        age_sex_cat = f'{sex} 9-13'\n",
    "    elif 14 <= age <= 18:\n",
    "        age_sex_cat = f'{sex} 14-18'\n",
    "    elif 19 <= age <= 30:\n",
    "        age_sex_cat = f'{sex} 19-30'\n",
    "    elif 31 <= age <= 50:\n",
    "        age_sex_cat = f'{sex} 31-50'\n",
    "    else:\n",
    "        age_sex_cat = f'{sex} 51+'\n",
    "    \n",
    "    recommended_intake = df.set_index('Nutrition')[age_sex_cat]\n",
    "    return recommended_intake\n",
    "\n",
    "min_csv_path = './diet_min.csv'\n",
    "max_csv_path = './diet_max.csv'\n",
    "min_recommended_intake_series = get_recommended_intake_from_csv(25, 'M', min_csv_path)\n",
    "max_recommended_intake_series = get_recommended_intake_from_csv(25, 'M', max_csv_path)\n",
    "\n",
    "print(\"Min intake\")\n",
    "print(min_recommended_intake_series)\n",
    "print()\n",
    "print(\"Max intake\")\n",
    "print(max_recommended_intake_series)"
   ]
  },
  {
   "cell_type": "markdown",
   "id": "4be767fb-a328-4a4b-9de2-57bb21b88ad8",
   "metadata": {},
   "source": [
    "## Import Food Price Data and Do data cleaning"
   ]
  },
  {
   "cell_type": "code",
   "execution_count": 5,
   "id": "0c37f59f-bbf2-486e-b440-fd9778db902d",
   "metadata": {},
   "outputs": [
    {
     "name": "stdout",
     "output_type": "stream",
     "text": [
      "Key available for students@eep153.iam.gserviceaccount.com.\n"
     ]
    },
    {
     "name": "stderr",
     "output_type": "stream",
     "text": [
      "/srv/conda/lib/python3.9/site-packages/eep153_tools/sheets.py:165: FutureWarning: errors='ignore' is deprecated and will raise in a future version. Use to_numeric without passing `errors` and catch exceptions explicitly instead\n",
      "  return df.apply(lambda x: pd.to_numeric(x,errors='ignore'))\n"
     ]
    },
    {
     "name": "stdout",
     "output_type": "stream",
     "text": [
      "Key available for students@eep153.iam.gserviceaccount.com.\n"
     ]
    },
    {
     "data": {
      "text/html": [
       "<div>\n",
       "<style scoped>\n",
       "    .dataframe tbody tr th:only-of-type {\n",
       "        vertical-align: middle;\n",
       "    }\n",
       "\n",
       "    .dataframe tbody tr th {\n",
       "        vertical-align: top;\n",
       "    }\n",
       "\n",
       "    .dataframe thead th {\n",
       "        text-align: right;\n",
       "    }\n",
       "</style>\n",
       "<table border=\"1\" class=\"dataframe\">\n",
       "  <thead>\n",
       "    <tr style=\"text-align: right;\">\n",
       "      <th></th>\n",
       "      <th></th>\n",
       "      <th>Location</th>\n",
       "      <th>Grocery store</th>\n",
       "      <th>Apple</th>\n",
       "      <th>Egg</th>\n",
       "      <th>Ground beef</th>\n",
       "      <th>Loaf of white bread</th>\n",
       "      <th>Whole Milk</th>\n",
       "      <th>Tomato</th>\n",
       "      <th>Whole Chicken</th>\n",
       "      <th>Carrots</th>\n",
       "      <th>Spaghetti</th>\n",
       "      <th>Corn</th>\n",
       "      <th>Cheetos</th>\n",
       "      <th>Potatoes</th>\n",
       "      <th>Cauliflower</th>\n",
       "      <th>Broccoli</th>\n",
       "    </tr>\n",
       "    <tr>\n",
       "      <th>Reservation</th>\n",
       "      <th>Tribe</th>\n",
       "      <th></th>\n",
       "      <th></th>\n",
       "      <th></th>\n",
       "      <th></th>\n",
       "      <th></th>\n",
       "      <th></th>\n",
       "      <th></th>\n",
       "      <th></th>\n",
       "      <th></th>\n",
       "      <th></th>\n",
       "      <th></th>\n",
       "      <th></th>\n",
       "      <th></th>\n",
       "      <th></th>\n",
       "      <th></th>\n",
       "      <th></th>\n",
       "    </tr>\n",
       "  </thead>\n",
       "  <tbody>\n",
       "    <tr>\n",
       "      <th rowspan=\"2\" valign=\"top\">Navajo Nation</th>\n",
       "      <th>Navajo</th>\n",
       "      <td>Window Rock, AZ</td>\n",
       "      <td>Bashas'</td>\n",
       "      <td>1.69</td>\n",
       "      <td>3.59</td>\n",
       "      <td>6.75</td>\n",
       "      <td>2.49</td>\n",
       "      <td>2.79</td>\n",
       "      <td>1.09</td>\n",
       "      <td>2.59</td>\n",
       "      <td>1.49</td>\n",
       "      <td>1.69</td>\n",
       "      <td>1.19</td>\n",
       "      <td>6.39</td>\n",
       "      <td>1.16</td>\n",
       "      <td>1.69</td>\n",
       "      <td>2.29</td>\n",
       "    </tr>\n",
       "    <tr>\n",
       "      <th>Navajo</th>\n",
       "      <td>Scottsdale, AZ</td>\n",
       "      <td>Walmart</td>\n",
       "      <td>1.32</td>\n",
       "      <td>3.36</td>\n",
       "      <td>4.88</td>\n",
       "      <td>1.42</td>\n",
       "      <td>2.12</td>\n",
       "      <td>1.48</td>\n",
       "      <td>1.46</td>\n",
       "      <td>1.38</td>\n",
       "      <td>0.98</td>\n",
       "      <td>0.64</td>\n",
       "      <td>4.48</td>\n",
       "      <td>0.97</td>\n",
       "      <td>3.68</td>\n",
       "      <td>1.74</td>\n",
       "    </tr>\n",
       "    <tr>\n",
       "      <th rowspan=\"2\" valign=\"top\">Uintah and Ouray Reservation</th>\n",
       "      <th>Ute</th>\n",
       "      <td>Fort Duchesne, UT</td>\n",
       "      <td>ute_plaza_supermarket</td>\n",
       "      <td>1.14</td>\n",
       "      <td>3.09</td>\n",
       "      <td>3.79</td>\n",
       "      <td>2.89</td>\n",
       "      <td>2.49</td>\n",
       "      <td>2.39</td>\n",
       "      <td>2.99</td>\n",
       "      <td>1.59</td>\n",
       "      <td>1.99</td>\n",
       "      <td>1.99</td>\n",
       "      <td>6.29</td>\n",
       "      <td>0.69</td>\n",
       "      <td>2.19</td>\n",
       "      <td>2.59</td>\n",
       "    </tr>\n",
       "    <tr>\n",
       "      <th>Ute</th>\n",
       "      <td>Provo, UT</td>\n",
       "      <td>Walmart</td>\n",
       "      <td>1.28</td>\n",
       "      <td>2.08</td>\n",
       "      <td>4.43</td>\n",
       "      <td>1.42</td>\n",
       "      <td>2.68</td>\n",
       "      <td>1.98</td>\n",
       "      <td>1.46</td>\n",
       "      <td>1.38</td>\n",
       "      <td>0.98</td>\n",
       "      <td>0.64</td>\n",
       "      <td>4.48</td>\n",
       "      <td>0.87</td>\n",
       "      <td>3.68</td>\n",
       "      <td>1.74</td>\n",
       "    </tr>\n",
       "    <tr>\n",
       "      <th rowspan=\"2\" valign=\"top\">Rosebud Indian Reservation</th>\n",
       "      <th>Rosebud Sioux</th>\n",
       "      <td>Mission, SD</td>\n",
       "      <td>Turtle Creek Crossing Super Foods</td>\n",
       "      <td>1.29</td>\n",
       "      <td>5.09</td>\n",
       "      <td>3.99</td>\n",
       "      <td>2.19</td>\n",
       "      <td>3.99</td>\n",
       "      <td>2.79</td>\n",
       "      <td>NaN</td>\n",
       "      <td>1.25</td>\n",
       "      <td>2.25</td>\n",
       "      <td>1.75</td>\n",
       "      <td>NaN</td>\n",
       "      <td>0.64</td>\n",
       "      <td>3.37</td>\n",
       "      <td>2.66</td>\n",
       "    </tr>\n",
       "    <tr>\n",
       "      <th>Rosebud Sioux</th>\n",
       "      <td>Rapid City, SD</td>\n",
       "      <td>Walmart</td>\n",
       "      <td>1.37</td>\n",
       "      <td>2.78</td>\n",
       "      <td>4.99</td>\n",
       "      <td>1.42</td>\n",
       "      <td>3.12</td>\n",
       "      <td>1.98</td>\n",
       "      <td>1.46</td>\n",
       "      <td>1.38</td>\n",
       "      <td>0.98</td>\n",
       "      <td>0.64</td>\n",
       "      <td>4.45</td>\n",
       "      <td>0.88</td>\n",
       "      <td>3.68</td>\n",
       "      <td>1.74</td>\n",
       "    </tr>\n",
       "    <tr>\n",
       "      <th rowspan=\"2\" valign=\"top\">Wind River Reservation</th>\n",
       "      <th>Eastern Shoshone; Northern Arapaho</th>\n",
       "      <td>Fort Washakie, WY</td>\n",
       "      <td>Smith's</td>\n",
       "      <td>0.88</td>\n",
       "      <td>2.99</td>\n",
       "      <td>4.99</td>\n",
       "      <td>2.19</td>\n",
       "      <td>3.79</td>\n",
       "      <td>1.29</td>\n",
       "      <td>3.99</td>\n",
       "      <td>0.99</td>\n",
       "      <td>1.69</td>\n",
       "      <td>1.67</td>\n",
       "      <td>5.69</td>\n",
       "      <td>0.99</td>\n",
       "      <td>1.49</td>\n",
       "      <td>1.99</td>\n",
       "    </tr>\n",
       "    <tr>\n",
       "      <th>Eastern Shoshone; Northern Arapaho</th>\n",
       "      <td>Casper, WY</td>\n",
       "      <td>Walmart</td>\n",
       "      <td>1.34</td>\n",
       "      <td>2.78</td>\n",
       "      <td>4.88</td>\n",
       "      <td>1.42</td>\n",
       "      <td>3.22</td>\n",
       "      <td>1.98</td>\n",
       "      <td>1.46</td>\n",
       "      <td>1.38</td>\n",
       "      <td>0.98</td>\n",
       "      <td>0.64</td>\n",
       "      <td>4.48</td>\n",
       "      <td>0.88</td>\n",
       "      <td>3.68</td>\n",
       "      <td>1.74</td>\n",
       "    </tr>\n",
       "    <tr>\n",
       "      <th rowspan=\"4\" valign=\"top\">Cherokee Nation</th>\n",
       "      <th>Cherokee - Eastern band</th>\n",
       "      <td>Whittier, NC</td>\n",
       "      <td>Food Lion</td>\n",
       "      <td>1.39</td>\n",
       "      <td>3.29</td>\n",
       "      <td>4.19</td>\n",
       "      <td>1.59</td>\n",
       "      <td>2.89</td>\n",
       "      <td>1.29</td>\n",
       "      <td>1.99</td>\n",
       "      <td>0.69</td>\n",
       "      <td>1.69</td>\n",
       "      <td>1.25</td>\n",
       "      <td>5.89</td>\n",
       "      <td>1.39</td>\n",
       "      <td>3.61</td>\n",
       "      <td>2.24</td>\n",
       "    </tr>\n",
       "    <tr>\n",
       "      <th>Cherokee - Eastern band</th>\n",
       "      <td>Sylva, NC</td>\n",
       "      <td>Walmart</td>\n",
       "      <td>1.37</td>\n",
       "      <td>2.78</td>\n",
       "      <td>5.97</td>\n",
       "      <td>1.42</td>\n",
       "      <td>2.82</td>\n",
       "      <td>1.28</td>\n",
       "      <td>1.67</td>\n",
       "      <td>1.66</td>\n",
       "      <td>0.98</td>\n",
       "      <td>0.74</td>\n",
       "      <td>4.48</td>\n",
       "      <td>0.82</td>\n",
       "      <td>3.68</td>\n",
       "      <td>2.18</td>\n",
       "    </tr>\n",
       "    <tr>\n",
       "      <th>Cherokee</th>\n",
       "      <td>Tahlequah, OK</td>\n",
       "      <td>Reasor's</td>\n",
       "      <td>1.39</td>\n",
       "      <td>2.79</td>\n",
       "      <td>6.29</td>\n",
       "      <td>3.69</td>\n",
       "      <td>5.19</td>\n",
       "      <td>0.89</td>\n",
       "      <td>1.39</td>\n",
       "      <td>1.29</td>\n",
       "      <td>1.19</td>\n",
       "      <td>0.99</td>\n",
       "      <td>5.69</td>\n",
       "      <td>0.99</td>\n",
       "      <td>3.61</td>\n",
       "      <td>1.69</td>\n",
       "    </tr>\n",
       "    <tr>\n",
       "      <th>Cherokee</th>\n",
       "      <td>Tusla, OK</td>\n",
       "      <td>Walmart</td>\n",
       "      <td>1.97</td>\n",
       "      <td>2.78</td>\n",
       "      <td>4.88</td>\n",
       "      <td>2.62</td>\n",
       "      <td>3.26</td>\n",
       "      <td>0.98</td>\n",
       "      <td>1.46</td>\n",
       "      <td>0.99</td>\n",
       "      <td>0.98</td>\n",
       "      <td>0.99</td>\n",
       "      <td>4.48</td>\n",
       "      <td>0.82</td>\n",
       "      <td>3.68</td>\n",
       "      <td>1.74</td>\n",
       "    </tr>\n",
       "    <tr>\n",
       "      <th rowspan=\"2\" valign=\"top\">Lake Traverse Indian Reservation</th>\n",
       "      <th>Sisseton Wahpeton Oyate</th>\n",
       "      <td>Sisseton, SD</td>\n",
       "      <td>Buche Foods</td>\n",
       "      <td>1.89</td>\n",
       "      <td>4.39</td>\n",
       "      <td>4.89</td>\n",
       "      <td>2.29</td>\n",
       "      <td>3.99</td>\n",
       "      <td>0.99</td>\n",
       "      <td>4.99</td>\n",
       "      <td>1.45</td>\n",
       "      <td>0.88</td>\n",
       "      <td>1.75</td>\n",
       "      <td>5.89</td>\n",
       "      <td>0.19</td>\n",
       "      <td>3.69</td>\n",
       "      <td>3.69</td>\n",
       "    </tr>\n",
       "    <tr>\n",
       "      <th>Sisseton Wahpeton Oyate</th>\n",
       "      <td>Watertown, SD</td>\n",
       "      <td>Walmart</td>\n",
       "      <td>1.29</td>\n",
       "      <td>2.78</td>\n",
       "      <td>3.59</td>\n",
       "      <td>1.42</td>\n",
       "      <td>2.83</td>\n",
       "      <td>1.28</td>\n",
       "      <td>1.32</td>\n",
       "      <td>1.38</td>\n",
       "      <td>0.98</td>\n",
       "      <td>0.64</td>\n",
       "      <td>3.98</td>\n",
       "      <td>0.78</td>\n",
       "      <td>2.94</td>\n",
       "      <td>1.74</td>\n",
       "    </tr>\n",
       "    <tr>\n",
       "      <th rowspan=\"2\" valign=\"top\">Pine Ridge Reservation</th>\n",
       "      <th>Oglala Sioux</th>\n",
       "      <td>Pine Ridge, SD</td>\n",
       "      <td>Buche Foods</td>\n",
       "      <td>1.29</td>\n",
       "      <td>3.85</td>\n",
       "      <td>5.99</td>\n",
       "      <td>3.29</td>\n",
       "      <td>3.99</td>\n",
       "      <td>3.19</td>\n",
       "      <td>2.59</td>\n",
       "      <td>1.25</td>\n",
       "      <td>1.69</td>\n",
       "      <td>1.48</td>\n",
       "      <td>5.69</td>\n",
       "      <td>0.44</td>\n",
       "      <td>3.37</td>\n",
       "      <td>2.66</td>\n",
       "    </tr>\n",
       "    <tr>\n",
       "      <th>Oglala Sioux</th>\n",
       "      <td>Watertown, SD</td>\n",
       "      <td>Walmart</td>\n",
       "      <td>1.29</td>\n",
       "      <td>2.78</td>\n",
       "      <td>3.59</td>\n",
       "      <td>1.42</td>\n",
       "      <td>2.83</td>\n",
       "      <td>1.28</td>\n",
       "      <td>1.32</td>\n",
       "      <td>0.78</td>\n",
       "      <td>0.98</td>\n",
       "      <td>0.64</td>\n",
       "      <td>3.98</td>\n",
       "      <td>0.57</td>\n",
       "      <td>2.94</td>\n",
       "      <td>1.74</td>\n",
       "    </tr>\n",
       "    <tr>\n",
       "      <th rowspan=\"2\" valign=\"top\">Gila River Indian Reservation</th>\n",
       "      <th>Akimel O'odham (Pima) &amp; Pee-Posh (Maricopa)</th>\n",
       "      <td>Phoenix, AZ</td>\n",
       "      <td>frysfood</td>\n",
       "      <td>1.21</td>\n",
       "      <td>3.29</td>\n",
       "      <td>5.49</td>\n",
       "      <td>3.99</td>\n",
       "      <td>2.29</td>\n",
       "      <td>1.01</td>\n",
       "      <td>2.00</td>\n",
       "      <td>0.75</td>\n",
       "      <td>1.99</td>\n",
       "      <td>1.56</td>\n",
       "      <td>4.18</td>\n",
       "      <td>0.66</td>\n",
       "      <td>3.13</td>\n",
       "      <td>1.99</td>\n",
       "    </tr>\n",
       "    <tr>\n",
       "      <th>Akimel O'odham (Pima) &amp; Pee-Posh (Maricopa)</th>\n",
       "      <td>Phoenix, AZ</td>\n",
       "      <td>Walmart</td>\n",
       "      <td>1.32</td>\n",
       "      <td>3.36</td>\n",
       "      <td>4.88</td>\n",
       "      <td>1.42</td>\n",
       "      <td>2.12</td>\n",
       "      <td>1.48</td>\n",
       "      <td>1.46</td>\n",
       "      <td>1.38</td>\n",
       "      <td>0.98</td>\n",
       "      <td>0.64</td>\n",
       "      <td>4.48</td>\n",
       "      <td>0.97</td>\n",
       "      <td>3.68</td>\n",
       "      <td>1.74</td>\n",
       "    </tr>\n",
       "    <tr>\n",
       "      <th rowspan=\"2\" valign=\"top\">Blackfeet Indian Reservation</th>\n",
       "      <th>Blackfoot (Niitsitapi)</th>\n",
       "      <td>Browning, MT</td>\n",
       "      <td>Glacier Family Foods</td>\n",
       "      <td>0.99</td>\n",
       "      <td>3.79</td>\n",
       "      <td>3.99</td>\n",
       "      <td>2.69</td>\n",
       "      <td>4.29</td>\n",
       "      <td>1.59</td>\n",
       "      <td>3.79</td>\n",
       "      <td>1.99</td>\n",
       "      <td>1.25</td>\n",
       "      <td>2.50</td>\n",
       "      <td>4.00</td>\n",
       "      <td>0.79</td>\n",
       "      <td>2.49</td>\n",
       "      <td>1.89</td>\n",
       "    </tr>\n",
       "    <tr>\n",
       "      <th>Blackfoot (Niitsitapi)</th>\n",
       "      <td>Billings, MT</td>\n",
       "      <td>Walmart</td>\n",
       "      <td>1.34</td>\n",
       "      <td>2.78</td>\n",
       "      <td>3.59</td>\n",
       "      <td>1.42</td>\n",
       "      <td>2.92</td>\n",
       "      <td>1.28</td>\n",
       "      <td>1.32</td>\n",
       "      <td>0.98</td>\n",
       "      <td>0.98</td>\n",
       "      <td>0.64</td>\n",
       "      <td>4.48</td>\n",
       "      <td>0.49</td>\n",
       "      <td>2.94</td>\n",
       "      <td>1.74</td>\n",
       "    </tr>\n",
       "  </tbody>\n",
       "</table>\n",
       "</div>"
      ],
      "text/plain": [
       "                                                                                       Location  \\\n",
       "Reservation                      Tribe                                                            \n",
       "Navajo Nation                    Navajo                                         Window Rock, AZ   \n",
       "                                 Navajo                                          Scottsdale, AZ   \n",
       "Uintah and Ouray Reservation     Ute                                          Fort Duchesne, UT   \n",
       "                                 Ute                                                  Provo, UT   \n",
       "Rosebud Indian Reservation       Rosebud Sioux                                      Mission, SD   \n",
       "                                 Rosebud Sioux                                   Rapid City, SD   \n",
       "Wind River Reservation           Eastern Shoshone; Northern Arapaho           Fort Washakie, WY   \n",
       "                                 Eastern Shoshone; Northern Arapaho                  Casper, WY   \n",
       "Cherokee Nation                  Cherokee - Eastern band                           Whittier, NC   \n",
       "                                 Cherokee - Eastern band                              Sylva, NC   \n",
       "                                 Cherokee                                         Tahlequah, OK   \n",
       "                                 Cherokee                                             Tusla, OK   \n",
       "Lake Traverse Indian Reservation Sisseton Wahpeton Oyate                           Sisseton, SD   \n",
       "                                 Sisseton Wahpeton Oyate                          Watertown, SD   \n",
       "Pine Ridge Reservation           Oglala Sioux                                    Pine Ridge, SD   \n",
       "                                 Oglala Sioux                                     Watertown, SD   \n",
       "Gila River Indian Reservation    Akimel O'odham (Pima) & Pee-Posh (Maricopa)        Phoenix, AZ   \n",
       "                                 Akimel O'odham (Pima) & Pee-Posh (Maricopa)        Phoenix, AZ   \n",
       "Blackfeet Indian Reservation     Blackfoot (Niitsitapi)                            Browning, MT   \n",
       "                                 Blackfoot (Niitsitapi)                            Billings, MT   \n",
       "\n",
       "                                                                                                  Grocery store  \\\n",
       "Reservation                      Tribe                                                                            \n",
       "Navajo Nation                    Navajo                                                                 Bashas'   \n",
       "                                 Navajo                                                                 Walmart   \n",
       "Uintah and Ouray Reservation     Ute                                                      ute_plaza_supermarket   \n",
       "                                 Ute                                                                    Walmart   \n",
       "Rosebud Indian Reservation       Rosebud Sioux                                Turtle Creek Crossing Super Foods   \n",
       "                                 Rosebud Sioux                                                          Walmart   \n",
       "Wind River Reservation           Eastern Shoshone; Northern Arapaho                                     Smith's   \n",
       "                                 Eastern Shoshone; Northern Arapaho                                     Walmart   \n",
       "Cherokee Nation                  Cherokee - Eastern band                                              Food Lion   \n",
       "                                 Cherokee - Eastern band                                               Walmart    \n",
       "                                 Cherokee                                                              Reasor's   \n",
       "                                 Cherokee                                                              Walmart    \n",
       "Lake Traverse Indian Reservation Sisseton Wahpeton Oyate                                            Buche Foods   \n",
       "                                 Sisseton Wahpeton Oyate                                               Walmart    \n",
       "Pine Ridge Reservation           Oglala Sioux                                                       Buche Foods   \n",
       "                                 Oglala Sioux                                                          Walmart    \n",
       "Gila River Indian Reservation    Akimel O'odham (Pima) & Pee-Posh (Maricopa)                           frysfood   \n",
       "                                 Akimel O'odham (Pima) & Pee-Posh (Maricopa)                            Walmart   \n",
       "Blackfeet Indian Reservation     Blackfoot (Niitsitapi)                                    Glacier Family Foods   \n",
       "                                 Blackfoot (Niitsitapi)                                                 Walmart   \n",
       "\n",
       "                                                                              Apple  \\\n",
       "Reservation                      Tribe                                                \n",
       "Navajo Nation                    Navajo                                        1.69   \n",
       "                                 Navajo                                        1.32   \n",
       "Uintah and Ouray Reservation     Ute                                           1.14   \n",
       "                                 Ute                                           1.28   \n",
       "Rosebud Indian Reservation       Rosebud Sioux                                 1.29   \n",
       "                                 Rosebud Sioux                                 1.37   \n",
       "Wind River Reservation           Eastern Shoshone; Northern Arapaho            0.88   \n",
       "                                 Eastern Shoshone; Northern Arapaho            1.34   \n",
       "Cherokee Nation                  Cherokee - Eastern band                       1.39   \n",
       "                                 Cherokee - Eastern band                       1.37   \n",
       "                                 Cherokee                                      1.39   \n",
       "                                 Cherokee                                      1.97   \n",
       "Lake Traverse Indian Reservation Sisseton Wahpeton Oyate                       1.89   \n",
       "                                 Sisseton Wahpeton Oyate                       1.29   \n",
       "Pine Ridge Reservation           Oglala Sioux                                  1.29   \n",
       "                                 Oglala Sioux                                  1.29   \n",
       "Gila River Indian Reservation    Akimel O'odham (Pima) & Pee-Posh (Maricopa)   1.21   \n",
       "                                 Akimel O'odham (Pima) & Pee-Posh (Maricopa)   1.32   \n",
       "Blackfeet Indian Reservation     Blackfoot (Niitsitapi)                        0.99   \n",
       "                                 Blackfoot (Niitsitapi)                        1.34   \n",
       "\n",
       "                                                                               Egg  \\\n",
       "Reservation                      Tribe                                               \n",
       "Navajo Nation                    Navajo                                       3.59   \n",
       "                                 Navajo                                       3.36   \n",
       "Uintah and Ouray Reservation     Ute                                          3.09   \n",
       "                                 Ute                                          2.08   \n",
       "Rosebud Indian Reservation       Rosebud Sioux                                5.09   \n",
       "                                 Rosebud Sioux                                2.78   \n",
       "Wind River Reservation           Eastern Shoshone; Northern Arapaho           2.99   \n",
       "                                 Eastern Shoshone; Northern Arapaho           2.78   \n",
       "Cherokee Nation                  Cherokee - Eastern band                      3.29   \n",
       "                                 Cherokee - Eastern band                      2.78   \n",
       "                                 Cherokee                                     2.79   \n",
       "                                 Cherokee                                     2.78   \n",
       "Lake Traverse Indian Reservation Sisseton Wahpeton Oyate                      4.39   \n",
       "                                 Sisseton Wahpeton Oyate                      2.78   \n",
       "Pine Ridge Reservation           Oglala Sioux                                 3.85   \n",
       "                                 Oglala Sioux                                 2.78   \n",
       "Gila River Indian Reservation    Akimel O'odham (Pima) & Pee-Posh (Maricopa)  3.29   \n",
       "                                 Akimel O'odham (Pima) & Pee-Posh (Maricopa)  3.36   \n",
       "Blackfeet Indian Reservation     Blackfoot (Niitsitapi)                       3.79   \n",
       "                                 Blackfoot (Niitsitapi)                       2.78   \n",
       "\n",
       "                                                                              Ground beef  \\\n",
       "Reservation                      Tribe                                                      \n",
       "Navajo Nation                    Navajo                                              6.75   \n",
       "                                 Navajo                                              4.88   \n",
       "Uintah and Ouray Reservation     Ute                                                 3.79   \n",
       "                                 Ute                                                 4.43   \n",
       "Rosebud Indian Reservation       Rosebud Sioux                                       3.99   \n",
       "                                 Rosebud Sioux                                       4.99   \n",
       "Wind River Reservation           Eastern Shoshone; Northern Arapaho                  4.99   \n",
       "                                 Eastern Shoshone; Northern Arapaho                  4.88   \n",
       "Cherokee Nation                  Cherokee - Eastern band                             4.19   \n",
       "                                 Cherokee - Eastern band                             5.97   \n",
       "                                 Cherokee                                            6.29   \n",
       "                                 Cherokee                                            4.88   \n",
       "Lake Traverse Indian Reservation Sisseton Wahpeton Oyate                             4.89   \n",
       "                                 Sisseton Wahpeton Oyate                             3.59   \n",
       "Pine Ridge Reservation           Oglala Sioux                                        5.99   \n",
       "                                 Oglala Sioux                                        3.59   \n",
       "Gila River Indian Reservation    Akimel O'odham (Pima) & Pee-Posh (Maricopa)         5.49   \n",
       "                                 Akimel O'odham (Pima) & Pee-Posh (Maricopa)         4.88   \n",
       "Blackfeet Indian Reservation     Blackfoot (Niitsitapi)                              3.99   \n",
       "                                 Blackfoot (Niitsitapi)                              3.59   \n",
       "\n",
       "                                                                              Loaf of white bread  \\\n",
       "Reservation                      Tribe                                                              \n",
       "Navajo Nation                    Navajo                                                      2.49   \n",
       "                                 Navajo                                                      1.42   \n",
       "Uintah and Ouray Reservation     Ute                                                         2.89   \n",
       "                                 Ute                                                         1.42   \n",
       "Rosebud Indian Reservation       Rosebud Sioux                                               2.19   \n",
       "                                 Rosebud Sioux                                               1.42   \n",
       "Wind River Reservation           Eastern Shoshone; Northern Arapaho                          2.19   \n",
       "                                 Eastern Shoshone; Northern Arapaho                          1.42   \n",
       "Cherokee Nation                  Cherokee - Eastern band                                     1.59   \n",
       "                                 Cherokee - Eastern band                                     1.42   \n",
       "                                 Cherokee                                                    3.69   \n",
       "                                 Cherokee                                                    2.62   \n",
       "Lake Traverse Indian Reservation Sisseton Wahpeton Oyate                                     2.29   \n",
       "                                 Sisseton Wahpeton Oyate                                     1.42   \n",
       "Pine Ridge Reservation           Oglala Sioux                                                3.29   \n",
       "                                 Oglala Sioux                                                1.42   \n",
       "Gila River Indian Reservation    Akimel O'odham (Pima) & Pee-Posh (Maricopa)                 3.99   \n",
       "                                 Akimel O'odham (Pima) & Pee-Posh (Maricopa)                 1.42   \n",
       "Blackfeet Indian Reservation     Blackfoot (Niitsitapi)                                      2.69   \n",
       "                                 Blackfoot (Niitsitapi)                                      1.42   \n",
       "\n",
       "                                                                              Whole Milk  \\\n",
       "Reservation                      Tribe                                                     \n",
       "Navajo Nation                    Navajo                                             2.79   \n",
       "                                 Navajo                                             2.12   \n",
       "Uintah and Ouray Reservation     Ute                                                2.49   \n",
       "                                 Ute                                                2.68   \n",
       "Rosebud Indian Reservation       Rosebud Sioux                                      3.99   \n",
       "                                 Rosebud Sioux                                      3.12   \n",
       "Wind River Reservation           Eastern Shoshone; Northern Arapaho                 3.79   \n",
       "                                 Eastern Shoshone; Northern Arapaho                 3.22   \n",
       "Cherokee Nation                  Cherokee - Eastern band                            2.89   \n",
       "                                 Cherokee - Eastern band                            2.82   \n",
       "                                 Cherokee                                           5.19   \n",
       "                                 Cherokee                                           3.26   \n",
       "Lake Traverse Indian Reservation Sisseton Wahpeton Oyate                            3.99   \n",
       "                                 Sisseton Wahpeton Oyate                            2.83   \n",
       "Pine Ridge Reservation           Oglala Sioux                                       3.99   \n",
       "                                 Oglala Sioux                                       2.83   \n",
       "Gila River Indian Reservation    Akimel O'odham (Pima) & Pee-Posh (Maricopa)        2.29   \n",
       "                                 Akimel O'odham (Pima) & Pee-Posh (Maricopa)        2.12   \n",
       "Blackfeet Indian Reservation     Blackfoot (Niitsitapi)                             4.29   \n",
       "                                 Blackfoot (Niitsitapi)                             2.92   \n",
       "\n",
       "                                                                              Tomato  \\\n",
       "Reservation                      Tribe                                                 \n",
       "Navajo Nation                    Navajo                                         1.09   \n",
       "                                 Navajo                                         1.48   \n",
       "Uintah and Ouray Reservation     Ute                                            2.39   \n",
       "                                 Ute                                            1.98   \n",
       "Rosebud Indian Reservation       Rosebud Sioux                                  2.79   \n",
       "                                 Rosebud Sioux                                  1.98   \n",
       "Wind River Reservation           Eastern Shoshone; Northern Arapaho             1.29   \n",
       "                                 Eastern Shoshone; Northern Arapaho             1.98   \n",
       "Cherokee Nation                  Cherokee - Eastern band                        1.29   \n",
       "                                 Cherokee - Eastern band                        1.28   \n",
       "                                 Cherokee                                       0.89   \n",
       "                                 Cherokee                                       0.98   \n",
       "Lake Traverse Indian Reservation Sisseton Wahpeton Oyate                        0.99   \n",
       "                                 Sisseton Wahpeton Oyate                        1.28   \n",
       "Pine Ridge Reservation           Oglala Sioux                                   3.19   \n",
       "                                 Oglala Sioux                                   1.28   \n",
       "Gila River Indian Reservation    Akimel O'odham (Pima) & Pee-Posh (Maricopa)    1.01   \n",
       "                                 Akimel O'odham (Pima) & Pee-Posh (Maricopa)    1.48   \n",
       "Blackfeet Indian Reservation     Blackfoot (Niitsitapi)                         1.59   \n",
       "                                 Blackfoot (Niitsitapi)                         1.28   \n",
       "\n",
       "                                                                              Whole Chicken  \\\n",
       "Reservation                      Tribe                                                        \n",
       "Navajo Nation                    Navajo                                                2.59   \n",
       "                                 Navajo                                                1.46   \n",
       "Uintah and Ouray Reservation     Ute                                                   2.99   \n",
       "                                 Ute                                                   1.46   \n",
       "Rosebud Indian Reservation       Rosebud Sioux                                          NaN   \n",
       "                                 Rosebud Sioux                                         1.46   \n",
       "Wind River Reservation           Eastern Shoshone; Northern Arapaho                    3.99   \n",
       "                                 Eastern Shoshone; Northern Arapaho                    1.46   \n",
       "Cherokee Nation                  Cherokee - Eastern band                               1.99   \n",
       "                                 Cherokee - Eastern band                               1.67   \n",
       "                                 Cherokee                                              1.39   \n",
       "                                 Cherokee                                              1.46   \n",
       "Lake Traverse Indian Reservation Sisseton Wahpeton Oyate                               4.99   \n",
       "                                 Sisseton Wahpeton Oyate                               1.32   \n",
       "Pine Ridge Reservation           Oglala Sioux                                          2.59   \n",
       "                                 Oglala Sioux                                          1.32   \n",
       "Gila River Indian Reservation    Akimel O'odham (Pima) & Pee-Posh (Maricopa)           2.00   \n",
       "                                 Akimel O'odham (Pima) & Pee-Posh (Maricopa)           1.46   \n",
       "Blackfeet Indian Reservation     Blackfoot (Niitsitapi)                                3.79   \n",
       "                                 Blackfoot (Niitsitapi)                                1.32   \n",
       "\n",
       "                                                                              Carrots  \\\n",
       "Reservation                      Tribe                                                  \n",
       "Navajo Nation                    Navajo                                          1.49   \n",
       "                                 Navajo                                          1.38   \n",
       "Uintah and Ouray Reservation     Ute                                             1.59   \n",
       "                                 Ute                                             1.38   \n",
       "Rosebud Indian Reservation       Rosebud Sioux                                   1.25   \n",
       "                                 Rosebud Sioux                                   1.38   \n",
       "Wind River Reservation           Eastern Shoshone; Northern Arapaho              0.99   \n",
       "                                 Eastern Shoshone; Northern Arapaho              1.38   \n",
       "Cherokee Nation                  Cherokee - Eastern band                         0.69   \n",
       "                                 Cherokee - Eastern band                         1.66   \n",
       "                                 Cherokee                                        1.29   \n",
       "                                 Cherokee                                        0.99   \n",
       "Lake Traverse Indian Reservation Sisseton Wahpeton Oyate                         1.45   \n",
       "                                 Sisseton Wahpeton Oyate                         1.38   \n",
       "Pine Ridge Reservation           Oglala Sioux                                    1.25   \n",
       "                                 Oglala Sioux                                    0.78   \n",
       "Gila River Indian Reservation    Akimel O'odham (Pima) & Pee-Posh (Maricopa)     0.75   \n",
       "                                 Akimel O'odham (Pima) & Pee-Posh (Maricopa)     1.38   \n",
       "Blackfeet Indian Reservation     Blackfoot (Niitsitapi)                          1.99   \n",
       "                                 Blackfoot (Niitsitapi)                          0.98   \n",
       "\n",
       "                                                                              Spaghetti  \\\n",
       "Reservation                      Tribe                                                    \n",
       "Navajo Nation                    Navajo                                            1.69   \n",
       "                                 Navajo                                            0.98   \n",
       "Uintah and Ouray Reservation     Ute                                               1.99   \n",
       "                                 Ute                                               0.98   \n",
       "Rosebud Indian Reservation       Rosebud Sioux                                     2.25   \n",
       "                                 Rosebud Sioux                                     0.98   \n",
       "Wind River Reservation           Eastern Shoshone; Northern Arapaho                1.69   \n",
       "                                 Eastern Shoshone; Northern Arapaho                0.98   \n",
       "Cherokee Nation                  Cherokee - Eastern band                           1.69   \n",
       "                                 Cherokee - Eastern band                           0.98   \n",
       "                                 Cherokee                                          1.19   \n",
       "                                 Cherokee                                          0.98   \n",
       "Lake Traverse Indian Reservation Sisseton Wahpeton Oyate                           0.88   \n",
       "                                 Sisseton Wahpeton Oyate                           0.98   \n",
       "Pine Ridge Reservation           Oglala Sioux                                      1.69   \n",
       "                                 Oglala Sioux                                      0.98   \n",
       "Gila River Indian Reservation    Akimel O'odham (Pima) & Pee-Posh (Maricopa)       1.99   \n",
       "                                 Akimel O'odham (Pima) & Pee-Posh (Maricopa)       0.98   \n",
       "Blackfeet Indian Reservation     Blackfoot (Niitsitapi)                            1.25   \n",
       "                                 Blackfoot (Niitsitapi)                            0.98   \n",
       "\n",
       "                                                                              Corn  \\\n",
       "Reservation                      Tribe                                               \n",
       "Navajo Nation                    Navajo                                       1.19   \n",
       "                                 Navajo                                       0.64   \n",
       "Uintah and Ouray Reservation     Ute                                          1.99   \n",
       "                                 Ute                                          0.64   \n",
       "Rosebud Indian Reservation       Rosebud Sioux                                1.75   \n",
       "                                 Rosebud Sioux                                0.64   \n",
       "Wind River Reservation           Eastern Shoshone; Northern Arapaho           1.67   \n",
       "                                 Eastern Shoshone; Northern Arapaho           0.64   \n",
       "Cherokee Nation                  Cherokee - Eastern band                      1.25   \n",
       "                                 Cherokee - Eastern band                      0.74   \n",
       "                                 Cherokee                                     0.99   \n",
       "                                 Cherokee                                     0.99   \n",
       "Lake Traverse Indian Reservation Sisseton Wahpeton Oyate                      1.75   \n",
       "                                 Sisseton Wahpeton Oyate                      0.64   \n",
       "Pine Ridge Reservation           Oglala Sioux                                 1.48   \n",
       "                                 Oglala Sioux                                 0.64   \n",
       "Gila River Indian Reservation    Akimel O'odham (Pima) & Pee-Posh (Maricopa)  1.56   \n",
       "                                 Akimel O'odham (Pima) & Pee-Posh (Maricopa)  0.64   \n",
       "Blackfeet Indian Reservation     Blackfoot (Niitsitapi)                       2.50   \n",
       "                                 Blackfoot (Niitsitapi)                       0.64   \n",
       "\n",
       "                                                                              Cheetos  \\\n",
       "Reservation                      Tribe                                                  \n",
       "Navajo Nation                    Navajo                                          6.39   \n",
       "                                 Navajo                                          4.48   \n",
       "Uintah and Ouray Reservation     Ute                                             6.29   \n",
       "                                 Ute                                             4.48   \n",
       "Rosebud Indian Reservation       Rosebud Sioux                                    NaN   \n",
       "                                 Rosebud Sioux                                   4.45   \n",
       "Wind River Reservation           Eastern Shoshone; Northern Arapaho              5.69   \n",
       "                                 Eastern Shoshone; Northern Arapaho              4.48   \n",
       "Cherokee Nation                  Cherokee - Eastern band                         5.89   \n",
       "                                 Cherokee - Eastern band                         4.48   \n",
       "                                 Cherokee                                        5.69   \n",
       "                                 Cherokee                                        4.48   \n",
       "Lake Traverse Indian Reservation Sisseton Wahpeton Oyate                         5.89   \n",
       "                                 Sisseton Wahpeton Oyate                         3.98   \n",
       "Pine Ridge Reservation           Oglala Sioux                                    5.69   \n",
       "                                 Oglala Sioux                                    3.98   \n",
       "Gila River Indian Reservation    Akimel O'odham (Pima) & Pee-Posh (Maricopa)     4.18   \n",
       "                                 Akimel O'odham (Pima) & Pee-Posh (Maricopa)     4.48   \n",
       "Blackfeet Indian Reservation     Blackfoot (Niitsitapi)                          4.00   \n",
       "                                 Blackfoot (Niitsitapi)                          4.48   \n",
       "\n",
       "                                                                              Potatoes  \\\n",
       "Reservation                      Tribe                                                   \n",
       "Navajo Nation                    Navajo                                           1.16   \n",
       "                                 Navajo                                           0.97   \n",
       "Uintah and Ouray Reservation     Ute                                              0.69   \n",
       "                                 Ute                                              0.87   \n",
       "Rosebud Indian Reservation       Rosebud Sioux                                    0.64   \n",
       "                                 Rosebud Sioux                                    0.88   \n",
       "Wind River Reservation           Eastern Shoshone; Northern Arapaho               0.99   \n",
       "                                 Eastern Shoshone; Northern Arapaho               0.88   \n",
       "Cherokee Nation                  Cherokee - Eastern band                          1.39   \n",
       "                                 Cherokee - Eastern band                          0.82   \n",
       "                                 Cherokee                                         0.99   \n",
       "                                 Cherokee                                         0.82   \n",
       "Lake Traverse Indian Reservation Sisseton Wahpeton Oyate                          0.19   \n",
       "                                 Sisseton Wahpeton Oyate                          0.78   \n",
       "Pine Ridge Reservation           Oglala Sioux                                     0.44   \n",
       "                                 Oglala Sioux                                     0.57   \n",
       "Gila River Indian Reservation    Akimel O'odham (Pima) & Pee-Posh (Maricopa)      0.66   \n",
       "                                 Akimel O'odham (Pima) & Pee-Posh (Maricopa)      0.97   \n",
       "Blackfeet Indian Reservation     Blackfoot (Niitsitapi)                           0.79   \n",
       "                                 Blackfoot (Niitsitapi)                           0.49   \n",
       "\n",
       "                                                                              Cauliflower  \\\n",
       "Reservation                      Tribe                                                      \n",
       "Navajo Nation                    Navajo                                              1.69   \n",
       "                                 Navajo                                              3.68   \n",
       "Uintah and Ouray Reservation     Ute                                                 2.19   \n",
       "                                 Ute                                                 3.68   \n",
       "Rosebud Indian Reservation       Rosebud Sioux                                       3.37   \n",
       "                                 Rosebud Sioux                                       3.68   \n",
       "Wind River Reservation           Eastern Shoshone; Northern Arapaho                  1.49   \n",
       "                                 Eastern Shoshone; Northern Arapaho                  3.68   \n",
       "Cherokee Nation                  Cherokee - Eastern band                             3.61   \n",
       "                                 Cherokee - Eastern band                             3.68   \n",
       "                                 Cherokee                                            3.61   \n",
       "                                 Cherokee                                            3.68   \n",
       "Lake Traverse Indian Reservation Sisseton Wahpeton Oyate                             3.69   \n",
       "                                 Sisseton Wahpeton Oyate                             2.94   \n",
       "Pine Ridge Reservation           Oglala Sioux                                        3.37   \n",
       "                                 Oglala Sioux                                        2.94   \n",
       "Gila River Indian Reservation    Akimel O'odham (Pima) & Pee-Posh (Maricopa)         3.13   \n",
       "                                 Akimel O'odham (Pima) & Pee-Posh (Maricopa)         3.68   \n",
       "Blackfeet Indian Reservation     Blackfoot (Niitsitapi)                              2.49   \n",
       "                                 Blackfoot (Niitsitapi)                              2.94   \n",
       "\n",
       "                                                                              Broccoli  \n",
       "Reservation                      Tribe                                                  \n",
       "Navajo Nation                    Navajo                                           2.29  \n",
       "                                 Navajo                                           1.74  \n",
       "Uintah and Ouray Reservation     Ute                                              2.59  \n",
       "                                 Ute                                              1.74  \n",
       "Rosebud Indian Reservation       Rosebud Sioux                                    2.66  \n",
       "                                 Rosebud Sioux                                    1.74  \n",
       "Wind River Reservation           Eastern Shoshone; Northern Arapaho               1.99  \n",
       "                                 Eastern Shoshone; Northern Arapaho               1.74  \n",
       "Cherokee Nation                  Cherokee - Eastern band                          2.24  \n",
       "                                 Cherokee - Eastern band                          2.18  \n",
       "                                 Cherokee                                         1.69  \n",
       "                                 Cherokee                                         1.74  \n",
       "Lake Traverse Indian Reservation Sisseton Wahpeton Oyate                          3.69  \n",
       "                                 Sisseton Wahpeton Oyate                          1.74  \n",
       "Pine Ridge Reservation           Oglala Sioux                                     2.66  \n",
       "                                 Oglala Sioux                                     1.74  \n",
       "Gila River Indian Reservation    Akimel O'odham (Pima) & Pee-Posh (Maricopa)      1.99  \n",
       "                                 Akimel O'odham (Pima) & Pee-Posh (Maricopa)      1.74  \n",
       "Blackfeet Indian Reservation     Blackfoot (Niitsitapi)                           1.89  \n",
       "                                 Blackfoot (Niitsitapi)                           1.74  "
      ]
     },
     "execution_count": 5,
     "metadata": {},
     "output_type": "execute_result"
    }
   ],
   "source": [
    "from eep153_tools.sheets import read_sheets\n",
    "\n",
    "food_price = read_sheets(\"https://docs.google.com/spreadsheets/d/1LGkbkm4NYZqV2Fubt8Px2PXVY_3tH1y2d6wIERyK0jk/edit?usp=sharing\",sheet='price_information')\n",
    "\n",
    "food_information = read_sheets(\"https://docs.google.com/spreadsheets/d/1LGkbkm4NYZqV2Fubt8Px2PXVY_3tH1y2d6wIERyK0jk/edit?usp=sharing\",sheet='food_information')\n",
    "\n",
    "food_price=food_price.set_index([\"Reservation\", \"Tribe\"])\n",
    "food_information = food_information.set_index([\"Food\"])\n",
    "food_price"
   ]
  },
  {
   "cell_type": "code",
   "execution_count": 6,
   "id": "a1570902-8ca9-4077-92be-cc4eb318b0b6",
   "metadata": {},
   "outputs": [
    {
     "data": {
      "text/html": [
       "<div>\n",
       "<style scoped>\n",
       "    .dataframe tbody tr th:only-of-type {\n",
       "        vertical-align: middle;\n",
       "    }\n",
       "\n",
       "    .dataframe tbody tr th {\n",
       "        vertical-align: top;\n",
       "    }\n",
       "\n",
       "    .dataframe thead th {\n",
       "        text-align: right;\n",
       "    }\n",
       "</style>\n",
       "<table border=\"1\" class=\"dataframe\">\n",
       "  <thead>\n",
       "    <tr style=\"text-align: right;\">\n",
       "      <th></th>\n",
       "      <th>Quantity</th>\n",
       "      <th>Unit</th>\n",
       "      <th>FDC</th>\n",
       "      <th>reservation_ave_price</th>\n",
       "      <th>walmart_ave_price</th>\n",
       "    </tr>\n",
       "    <tr>\n",
       "      <th>Food</th>\n",
       "      <th></th>\n",
       "      <th></th>\n",
       "      <th></th>\n",
       "      <th></th>\n",
       "      <th></th>\n",
       "    </tr>\n",
       "  </thead>\n",
       "  <tbody>\n",
       "    <tr>\n",
       "      <th>Apple</th>\n",
       "      <td>1.0</td>\n",
       "      <td>pound</td>\n",
       "      <td>454004</td>\n",
       "      <td>1.362857</td>\n",
       "      <td>1.328333</td>\n",
       "    </tr>\n",
       "    <tr>\n",
       "      <th>Egg</th>\n",
       "      <td>12.0</td>\n",
       "      <td>xl_egg</td>\n",
       "      <td>1663044</td>\n",
       "      <td>3.377143</td>\n",
       "      <td>2.856667</td>\n",
       "    </tr>\n",
       "    <tr>\n",
       "      <th>Ground beef</th>\n",
       "      <td>1.0</td>\n",
       "      <td>pound</td>\n",
       "      <td>1942314</td>\n",
       "      <td>4.885000</td>\n",
       "      <td>4.608333</td>\n",
       "    </tr>\n",
       "    <tr>\n",
       "      <th>Loaf of white bread</th>\n",
       "      <td>1.0</td>\n",
       "      <td>pound</td>\n",
       "      <td>2071641</td>\n",
       "      <td>2.441429</td>\n",
       "      <td>1.420000</td>\n",
       "    </tr>\n",
       "    <tr>\n",
       "      <th>Whole Milk</th>\n",
       "      <td>1.0</td>\n",
       "      <td>gallon</td>\n",
       "      <td>2340762</td>\n",
       "      <td>3.388571</td>\n",
       "      <td>2.696667</td>\n",
       "    </tr>\n",
       "    <tr>\n",
       "      <th>Tomato</th>\n",
       "      <td>1.0</td>\n",
       "      <td>pound</td>\n",
       "      <td>2345232</td>\n",
       "      <td>1.524286</td>\n",
       "      <td>1.696667</td>\n",
       "    </tr>\n",
       "    <tr>\n",
       "      <th>Whole Chicken</th>\n",
       "      <td>1.0</td>\n",
       "      <td>pound</td>\n",
       "      <td>2683347</td>\n",
       "      <td>2.468462</td>\n",
       "      <td>1.436667</td>\n",
       "    </tr>\n",
       "    <tr>\n",
       "      <th>Carrots</th>\n",
       "      <td>1.0</td>\n",
       "      <td>pound</td>\n",
       "      <td>2345173</td>\n",
       "      <td>1.253571</td>\n",
       "      <td>1.313333</td>\n",
       "    </tr>\n",
       "    <tr>\n",
       "      <th>Spaghetti</th>\n",
       "      <td>16.0</td>\n",
       "      <td>oz</td>\n",
       "      <td>2099117</td>\n",
       "      <td>1.445000</td>\n",
       "      <td>0.980000</td>\n",
       "    </tr>\n",
       "    <tr>\n",
       "      <th>Corn</th>\n",
       "      <td>15.0</td>\n",
       "      <td>oz</td>\n",
       "      <td>2345444</td>\n",
       "      <td>1.367143</td>\n",
       "      <td>0.640000</td>\n",
       "    </tr>\n",
       "    <tr>\n",
       "      <th>Cheetos</th>\n",
       "      <td>8.5</td>\n",
       "      <td>oz</td>\n",
       "      <td>2343686</td>\n",
       "      <td>5.125385</td>\n",
       "      <td>4.475000</td>\n",
       "    </tr>\n",
       "    <tr>\n",
       "      <th>Potatoes</th>\n",
       "      <td>1.0</td>\n",
       "      <td>pound</td>\n",
       "      <td>170032</td>\n",
       "      <td>0.780714</td>\n",
       "      <td>0.843333</td>\n",
       "    </tr>\n",
       "    <tr>\n",
       "      <th>Cauliflower</th>\n",
       "      <td>1.0</td>\n",
       "      <td>pound</td>\n",
       "      <td>1602295</td>\n",
       "      <td>2.991429</td>\n",
       "      <td>3.556667</td>\n",
       "    </tr>\n",
       "    <tr>\n",
       "      <th>Broccoli</th>\n",
       "      <td>1.0</td>\n",
       "      <td>pound</td>\n",
       "      <td>1935906</td>\n",
       "      <td>2.220714</td>\n",
       "      <td>1.740000</td>\n",
       "    </tr>\n",
       "  </tbody>\n",
       "</table>\n",
       "</div>"
      ],
      "text/plain": [
       "                     Quantity    Unit      FDC  reservation_ave_price  \\\n",
       "Food                                                                    \n",
       "Apple                     1.0   pound   454004               1.362857   \n",
       "Egg                      12.0  xl_egg  1663044               3.377143   \n",
       "Ground beef               1.0   pound  1942314               4.885000   \n",
       "Loaf of white bread       1.0   pound  2071641               2.441429   \n",
       "Whole Milk                1.0  gallon  2340762               3.388571   \n",
       "Tomato                    1.0   pound  2345232               1.524286   \n",
       "Whole Chicken             1.0   pound  2683347               2.468462   \n",
       "Carrots                   1.0   pound  2345173               1.253571   \n",
       "Spaghetti                16.0      oz  2099117               1.445000   \n",
       "Corn                     15.0      oz  2345444               1.367143   \n",
       "Cheetos                   8.5      oz  2343686               5.125385   \n",
       "Potatoes                  1.0   pound   170032               0.780714   \n",
       "Cauliflower               1.0   pound  1602295               2.991429   \n",
       "Broccoli                  1.0   pound  1935906               2.220714   \n",
       "\n",
       "                     walmart_ave_price  \n",
       "Food                                    \n",
       "Apple                         1.328333  \n",
       "Egg                           2.856667  \n",
       "Ground beef                   4.608333  \n",
       "Loaf of white bread           1.420000  \n",
       "Whole Milk                    2.696667  \n",
       "Tomato                        1.696667  \n",
       "Whole Chicken                 1.436667  \n",
       "Carrots                       1.313333  \n",
       "Spaghetti                     0.980000  \n",
       "Corn                          0.640000  \n",
       "Cheetos                       4.475000  \n",
       "Potatoes                      0.843333  \n",
       "Cauliflower                   3.556667  \n",
       "Broccoli                      1.740000  "
      ]
     },
     "execution_count": 6,
     "metadata": {},
     "output_type": "execute_result"
    }
   ],
   "source": [
    "food_information['reservation_ave_price'] = np.mean(food_price[food_price['Grocery store']!='Walmart'].iloc[:,2:16], axis=0)\n",
    "food_information['walmart_ave_price'] = np.mean(food_price[food_price['Grocery store']=='Walmart'].iloc[:,2:16], axis=0)\n",
    "food_information"
   ]
  },
  {
   "cell_type": "markdown",
   "id": "a7086dc8-69ea-4603-b3c9-ae0a8caae216",
   "metadata": {},
   "source": [
    "## Helpful Data Analysis Plots"
   ]
  },
  {
   "cell_type": "code",
   "execution_count": 7,
   "id": "18270e0a-b3cf-484d-87e4-3f2ee0459024",
   "metadata": {},
   "outputs": [
    {
     "data": {
      "image/png": "[encoded data removed]",
      "text/plain": [
       "<Figure size 1300x500 with 1 Axes>"
      ]
     },
     "metadata": {},
     "output_type": "display_data"
    }
   ],
   "source": [
    "plt.figure(figsize=(13,5))\n",
    "X = food_information.index \n",
    "Y_reservation_average_price = food_information['reservation_ave_price']\n",
    "Z_walmart_ave_price = food_information['walmart_ave_price']\n",
    "  \n",
    "X_axis = np.arange(len(X)) \n",
    "  \n",
    "plt.bar(X_axis - 0.2, Y_reservation_average_price, 0.4, label = 'Researvations') \n",
    "plt.bar(X_axis + 0.2, Z_walmart_ave_price, 0.4, label = 'Near City Walmart') \n",
    "  \n",
    "plt.xticks(X_axis, X, fontsize=6) \n",
    "plt.xlabel(\"Food\", fontsize=13) \n",
    "plt.ylabel(\"Average Price\", fontsize=13) \n",
    "plt.title(\"Average Prices Comparison between Reservation and Walmart in food\",fontsize=16) \n",
    "plt.legend() \n",
    "plt.show() "
   ]
  },
  {
   "cell_type": "markdown",
   "id": "9431eba7-77d3-46b4-a47f-eae6acc65f31",
   "metadata": {},
   "source": [
    "## Minimum Subsistance Food Cost"
   ]
  },
  {
   "cell_type": "code",
   "execution_count": 8,
   "id": "c20f7b7f-e25f-4970-a345-3f5f36dfc582",
   "metadata": {},
   "outputs": [],
   "source": [
    "apikey = \"PYsA9PuIqBESOYtWIQtsYmRj1wHxQd52DHjDr0Hl\""
   ]
  },
  {
   "cell_type": "code",
   "execution_count": 9,
   "id": "8282dc0b-0fd5-4cf3-a76d-a8791b85bd65",
   "metadata": {},
   "outputs": [
    {
     "name": "stdout",
     "output_type": "stream",
     "text": [
      "Requirement already satisfied: Pint>=0.8.1 in /srv/conda/lib/python3.9/site-packages (from -r requirements.txt (line 2)) (0.17)\n",
      "Collecting Pint>=0.8.1\n",
      "  Using cached Pint-0.23-py3-none-any.whl (305 kB)\n",
      "Requirement already satisfied: numpy>=1.15.0 in /srv/conda/lib/python3.9/site-packages (from -r requirements.txt (line 6)) (1.22.4)\n",
      "Collecting numpy>=1.15.0\n",
      "  Using cached numpy-1.26.4-cp39-cp39-manylinux_2_17_x86_64.manylinux2014_x86_64.whl (18.2 MB)\n",
      "Requirement already satisfied: pandas>=0.23.3 in /srv/conda/lib/python3.9/site-packages (from -r requirements.txt (line 11)) (2.2.1)\n",
      "Requirement already satisfied: requests>=2.20.0 in /srv/conda/lib/python3.9/site-packages (from -r requirements.txt (line 15)) (2.31.0)\n",
      "Requirement already satisfied: scipy>=1.1.0 in /srv/conda/lib/python3.9/site-packages (from -r requirements.txt (line 18)) (1.10.0)\n",
      "Collecting scipy>=1.1.0\n",
      "  Using cached scipy-1.12.0-cp39-cp39-manylinux_2_17_x86_64.manylinux2014_x86_64.whl (38.5 MB)\n",
      "Requirement already satisfied: gspread in /srv/conda/lib/python3.9/site-packages (from -r requirements.txt (line 20)) (4.0.1)\n",
      "Collecting gspread\n",
      "  Using cached gspread-6.0.2-py3-none-any.whl (53 kB)\n",
      "Requirement already satisfied: gspread_pandas in /srv/conda/lib/python3.9/site-packages (from -r requirements.txt (line 22)) (2.3.0)\n",
      "Collecting gspread_pandas\n",
      "  Using cached gspread_pandas-3.3.0-py2.py3-none-any.whl (27 kB)\n",
      "Collecting bottleneck>=1.3.6\n",
      "  Using cached Bottleneck-1.3.8-cp39-cp39-manylinux_2_5_x86_64.manylinux1_x86_64.manylinux_2_17_x86_64.manylinux2014_x86_64.whl (353 kB)\n",
      "Requirement already satisfied: eep153_tools in /srv/conda/lib/python3.9/site-packages (from -r requirements.txt (line 26)) (0.11)\n",
      "Requirement already satisfied: fooddatacentral in /srv/conda/lib/python3.9/site-packages (from -r requirements.txt (line 28)) (1.0.10)\n",
      "Requirement already satisfied: typing-extensions in /srv/conda/lib/python3.9/site-packages (from Pint>=0.8.1->-r requirements.txt (line 2)) (4.10.0)\n",
      "Requirement already satisfied: tzdata>=2022.7 in /srv/conda/lib/python3.9/site-packages (from pandas>=0.23.3->-r requirements.txt (line 11)) (2024.1)\n",
      "Requirement already satisfied: python-dateutil>=2.8.2 in /srv/conda/lib/python3.9/site-packages (from pandas>=0.23.3->-r requirements.txt (line 11)) (2.9.0)\n",
      "Requirement already satisfied: pytz>=2020.1 in /srv/conda/lib/python3.9/site-packages (from pandas>=0.23.3->-r requirements.txt (line 11)) (2024.1)\n",
      "Requirement already satisfied: charset-normalizer<4,>=2 in /srv/conda/lib/python3.9/site-packages (from requests>=2.20.0->-r requirements.txt (line 15)) (3.1.0)\n",
      "Requirement already satisfied: idna<4,>=2.5 in /srv/conda/lib/python3.9/site-packages (from requests>=2.20.0->-r requirements.txt (line 15)) (3.4)\n",
      "Requirement already satisfied: urllib3<3,>=1.21.1 in /srv/conda/lib/python3.9/site-packages (from requests>=2.20.0->-r requirements.txt (line 15)) (1.26.15)\n",
      "Requirement already satisfied: certifi>=2017.4.17 in /srv/conda/lib/python3.9/site-packages (from requests>=2.20.0->-r requirements.txt (line 15)) (2022.12.7)\n",
      "Requirement already satisfied: google-auth>=1.12.0 in /srv/conda/lib/python3.9/site-packages (from gspread->-r requirements.txt (line 20)) (2.28.1)\n",
      "Requirement already satisfied: google-auth-oauthlib>=0.4.1 in /srv/conda/lib/python3.9/site-packages (from gspread->-r requirements.txt (line 20)) (0.4.5)\n",
      "Collecting StrEnum==0.4.15\n",
      "  Using cached StrEnum-0.4.15-py3-none-any.whl (8.9 kB)\n",
      "Collecting gspread\n",
      "  Using cached gspread-5.12.4-py3-none-any.whl (49 kB)\n",
      "Requirement already satisfied: decorator in /srv/conda/lib/python3.9/site-packages (from gspread_pandas->-r requirements.txt (line 22)) (5.0.9)\n",
      "Requirement already satisfied: cachetools<6.0,>=2.0.0 in /srv/conda/lib/python3.9/site-packages (from google-auth>=1.12.0->gspread->-r requirements.txt (line 20)) (5.3.3)\n",
      "Requirement already satisfied: pyasn1-modules>=0.2.1 in /srv/conda/lib/python3.9/site-packages (from google-auth>=1.12.0->gspread->-r requirements.txt (line 20)) (0.3.0)\n",
      "Requirement already satisfied: rsa<5,>=3.1.4 in /srv/conda/lib/python3.9/site-packages (from google-auth>=1.12.0->gspread->-r requirements.txt (line 20)) (4.9)\n",
      "Requirement already satisfied: requests-oauthlib>=0.7.0 in /srv/conda/lib/python3.9/site-packages (from google-auth-oauthlib>=0.4.1->gspread->-r requirements.txt (line 20)) (1.3.1)\n",
      "Requirement already satisfied: six>=1.5 in /srv/conda/lib/python3.9/site-packages (from python-dateutil>=2.8.2->pandas>=0.23.3->-r requirements.txt (line 11)) (1.16.0)\n",
      "Requirement already satisfied: pyasn1<0.6.0,>=0.4.6 in /srv/conda/lib/python3.9/site-packages (from pyasn1-modules>=0.2.1->google-auth>=1.12.0->gspread->-r requirements.txt (line 20)) (0.5.1)\n",
      "Requirement already satisfied: oauthlib>=3.0.0 in /srv/conda/lib/python3.9/site-packages (from requests-oauthlib>=0.7.0->google-auth-oauthlib>=0.4.1->gspread->-r requirements.txt (line 20)) (3.2.2)\n",
      "Installing collected packages: Pint, numpy, scipy, bottleneck, gspread, gspread_pandas\n",
      "  Attempting uninstall: Pint\n",
      "    Found existing installation: Pint 0.17\n",
      "    Uninstalling Pint-0.17:\n",
      "      Successfully uninstalled Pint-0.17\n",
      "  Attempting uninstall: numpy\n",
      "    Found existing installation: numpy 1.22.4\n",
      "    Uninstalling numpy-1.22.4:\n",
      "      Successfully uninstalled numpy-1.22.4\n",
      "  Attempting uninstall: scipy\n",
      "    Found existing installation: scipy 1.10.0\n",
      "    Uninstalling scipy-1.10.0:\n",
      "      Successfully uninstalled scipy-1.10.0\n",
      "  Attempting uninstall: gspread\n",
      "    Found existing installation: gspread 4.0.1\n",
      "    Uninstalling gspread-4.0.1:\n",
      "      Successfully uninstalled gspread-4.0.1\n",
      "  Attempting uninstall: gspread_pandas\n",
      "    Found existing installation: gspread-pandas 2.3.0\n",
      "    Uninstalling gspread-pandas-2.3.0:\n",
      "      Successfully uninstalled gspread-pandas-2.3.0\n",
      "\u001b[31mERROR: pip's dependency resolver does not currently take into account all the packages that are installed. This behaviour is the source of the following dependency conflicts.\n",
      "linearmodels 0.0.0 requires setuptools-scm[toml]<9.0.0,>=8.0.0, which is not installed.\n",
      "fenics-dolfin 2019.1.0 requires pybind11==2.2.4, but you have pybind11 2.9.2 which is incompatible.\u001b[0m\u001b[31m\n",
      "\u001b[0mSuccessfully installed Pint-0.23 bottleneck-1.3.8 gspread-5.12.4 gspread_pandas-3.3.0 numpy-1.26.4 scipy-1.12.0\n",
      "Note: you may need to restart the kernel to use updated packages.\n"
     ]
    }
   ],
   "source": [
    "%pip install -r requirements.txt --upgrade"
   ]
  },
  {
   "cell_type": "code",
   "execution_count": 10,
   "id": "bab10afa-88d7-46c7-a6c6-358608856546",
   "metadata": {},
   "outputs": [],
   "source": [
    "import fooddatacentral as fdc"
   ]
  },
  {
   "cell_type": "markdown",
   "id": "3c9dfc26-a99a-470e-b4f5-44cc9ebba03f",
   "metadata": {},
   "source": [
    "## Define `solve_subsistence_problem`  function"
   ]
  },
  {
   "cell_type": "code",
   "execution_count": 11,
   "id": "d2acfae2-ebbd-49ad-95b2-6b054aa2edfc",
   "metadata": {},
   "outputs": [],
   "source": [
    "from  scipy.optimize import linprog as lp\n",
    "import numpy as np\n",
    "import warnings\n",
    "\n",
    "def solve_subsistence_problem(FoodNutrients,Prices,dietmin,dietmax,max_weight=None,tol=1e-6):\n",
    "    \"\"\"Solve Stigler's Subsistence Cost Problem.\n",
    "\n",
    "    Inputs:\n",
    "       - FoodNutrients : A pd.DataFrame with rows corresponding to nutrients, columns to food.\n",
    "       - Prices : A pd.Series of prices for different foods\n",
    "       - diet_min : A pd.Series of DRIs, with index corresponding to columns of FoodNutrients,\n",
    "                    describing minimum intakes.\n",
    "       - diet_max : A pd.Series of DRIs, with index corresponding to columns of FoodNutrients,\n",
    "                    describing maximum intakes.\n",
    "       - max_weight : Maximum weight (in hectograms) allowed for diet.\n",
    "       - tol : Solution values smaller than this in absolute value treated as zeros.\n",
    "       \n",
    "    \"\"\"\n",
    "    try: \n",
    "        p = Prices.apply(lambda x:x.magnitude)\n",
    "    except AttributeError:  # Maybe not passing in prices with units?\n",
    "        warnings.warn(\"Prices have no units.  BE CAREFUL!  We're assuming prices are per hectogram or deciliter!\")\n",
    "        p = Prices\n",
    "\n",
    "    p = p.dropna()\n",
    "\n",
    "    # Compile list that we have both prices and nutritional info for; drop if either missing\n",
    "    use = p.index.intersection(FoodNutrients.columns)\n",
    "    p = p[use]\n",
    "\n",
    "    # Drop nutritional information for foods we don't know the price of,\n",
    "    # and replace missing nutrients with zeros.\n",
    "    Aall = FoodNutrients[p.index].fillna(0)\n",
    "\n",
    "    # Drop rows of A that we don't have constraints for.\n",
    "    Amin = Aall.loc[Aall.index.intersection(dietmin.index)]\n",
    "    Amin = Amin.reindex(dietmin.index,axis=0)\n",
    "    idx = Amin.index.to_frame()\n",
    "    idx['type'] = 'min'\n",
    "    #Amin.index = pd.MultiIndex.from_frame(idx)\n",
    "    #dietmin.index = Amin.index\n",
    "    \n",
    "    Amax = Aall.loc[Aall.index.intersection(dietmax.index)]\n",
    "    Amax = Amax.reindex(dietmax.index,axis=0)\n",
    "    idx = Amax.index.to_frame()\n",
    "    idx['type'] = 'max'\n",
    "    #Amax.index = pd.MultiIndex.from_frame(idx)\n",
    "    #dietmax.index = Amax.index\n",
    "\n",
    "    # Minimum requirements involve multiplying constraint by -1 to make <=.\n",
    "    A = pd.concat([Amin,\n",
    "                   -Amax])\n",
    "\n",
    "    b = pd.concat([dietmin,\n",
    "                   -dietmax]) # Note sign change for max constraints\n",
    "\n",
    "    # Make sure order of p, A, b are consistent\n",
    "    A = A.reindex(p.index,axis=1)\n",
    "    A = A.reindex(b.index,axis=0)\n",
    "\n",
    "    if max_weight is not None:\n",
    "        # Add up weights of foods consumed\n",
    "        A.loc['Hectograms'] = -1\n",
    "        b.loc['Hectograms'] = -max_weight\n",
    "        \n",
    "    # Now solve problem!  (Note that the linear program solver we'll use assumes\n",
    "    # \"less-than-or-equal\" constraints.  We can switch back and forth by\n",
    "    # multiplying $A$ and $b$ by $-1$.)\n",
    "\n",
    "    result = lp(p, -A, -b, method='highs')\n",
    "\n",
    "    result.A = A\n",
    "    result.b = b\n",
    "    \n",
    "    if result.success:\n",
    "        result.diet = pd.Series(result.x,index=p.index)\n",
    "    else: # No feasible solution?\n",
    "        warnings.warn(result.message)\n",
    "        result.diet = pd.Series(result.x,index=p.index)*np.nan  \n",
    "\n",
    "    return result"
   ]
  },
  {
   "cell_type": "markdown",
   "id": "831e7241-c839-4e56-918e-ef0beed2edf3",
   "metadata": {},
   "source": [
    "### Units & Price"
   ]
  },
  {
   "cell_type": "code",
   "execution_count": 12,
   "id": "bb5b71c9-fba8-4bad-98c4-3aabb6eadd02",
   "metadata": {},
   "outputs": [
    {
     "name": "stderr",
     "output_type": "stream",
     "text": [
      "/srv/conda/lib/python3.9/site-packages/pandas/core/dtypes/cast.py:1598: UnitStrippedWarning: The unit of the quantity is stripped when downcasting to ndarray.\n",
      "  result[:] = values\n"
     ]
    },
    {
     "data": {
      "text/plain": [
       "Food\n",
       "Apple                  0.30045856874910454 / hectogram\n",
       "Broccoli               0.48958369509484595 / hectogram\n",
       "Carrots                0.27636519295318573 / hectogram\n",
       "Cauliflower             0.6594971100216195 / hectogram\n",
       "Cheetos                  2.126972022353432 / hectogram\n",
       "Corn                    0.3214969674833186 / hectogram\n",
       "Egg                     0.5025510204081632 / hectogram\n",
       "Ground beef             1.0769581507731265 / hectogram\n",
       "Loaf of white bread     0.5382428658199367 / hectogram\n",
       "Potatoes               0.17211803754862226 / hectogram\n",
       "Spaghetti              0.31856796885714805 / hectogram\n",
       "Tomato                 0.33604747678752056 / hectogram\n",
       "Whole Chicken            0.544202614885594 / hectogram\n",
       "Whole Milk             0.08951658688478975 / deciliter\n",
       "Name: FDC_reservation_ave_price, dtype: object"
      ]
     },
     "execution_count": 12,
     "metadata": {},
     "output_type": "execute_result"
    }
   ],
   "source": [
    "food_information['FDC Quantity'] = food_information[['Quantity','Unit']].T.apply(lambda x : fdc.units(x['Quantity'],x['Unit']))\n",
    "\n",
    "# Now divide price by the FDC Quantity to get, e.g., price per hectoliter\n",
    "food_information['FDC_reservation_ave_price'] = food_information['reservation_ave_price']/food_information['FDC Quantity']\n",
    "food_information['FDC_walmart_ave_price']=food_information['walmart_ave_price']/food_information['FDC Quantity']\n",
    "food_information.dropna(how='any') # Drop food with any missing data\n",
    "\n",
    "# To use minimum price observed\n",
    "Reservation_Prices = food_information.groupby('Food')['FDC_reservation_ave_price'].min()\n",
    "Near_city_walmart_price=food_information.groupby('Food')['FDC_walmart_ave_price'].min()\n",
    "Reservation_Prices"
   ]
  },
  {
   "cell_type": "markdown",
   "id": "8eab4dcb-8a3c-4e9f-8214-50f0e36f0873",
   "metadata": {},
   "source": [
    "### Map Nutritions"
   ]
  },
  {
   "cell_type": "code",
   "execution_count": 13,
   "id": "7295e277-9a88-416b-9860-967d3402f22d",
   "metadata": {},
   "outputs": [
    {
     "name": "stdout",
     "output_type": "stream",
     "text": [
      "Apple\n",
      "Egg\n",
      "Ground beef\n",
      "Loaf of white bread\n",
      "Whole Milk\n",
      "Tomato\n",
      "Whole Chicken\n",
      "Carrots\n",
      "Spaghetti\n",
      "Corn\n",
      "Cheetos\n",
      "Potatoes\n",
      "Cauliflower\n",
      "Broccoli\n"
     ]
    },
    {
     "data": {
      "text/html": [
       "<div>\n",
       "<style scoped>\n",
       "    .dataframe tbody tr th:only-of-type {\n",
       "        vertical-align: middle;\n",
       "    }\n",
       "\n",
       "    .dataframe tbody tr th {\n",
       "        vertical-align: top;\n",
       "    }\n",
       "\n",
       "    .dataframe thead th {\n",
       "        text-align: right;\n",
       "    }\n",
       "</style>\n",
       "<table border=\"1\" class=\"dataframe\">\n",
       "  <thead>\n",
       "    <tr style=\"text-align: right;\">\n",
       "      <th></th>\n",
       "      <th>Apple</th>\n",
       "      <th>Egg</th>\n",
       "      <th>Ground beef</th>\n",
       "      <th>Loaf of white bread</th>\n",
       "      <th>Whole Milk</th>\n",
       "      <th>Tomato</th>\n",
       "      <th>Whole Chicken</th>\n",
       "      <th>Carrots</th>\n",
       "      <th>Spaghetti</th>\n",
       "      <th>Corn</th>\n",
       "      <th>Cheetos</th>\n",
       "      <th>Potatoes</th>\n",
       "      <th>Cauliflower</th>\n",
       "      <th>Broccoli</th>\n",
       "    </tr>\n",
       "  </thead>\n",
       "  <tbody>\n",
       "    <tr>\n",
       "      <th>Alcohol, ethyl</th>\n",
       "      <td>NaN</td>\n",
       "      <td>NaN</td>\n",
       "      <td>NaN</td>\n",
       "      <td>NaN</td>\n",
       "      <td>0.00</td>\n",
       "      <td>0.00</td>\n",
       "      <td>NaN</td>\n",
       "      <td>0.00</td>\n",
       "      <td>NaN</td>\n",
       "      <td>0.00</td>\n",
       "      <td>0.00</td>\n",
       "      <td>NaN</td>\n",
       "      <td>NaN</td>\n",
       "      <td>NaN</td>\n",
       "    </tr>\n",
       "    <tr>\n",
       "      <th>Ash</th>\n",
       "      <td>NaN</td>\n",
       "      <td>NaN</td>\n",
       "      <td>NaN</td>\n",
       "      <td>NaN</td>\n",
       "      <td>NaN</td>\n",
       "      <td>NaN</td>\n",
       "      <td>NaN</td>\n",
       "      <td>NaN</td>\n",
       "      <td>NaN</td>\n",
       "      <td>NaN</td>\n",
       "      <td>NaN</td>\n",
       "      <td>1.61</td>\n",
       "      <td>NaN</td>\n",
       "      <td>NaN</td>\n",
       "    </tr>\n",
       "    <tr>\n",
       "      <th>Caffeine</th>\n",
       "      <td>NaN</td>\n",
       "      <td>NaN</td>\n",
       "      <td>NaN</td>\n",
       "      <td>NaN</td>\n",
       "      <td>0.00</td>\n",
       "      <td>0.00</td>\n",
       "      <td>NaN</td>\n",
       "      <td>0.00</td>\n",
       "      <td>NaN</td>\n",
       "      <td>0.00</td>\n",
       "      <td>0.00</td>\n",
       "      <td>NaN</td>\n",
       "      <td>NaN</td>\n",
       "      <td>NaN</td>\n",
       "    </tr>\n",
       "    <tr>\n",
       "      <th>Calcium, Ca</th>\n",
       "      <td>0.00</td>\n",
       "      <td>63.00</td>\n",
       "      <td>18.0</td>\n",
       "      <td>0.00</td>\n",
       "      <td>123.00</td>\n",
       "      <td>10.00</td>\n",
       "      <td>NaN</td>\n",
       "      <td>33.00</td>\n",
       "      <td>0.00</td>\n",
       "      <td>3.00</td>\n",
       "      <td>56.00</td>\n",
       "      <td>30.00</td>\n",
       "      <td>0.00</td>\n",
       "      <td>47.00</td>\n",
       "    </tr>\n",
       "    <tr>\n",
       "      <th>Carbohydrate, by difference</th>\n",
       "      <td>14.29</td>\n",
       "      <td>0.00</td>\n",
       "      <td>0.0</td>\n",
       "      <td>42.22</td>\n",
       "      <td>4.63</td>\n",
       "      <td>4.04</td>\n",
       "      <td>0.0</td>\n",
       "      <td>9.58</td>\n",
       "      <td>76.79</td>\n",
       "      <td>13.90</td>\n",
       "      <td>53.50</td>\n",
       "      <td>12.44</td>\n",
       "      <td>2.35</td>\n",
       "      <td>4.71</td>\n",
       "    </tr>\n",
       "    <tr>\n",
       "      <th>...</th>\n",
       "      <td>...</td>\n",
       "      <td>...</td>\n",
       "      <td>...</td>\n",
       "      <td>...</td>\n",
       "      <td>...</td>\n",
       "      <td>...</td>\n",
       "      <td>...</td>\n",
       "      <td>...</td>\n",
       "      <td>...</td>\n",
       "      <td>...</td>\n",
       "      <td>...</td>\n",
       "      <td>...</td>\n",
       "      <td>...</td>\n",
       "      <td>...</td>\n",
       "    </tr>\n",
       "    <tr>\n",
       "      <th>Vitamin E, added</th>\n",
       "      <td>NaN</td>\n",
       "      <td>NaN</td>\n",
       "      <td>NaN</td>\n",
       "      <td>NaN</td>\n",
       "      <td>0.00</td>\n",
       "      <td>0.00</td>\n",
       "      <td>NaN</td>\n",
       "      <td>0.00</td>\n",
       "      <td>NaN</td>\n",
       "      <td>0.00</td>\n",
       "      <td>0.00</td>\n",
       "      <td>NaN</td>\n",
       "      <td>NaN</td>\n",
       "      <td>NaN</td>\n",
       "    </tr>\n",
       "    <tr>\n",
       "      <th>Vitamin K (phylloquinone)</th>\n",
       "      <td>NaN</td>\n",
       "      <td>NaN</td>\n",
       "      <td>NaN</td>\n",
       "      <td>NaN</td>\n",
       "      <td>0.30</td>\n",
       "      <td>7.50</td>\n",
       "      <td>NaN</td>\n",
       "      <td>13.20</td>\n",
       "      <td>NaN</td>\n",
       "      <td>3.20</td>\n",
       "      <td>1.30</td>\n",
       "      <td>NaN</td>\n",
       "      <td>NaN</td>\n",
       "      <td>NaN</td>\n",
       "    </tr>\n",
       "    <tr>\n",
       "      <th>Vitamins and Other Components</th>\n",
       "      <td>NaN</td>\n",
       "      <td>NaN</td>\n",
       "      <td>NaN</td>\n",
       "      <td>NaN</td>\n",
       "      <td>NaN</td>\n",
       "      <td>NaN</td>\n",
       "      <td>NaN</td>\n",
       "      <td>NaN</td>\n",
       "      <td>NaN</td>\n",
       "      <td>NaN</td>\n",
       "      <td>NaN</td>\n",
       "      <td>0.00</td>\n",
       "      <td>NaN</td>\n",
       "      <td>NaN</td>\n",
       "    </tr>\n",
       "    <tr>\n",
       "      <th>Water</th>\n",
       "      <td>NaN</td>\n",
       "      <td>NaN</td>\n",
       "      <td>NaN</td>\n",
       "      <td>NaN</td>\n",
       "      <td>88.10</td>\n",
       "      <td>94.40</td>\n",
       "      <td>NaN</td>\n",
       "      <td>88.30</td>\n",
       "      <td>NaN</td>\n",
       "      <td>79.00</td>\n",
       "      <td>1.57</td>\n",
       "      <td>83.29</td>\n",
       "      <td>NaN</td>\n",
       "      <td>NaN</td>\n",
       "    </tr>\n",
       "    <tr>\n",
       "      <th>Zinc, Zn</th>\n",
       "      <td>NaN</td>\n",
       "      <td>1.43</td>\n",
       "      <td>NaN</td>\n",
       "      <td>NaN</td>\n",
       "      <td>0.42</td>\n",
       "      <td>0.15</td>\n",
       "      <td>NaN</td>\n",
       "      <td>0.24</td>\n",
       "      <td>NaN</td>\n",
       "      <td>0.31</td>\n",
       "      <td>0.40</td>\n",
       "      <td>0.35</td>\n",
       "      <td>NaN</td>\n",
       "      <td>NaN</td>\n",
       "    </tr>\n",
       "  </tbody>\n",
       "</table>\n",
       "<p>78 rows × 14 columns</p>\n",
       "</div>"
      ],
      "text/plain": [
       "                               Apple    Egg  Ground beef  Loaf of white bread  \\\n",
       "Alcohol, ethyl                   NaN    NaN          NaN                  NaN   \n",
       "Ash                              NaN    NaN          NaN                  NaN   \n",
       "Caffeine                         NaN    NaN          NaN                  NaN   \n",
       "Calcium, Ca                     0.00  63.00         18.0                 0.00   \n",
       "Carbohydrate, by difference    14.29   0.00          0.0                42.22   \n",
       "...                              ...    ...          ...                  ...   \n",
       "Vitamin E, added                 NaN    NaN          NaN                  NaN   \n",
       "Vitamin K (phylloquinone)        NaN    NaN          NaN                  NaN   \n",
       "Vitamins and Other Components    NaN    NaN          NaN                  NaN   \n",
       "Water                            NaN    NaN          NaN                  NaN   \n",
       "Zinc, Zn                         NaN   1.43          NaN                  NaN   \n",
       "\n",
       "                               Whole Milk  Tomato  Whole Chicken  Carrots  \\\n",
       "Alcohol, ethyl                       0.00    0.00            NaN     0.00   \n",
       "Ash                                   NaN     NaN            NaN      NaN   \n",
       "Caffeine                             0.00    0.00            NaN     0.00   \n",
       "Calcium, Ca                        123.00   10.00            NaN    33.00   \n",
       "Carbohydrate, by difference          4.63    4.04            0.0     9.58   \n",
       "...                                   ...     ...            ...      ...   \n",
       "Vitamin E, added                     0.00    0.00            NaN     0.00   \n",
       "Vitamin K (phylloquinone)            0.30    7.50            NaN    13.20   \n",
       "Vitamins and Other Components         NaN     NaN            NaN      NaN   \n",
       "Water                               88.10   94.40            NaN    88.30   \n",
       "Zinc, Zn                             0.42    0.15            NaN     0.24   \n",
       "\n",
       "                               Spaghetti   Corn  Cheetos  Potatoes  \\\n",
       "Alcohol, ethyl                       NaN   0.00     0.00       NaN   \n",
       "Ash                                  NaN    NaN      NaN      1.61   \n",
       "Caffeine                             NaN   0.00     0.00       NaN   \n",
       "Calcium, Ca                         0.00   3.00    56.00     30.00   \n",
       "Carbohydrate, by difference        76.79  13.90    53.50     12.44   \n",
       "...                                  ...    ...      ...       ...   \n",
       "Vitamin E, added                     NaN   0.00     0.00       NaN   \n",
       "Vitamin K (phylloquinone)            NaN   3.20     1.30       NaN   \n",
       "Vitamins and Other Components        NaN    NaN      NaN      0.00   \n",
       "Water                                NaN  79.00     1.57     83.29   \n",
       "Zinc, Zn                             NaN   0.31     0.40      0.35   \n",
       "\n",
       "                               Cauliflower  Broccoli  \n",
       "Alcohol, ethyl                         NaN       NaN  \n",
       "Ash                                    NaN       NaN  \n",
       "Caffeine                               NaN       NaN  \n",
       "Calcium, Ca                           0.00     47.00  \n",
       "Carbohydrate, by difference           2.35      4.71  \n",
       "...                                    ...       ...  \n",
       "Vitamin E, added                       NaN       NaN  \n",
       "Vitamin K (phylloquinone)              NaN       NaN  \n",
       "Vitamins and Other Components          NaN       NaN  \n",
       "Water                                  NaN       NaN  \n",
       "Zinc, Zn                               NaN       NaN  \n",
       "\n",
       "[78 rows x 14 columns]"
      ]
     },
     "execution_count": 13,
     "metadata": {},
     "output_type": "execute_result"
    }
   ],
   "source": [
    "import warnings\n",
    "\n",
    "D = {}\n",
    "count = 0\n",
    "for food in  food_information.index:\n",
    "    try:\n",
    "        FDC = food_information.loc[food_information.index==food,:].FDC.values[0]\n",
    "        count+=1\n",
    "        D[food] = fdc.nutrients(apikey,FDC).Quantity\n",
    "        print(food)\n",
    "    except AttributeError:\n",
    "        warnings.warn(f\"Couldn't find FDC Code {FDC} for food {food}.\")\n",
    "\n",
    "FoodNutrients= pd.DataFrame(D,dtype=float)\n",
    "FoodNutrients"
   ]
  },
  {
   "cell_type": "markdown",
   "id": "1d7f74cf-5736-4d72-a4c3-16b8b7d2fd10",
   "metadata": {},
   "source": [
    "### Dietary Requirements"
   ]
  },
  {
   "cell_type": "code",
   "execution_count": 14,
   "id": "e9285049-b5ab-4de2-9f86-74b4a0732ea3",
   "metadata": {},
   "outputs": [
    {
     "name": "stdout",
     "output_type": "stream",
     "text": [
      "Key available for students@eep153.iam.gserviceaccount.com.\n"
     ]
    },
    {
     "name": "stderr",
     "output_type": "stream",
     "text": [
      "/srv/conda/lib/python3.9/site-packages/eep153_tools/sheets.py:150: FutureWarning: errors='ignore' is deprecated and will raise in a future version. Use to_numeric without passing `errors` and catch exceptions explicitly instead\n",
      "  D[w.title]=df.apply(lambda x: pd.to_numeric(x,errors='ignore'))\n"
     ]
    }
   ],
   "source": [
    "from eep153_tools.sheets import read_sheets\n",
    "\n",
    "DRI_url = \"https://docs.google.com/spreadsheets/d/1y95IsQ4HKspPW3HHDtH7QMtlDA66IUsCHJLutVL-MMc/\"\n",
    "\n",
    "DRIs = read_sheets(DRI_url)\n",
    "\n",
    "# Define *minimums*\n",
    "diet_min = DRIs['diet_minimums'].set_index('Nutrition')\n",
    "\n",
    "# Define *maximums*\n",
    "diet_max = DRIs['diet_maximums'].set_index('Nutrition')"
   ]
  },
  {
   "cell_type": "markdown",
   "id": "db28f9be-126b-4676-8ab2-7c1c50131f14",
   "metadata": {},
   "source": [
    "### Gender Age Groups Our Group Chose"
   ]
  },
  {
   "cell_type": "code",
   "execution_count": 15,
   "id": "0164801a-d757-4538-ae5f-c3c3749533d9",
   "metadata": {},
   "outputs": [],
   "source": [
    "groups=['F 4-8','M 4-8', 'F 31-50', 'M 31-50', 'F 51+', 'M 51+']"
   ]
  },
  {
   "cell_type": "markdown",
   "id": "b776a14c-36ae-41b5-93b1-b7bae6fa3d5e",
   "metadata": {},
   "source": [
    "## Using `solve_subsistence_problem` to analyze Reservation Population Diet"
   ]
  },
  {
   "cell_type": "code",
   "execution_count": 16,
   "id": "ad423f10-7236-4865-b8cc-9b3e00a5934f",
   "metadata": {},
   "outputs": [
    {
     "name": "stdout",
     "output_type": "stream",
     "text": [
      "\n",
      "Cost of diet for F 4-8 is $3.63 per day.\n",
      "Diet (in 100s of grams or milliliters):\n",
      "Carrots       10.237743\n",
      "Potatoes       2.138481\n",
      "Whole Milk     4.861789\n",
      "dtype: float64\n",
      "\n",
      "With the following nutritional outcomes of interest:\n",
      "                                    Outcome  Recommendation\n",
      "Nutrition                                                  \n",
      "Energy                          1235.967384          1200.0\n",
      "Protein                           30.915047            19.0\n",
      "Fiber, total dietary              34.011883            16.8\n",
      "Folate, DFE                      230.871291           200.0\n",
      "Calcium, Ca                     1000.000000          1000.0\n",
      "Carbohydrate, by difference      147.190362           130.0\n",
      "Iron, Fe                          10.000000            10.0\n",
      "Magnesium, Mg                    230.379441           130.0\n",
      "Niacin                            12.783240             8.0\n",
      "Phosphorus, P                    930.623971           500.0\n",
      "Potassium, K                    4888.538674          3800.0\n",
      "Riboflavin                         1.345978             0.6\n",
      "Thiamin                            0.992859             0.6\n",
      "Vitamin A, RAE                  8704.092866           400.0\n",
      "Vitamin B-12                       2.625366             1.2\n",
      "Vitamin B-6                        2.220475             0.6\n",
      "Vitamin C, total ascorbic acid    84.781364            25.0\n",
      "Vitamin E (alpha-tocopherol)       7.000000             7.0\n",
      "Vitamin K (phylloquinone)        136.596748            55.0\n",
      "Zinc, Zn                           5.247478             5.0\n",
      "Sodium, Na                       912.537075          1900.0\n",
      "Energy                          1235.967384          2500.0\n",
      "\n",
      "\n",
      "Cost of diet for M 4-8 is $3.74 per day.\n",
      "Diet (in 100s of grams or milliliters):\n",
      "Carrots       10.251278\n",
      "Potatoes       2.856076\n",
      "Whole Milk     4.683135\n",
      "dtype: float64\n",
      "\n",
      "With the following nutritional outcomes of interest:\n",
      "                                    Outcome  Recommendation\n",
      "Nutrition                                                  \n",
      "Energy                          1400.000000          1400.0\n",
      "Protein                           32.187653            19.0\n",
      "Fiber, total dietary              35.843767            19.6\n",
      "Folate, DFE                      243.327563           200.0\n",
      "Calcium, Ca                     1000.000000          1000.0\n",
      "Carbohydrate, by difference      155.419736           130.0\n",
      "Iron, Fe                          12.329069            10.0\n",
      "Magnesium, Mg                    244.902690           130.0\n",
      "Niacin                            13.519061             8.0\n",
      "Phosphorus, P                    940.322198           500.0\n",
      "Potassium, K                    5162.438330          3800.0\n",
      "Riboflavin                         1.349378             0.6\n",
      "Thiamin                            0.998817             0.6\n",
      "Vitamin A, RAE                  8709.677169           400.0\n",
      "Vitamin B-12                       2.528893             1.2\n",
      "Vitamin B-6                        2.382950             0.6\n",
      "Vitamin C, total ascorbic acid    93.041802            25.0\n",
      "Vitamin E (alpha-tocopherol)       7.000000             7.0\n",
      "Vitamin K (phylloquinone)        136.721806            55.0\n",
      "Zinc, Zn                           5.426850             5.0\n",
      "Sodium, Na                       913.858035          1900.0\n",
      "Energy                          1400.000000          2500.0\n",
      "\n",
      "\n",
      "Cost of diet for F 31-50 is $7.22 per day.\n",
      "Diet (in 100s of grams or milliliters):\n",
      "Carrots       22.390572\n",
      "Potatoes       3.276800\n",
      "Spaghetti      0.207475\n",
      "Whole Milk     4.444444\n",
      "dtype: float64\n",
      "\n",
      "With the following nutritional outcomes of interest:\n",
      "                                     Outcome  Recommendation\n",
      "Nutrition                                                   \n",
      "Energy                           2063.190217          1800.0\n",
      "Protein                            46.000000            46.0\n",
      "Fiber, total dietary               71.632514            25.2\n",
      "Folate, DFE                       481.126484           400.0\n",
      "Calcium, Ca                      1383.859570          1000.0\n",
      "Carbohydrate, by difference       291.774863           130.0\n",
      "Iron, Fe                           18.000000            18.0\n",
      "Magnesium, Mg                     397.386613           320.0\n",
      "Niacin                             26.972978            14.0\n",
      "Phosphorus, P                    1357.077341           700.0\n",
      "Potassium, K                     9184.968433          4700.0\n",
      "Riboflavin                          2.130906             1.1\n",
      "Thiamin                             2.002954             1.1\n",
      "Vitamin A, RAE                  18838.350168           700.0\n",
      "Vitamin B-12                        2.400000             2.4\n",
      "Vitamin B-6                         4.144165             1.3\n",
      "Vitamin C, total ascorbic acid    169.459903            75.0\n",
      "Vitamin E (alpha-tocopherol)       15.000000            15.0\n",
      "Vitamin K (phylloquinone)         296.888889            90.0\n",
      "Zinc, Zn                            8.387284             8.0\n",
      "Sodium, Na                       1746.606389          2300.0\n",
      "Energy                           2063.190217          3100.0\n",
      "\n",
      "\n",
      "Cost of diet for M 31-50 is $7.50 per day.\n",
      "Diet (in 100s of grams or milliliters):\n",
      "Carrots       21.842526\n",
      "Potatoes       2.436455\n",
      "Whole Milk    11.678653\n",
      "dtype: float64\n",
      "\n",
      "With the following nutritional outcomes of interest:\n",
      "                                     Outcome  Recommendation\n",
      "Nutrition                                                   \n",
      "Energy                           2200.000000          2200.0\n",
      "Protein                            64.764436            56.0\n",
      "Fiber, total dietary               67.250211            30.8\n",
      "Folate, DFE                       456.427734           400.0\n",
      "Calcium, Ca                      2230.371391          1000.0\n",
      "Carbohydrate, by difference       293.633067           130.0\n",
      "Iron, Fe                           14.446872             8.0\n",
      "Magnesium, Mg                     458.292621           420.0\n",
      "Niacin                             25.214320            16.0\n",
      "Phosphorus, P                    2036.617708           700.0\n",
      "Potassium, K                     9747.662331          4700.0\n",
      "Riboflavin                          2.971106             1.3\n",
      "Thiamin                             2.146777             1.2\n",
      "Vitamin A, RAE                  18612.226332           900.0\n",
      "Vitamin B-12                        6.306473             2.4\n",
      "Vitamin B-6                         4.308979             1.3\n",
      "Vitamin C, total ascorbic acid    156.646492            90.0\n",
      "Vitamin E (alpha-tocopherol)       15.000000            15.0\n",
      "Vitamin K (phylloquinone)         291.824943           120.0\n",
      "Zinc, Zn                           11.000000            11.0\n",
      "Sodium, Na                       1975.287693          2300.0\n",
      "Energy                           2200.000000          3100.0\n",
      "\n",
      "\n",
      "Cost of diet for F 51+ is $6.94 per day.\n",
      "Diet (in 100s of grams or milliliters):\n",
      "Carrots       22.293692\n",
      "Potatoes       0.702125\n",
      "Spaghetti      0.443262\n",
      "Whole Milk     5.723262\n",
      "dtype: float64\n",
      "\n",
      "With the following nutritional outcomes of interest:\n",
      "                                     Outcome  Recommendation\n",
      "Nutrition                                                   \n",
      "Energy                           1600.000000          1600.0\n",
      "Protein                            46.000000            46.0\n",
      "Fiber, total dietary               65.773394            22.4\n",
      "Folate, DFE                       435.516273           400.0\n",
      "Calcium, Ca                      1460.716862          1200.0\n",
      "Carbohydrate, by difference       282.844809           130.0\n",
      "Iron, Fe                           10.385863             8.0\n",
      "Magnesium, Mg                     352.352324           320.0\n",
      "Niacin                             25.615492            14.0\n",
      "Phosphorus, P                    1385.009471           700.0\n",
      "Potassium, K                     8282.448385          4700.0\n",
      "Riboflavin                          2.311209             1.1\n",
      "Thiamin                             2.249893             1.1\n",
      "Vitamin A, RAE                  18798.377419           700.0\n",
      "Vitamin B-12                        3.090562             2.4\n",
      "Vitamin B-6                         3.593456             1.5\n",
      "Vitamin C, total ascorbic acid    139.537006            75.0\n",
      "Vitamin E (alpha-tocopherol)       15.000000            15.0\n",
      "Vitamin K (phylloquinone)         295.993716            90.0\n",
      "Zinc, Zn                            8.000000             8.0\n",
      "Sodium, Na                       1762.769983          2300.0\n",
      "Energy                           1600.000000          3100.0\n",
      "\n",
      "\n",
      "Cost of diet for M 51+ is $7.38 per day.\n",
      "Diet (in 100s of grams or milliliters):\n",
      "Carrots       21.773993\n",
      "Potatoes       1.397883\n",
      "Whole Milk    12.583292\n",
      "dtype: float64\n",
      "\n",
      "With the following nutritional outcomes of interest:\n",
      "                                     Outcome  Recommendation\n",
      "Nutrition                                                   \n",
      "Energy                           2000.000000          2000.0\n",
      "Protein                            64.989738            56.0\n",
      "Fiber, total dietary               64.461887            28.0\n",
      "Folate, DFE                       437.469870           400.0\n",
      "Calcium, Ca                      2308.223207          1000.0\n",
      "Carbohydrate, by difference       284.245155           130.0\n",
      "Iron, Fe                           11.061337             8.0\n",
      "Magnesium, Mg                     444.438722           420.0\n",
      "Niacin                             24.169093            16.0\n",
      "Phosphorus, P                    2086.121821           700.0\n",
      "Potassium, K                     9432.497097          4700.0\n",
      "Riboflavin                          3.052505             1.3\n",
      "Thiamin                             2.171103             1.2\n",
      "Vitamin A, RAE                  18583.949513           900.0\n",
      "Vitamin B-12                        6.794978             2.4\n",
      "Vitamin B-6                         4.106486             1.7\n",
      "Vitamin C, total ascorbic acid    144.402419            90.0\n",
      "Vitamin E (alpha-tocopherol)       15.000000            15.0\n",
      "Vitamin K (phylloquinone)         291.191695           120.0\n",
      "Zinc, Zn                           11.000000            11.0\n",
      "Sodium, Na                       1994.549453          2300.0\n",
      "Energy                           2000.000000          3100.0\n",
      "\n"
     ]
    }
   ],
   "source": [
    "cost=[]\n",
    "for group in groups:\n",
    "    tol = 1e-6\n",
    "\n",
    "    result = solve_subsistence_problem(FoodNutrients, Reservation_Prices,diet_min[group],diet_max[group],tol=tol)\n",
    "    cost+=[result.fun]\n",
    "    print(\"\\nCost of diet for %s is $%4.2f per day.\" % (group,result.fun))\n",
    "    \n",
    "    # Put back into nice series\n",
    "    diet = result.diet\n",
    "\n",
    "    print(\"Diet (in 100s of grams or milliliters):\")\n",
    "    print(diet[diet >= tol])  # Drop items with quantities less than precision of calculation.\n",
    "    print()\n",
    "\n",
    "    tab = pd.DataFrame({\"Outcome\":np.abs(result.A).dot(diet),\"Recommendation\":np.abs(result.b)})\n",
    "    print(\"With the following nutritional outcomes of interest:\")\n",
    "    print(tab)\n",
    "    print()\n",
    "\n",
    "d={'Group': groups, 'Minimum Cost': cost}\n",
    "\n",
    "reservation=pd.DataFrame(data=d)\n",
    "    "
   ]
  },
  {
   "cell_type": "markdown",
   "id": "0bb44d72-e996-4cfd-bae8-1121a0b9ba3c",
   "metadata": {},
   "source": [
    "## Using `solve_subsistence_problem` to analyze Near City Walmart Population Diet"
   ]
  },
  {
   "cell_type": "code",
   "execution_count": 17,
   "id": "718ad4d2-dfdb-4a49-9d7c-e20acdf1042c",
   "metadata": {},
   "outputs": [
    {
     "name": "stdout",
     "output_type": "stream",
     "text": [
      "\n",
      "Cost of diet for F 4-8 is $3.13 per day.\n",
      "Diet (in 100s of grams or milliliters):\n",
      "Carrots       4.441871\n",
      "Corn          6.706131\n",
      "Potatoes      2.116291\n",
      "Whole Milk    6.258627\n",
      "dtype: float64\n",
      "\n",
      "With the following nutritional outcomes of interest:\n",
      "                                    Outcome  Recommendation\n",
      "Nutrition                                                  \n",
      "Energy                          1688.409660          1200.0\n",
      "Protein                           44.923130            19.0\n",
      "Fiber, total dietary              30.469617            16.8\n",
      "Folate, DFE                      361.793233           200.0\n",
      "Calcium, Ca                     1000.000000          1000.0\n",
      "Carbohydrate, by difference      191.072457           130.0\n",
      "Iron, Fe                          10.000000            10.0\n",
      "Magnesium, Mg                    264.260383           130.0\n",
      "Niacin                            13.754828             8.0\n",
      "Phosphorus, P                   1169.781795           500.0\n",
      "Potassium, K                    4092.605912          3800.0\n",
      "Riboflavin                         1.778465             0.6\n",
      "Thiamin                            0.929509             0.6\n",
      "Vitamin A, RAE                  3922.650900           400.0\n",
      "Vitamin B-12                       3.379659             1.2\n",
      "Vitamin B-6                        1.741969             0.6\n",
      "Vitamin C, total ascorbic acid    61.062570            25.0\n",
      "Vitamin E (alpha-tocopherol)       7.000000             7.0\n",
      "Vitamin K (phylloquinone)         81.969910            55.0\n",
      "Zinc, Zn                           6.514275             5.0\n",
      "Sodium, Na                      1900.000000          1900.0\n",
      "Energy                          1688.409660          2500.0\n",
      "\n",
      "\n",
      "Cost of diet for M 4-8 is $3.13 per day.\n",
      "Diet (in 100s of grams or milliliters):\n",
      "Carrots       4.441871\n",
      "Corn          6.706131\n",
      "Potatoes      2.116291\n",
      "Whole Milk    6.258627\n",
      "dtype: float64\n",
      "\n",
      "With the following nutritional outcomes of interest:\n",
      "                                    Outcome  Recommendation\n",
      "Nutrition                                                  \n",
      "Energy                          1688.409660          1400.0\n",
      "Protein                           44.923130            19.0\n",
      "Fiber, total dietary              30.469617            19.6\n",
      "Folate, DFE                      361.793233           200.0\n",
      "Calcium, Ca                     1000.000000          1000.0\n",
      "Carbohydrate, by difference      191.072457           130.0\n",
      "Iron, Fe                          10.000000            10.0\n",
      "Magnesium, Mg                    264.260383           130.0\n",
      "Niacin                            13.754828             8.0\n",
      "Phosphorus, P                   1169.781795           500.0\n",
      "Potassium, K                    4092.605912          3800.0\n",
      "Riboflavin                         1.778465             0.6\n",
      "Thiamin                            0.929509             0.6\n",
      "Vitamin A, RAE                  3922.650900           400.0\n",
      "Vitamin B-12                       3.379659             1.2\n",
      "Vitamin B-6                        1.741969             0.6\n",
      "Vitamin C, total ascorbic acid    61.062570            25.0\n",
      "Vitamin E (alpha-tocopherol)       7.000000             7.0\n",
      "Vitamin K (phylloquinone)         81.969910            55.0\n",
      "Zinc, Zn                           6.514275             5.0\n",
      "Sodium, Na                      1900.000000          1900.0\n",
      "Energy                          1688.409660          2500.0\n",
      "\n",
      "\n",
      "Cost of diet for F 31-50 is $7.07 per day.\n",
      "Diet (in 100s of grams or milliliters):\n",
      "Carrots       19.058812\n",
      "Corn           3.926718\n",
      "Potatoes       3.463624\n",
      "Whole Milk     4.444444\n",
      "dtype: float64\n",
      "\n",
      "With the following nutritional outcomes of interest:\n",
      "                                     Outcome  Recommendation\n",
      "Nutrition                                                   \n",
      "Energy                           2251.514418          1800.0\n",
      "Protein                            49.876856            46.0\n",
      "Fiber, total dietary               69.484498            25.2\n",
      "Folate, DFE                       562.360880           400.0\n",
      "Calcium, Ca                      1291.296337          1000.0\n",
      "Carbohydrate, by difference       300.830059           130.0\n",
      "Iron, Fe                           18.000000            18.0\n",
      "Magnesium, Mg                     412.749765           320.0\n",
      "Niacin                             26.611879            14.0\n",
      "Phosphorus, P                    1424.267327           700.0\n",
      "Potassium, K                     8698.583146          4700.0\n",
      "Riboflavin                          2.188060             1.1\n",
      "Thiamin                             1.720868             1.1\n",
      "Vitamin A, RAE                  16064.183490           700.0\n",
      "Vitamin B-12                        2.400000             2.4\n",
      "Vitamin B-6                         3.870395             1.3\n",
      "Vitamin C, total ascorbic acid    158.215055            75.0\n",
      "Vitamin E (alpha-tocopherol)       15.000000            15.0\n",
      "Vitamin K (phylloquinone)         265.475146            90.0\n",
      "Zinc, Zn                            8.870333             8.0\n",
      "Sodium, Na                       2300.000000          2300.0\n",
      "Energy                           2251.514418          3100.0\n",
      "\n",
      "\n",
      "Cost of diet for M 31-50 is $7.25 per day.\n",
      "Diet (in 100s of grams or milliliters):\n",
      "Carrots       19.924516\n",
      "Corn           2.121157\n",
      "Spaghetti      1.019906\n",
      "Whole Milk    13.239422\n",
      "dtype: float64\n",
      "\n",
      "With the following nutritional outcomes of interest:\n",
      "                                     Outcome  Recommendation\n",
      "Nutrition                                                   \n",
      "Energy                           2200.000000          2200.0\n",
      "Protein                            77.454873            56.0\n",
      "Fiber, total dietary               63.490506            30.8\n",
      "Folate, DFE                       454.927478           400.0\n",
      "Calcium, Ca                      2292.321427          1000.0\n",
      "Carbohydrate, by difference       359.978062           130.0\n",
      "Iron, Fe                            9.823966             8.0\n",
      "Magnesium, Mg                     425.542307           420.0\n",
      "Niacin                             28.509825            16.0\n",
      "Phosphorus, P                    2129.991788           700.0\n",
      "Potassium, K                     8633.266663          4700.0\n",
      "Riboflavin                          3.629139             1.3\n",
      "Thiamin                             3.152693             1.2\n",
      "Vitamin A, RAE                  17064.874857           900.0\n",
      "Vitamin B-12                        7.149288             2.4\n",
      "Vitamin B-6                         3.633550             1.3\n",
      "Vitamin C, total ascorbic acid    120.948498            90.0\n",
      "Vitamin E (alpha-tocopherol)       15.000000            15.0\n",
      "Vitamin K (phylloquinone)         273.763145           120.0\n",
      "Zinc, Zn                           11.000000            11.0\n",
      "Sodium, Na                       2300.000000          2300.0\n",
      "Energy                           2200.000000          3100.0\n",
      "\n",
      "\n",
      "Cost of diet for F 51+ is $6.54 per day.\n",
      "Diet (in 100s of grams or milliliters):\n",
      "Carrots       18.950232\n",
      "Corn           3.982631\n",
      "Potatoes       0.033460\n",
      "Spaghetti      0.352401\n",
      "Whole Milk     5.251471\n",
      "dtype: float64\n",
      "\n",
      "With the following nutritional outcomes of interest:\n",
      "                                     Outcome  Recommendation\n",
      "Nutrition                                                   \n",
      "Energy                           1600.000000          1600.0\n",
      "Protein                            47.497677            46.0\n",
      "Fiber, total dietary               61.979945            22.4\n",
      "Folate, DFE                       503.997942           400.0\n",
      "Calcium, Ca                      1284.240247          1200.0\n",
      "Carbohydrate, by difference       288.693249           130.0\n",
      "Iron, Fe                            8.000000             8.0\n",
      "Magnesium, Mg                     342.964221           320.0\n",
      "Niacin                             24.988909            14.0\n",
      "Phosphorus, P                    1374.146527           700.0\n",
      "Potassium, K                     7375.390782          4700.0\n",
      "Riboflavin                          2.327937             1.1\n",
      "Thiamin                             2.041276             1.1\n",
      "Vitamin A, RAE                  15999.456335           700.0\n",
      "Vitamin B-12                        2.835794             2.4\n",
      "Vitamin B-6                         3.086843             1.5\n",
      "Vitamin C, total ascorbic acid    118.560028            75.0\n",
      "Vitamin E (alpha-tocopherol)       15.000000            15.0\n",
      "Vitamin K (phylloquinone)         264.462926            90.0\n",
      "Zinc, Zn                            8.000000             8.0\n",
      "Sodium, Na                       2300.000000          2300.0\n",
      "Energy                           1600.000000          3100.0\n",
      "\n",
      "\n",
      "Cost of diet for M 51+ is $7.14 per day.\n",
      "Diet (in 100s of grams or milliliters):\n",
      "Carrots       19.924516\n",
      "Corn           2.121157\n",
      "Spaghetti      0.486573\n",
      "Whole Milk    13.239422\n",
      "dtype: float64\n",
      "\n",
      "With the following nutritional outcomes of interest:\n",
      "                                     Outcome  Recommendation\n",
      "Nutrition                                                   \n",
      "Energy                           2000.000000          2000.0\n",
      "Protein                            71.742873            56.0\n",
      "Fiber, total dietary               61.570506            28.0\n",
      "Folate, DFE                       454.927478           400.0\n",
      "Calcium, Ca                      2292.321427          1000.0\n",
      "Carbohydrate, by difference       319.023395           130.0\n",
      "Iron, Fe                            8.111966             8.0\n",
      "Magnesium, Mg                     425.542307           420.0\n",
      "Niacin                             25.652758            16.0\n",
      "Phosphorus, P                    2129.991788           700.0\n",
      "Potassium, K                     8633.266663          4700.0\n",
      "Riboflavin                          3.386472             1.3\n",
      "Thiamin                             2.619360             1.2\n",
      "Vitamin A, RAE                  17064.874857           900.0\n",
      "Vitamin B-12                        7.149288             2.4\n",
      "Vitamin B-6                         3.633550             1.7\n",
      "Vitamin C, total ascorbic acid    120.948498            90.0\n",
      "Vitamin E (alpha-tocopherol)       15.000000            15.0\n",
      "Vitamin K (phylloquinone)         273.763145           120.0\n",
      "Zinc, Zn                           11.000000            11.0\n",
      "Sodium, Na                       2300.000000          2300.0\n",
      "Energy                           2000.000000          3100.0\n",
      "\n"
     ]
    }
   ],
   "source": [
    "cost=[]\n",
    "for group in groups:\n",
    "    tol = 1e-6\n",
    "\n",
    "    result = solve_subsistence_problem(FoodNutrients, Near_city_walmart_price,diet_min[group],diet_max[group],tol=tol)\n",
    "    cost+=[result.fun]\n",
    "    print(\"\\nCost of diet for %s is $%4.2f per day.\" % (group,result.fun))\n",
    "    \n",
    "    # Put back into nice series\n",
    "    diet = result.diet\n",
    "\n",
    "    print(\"Diet (in 100s of grams or milliliters):\")\n",
    "    print(diet[diet >= tol])  # Drop items with quantities less than precision of calculation.\n",
    "    print()\n",
    "\n",
    "    tab = pd.DataFrame({\"Outcome\":np.abs(result.A).dot(diet),\"Recommendation\":np.abs(result.b)})\n",
    "    print(\"With the following nutritional outcomes of interest:\")\n",
    "    print(tab)\n",
    "    print()\n",
    "\n",
    "d={'Group': groups, 'Minimum Cost': cost}\n",
    "\n",
    "nearcity=pd.DataFrame(data=d)\n",
    "    "
   ]
  },
  {
   "cell_type": "markdown",
   "id": "3f8dc9ac-d423-4288-810e-a2e150d3a011",
   "metadata": {},
   "source": [
    "### Analysis Plot"
   ]
  },
  {
   "cell_type": "code",
   "execution_count": 18,
   "id": "acf7e8d6-c813-4a43-b23f-40ae7335fd87",
   "metadata": {},
   "outputs": [
    {
     "data": {
      "image/png": "[encoded data removed]",
      "text/plain": [
       "<Figure size 1000x800 with 1 Axes>"
      ]
     },
     "metadata": {},
     "output_type": "display_data"
    }
   ],
   "source": [
    "plt.figure(figsize=(10, 8))\n",
    "\n",
    "\n",
    "line1 = plt.plot(groups, reservation[\"Minimum Cost\"],'ko-',label='reservation')\n",
    "\n",
    "line2 = plt.plot(groups, nearcity[\"Minimum Cost\"],'mo-',label='nearcity_walmart')\n",
    "\n",
    "\n",
    "# Adding legends, titles and labels\n",
    "plt.legend()\n",
    "plt.title('Price Comparison Between Reservation Group and Near City Walmart Population')\n",
    "plt.xlabel('Groups')\n",
    "plt.ylabel('Minimum Cost')\n",
    "\n",
    "# Display the plot\n",
    "plt.show()\n"
   ]
  },
  {
   "cell_type": "code",
   "execution_count": 19,
   "id": "f3f2a546-74c2-4df4-9bb5-3e315b0c05ea",
   "metadata": {},
   "outputs": [],
   "source": [
    "cost_difference=reservation.merge(nearcity, on=\"Group\")\n",
    "cost_difference['difference']=cost_difference['Minimum Cost_x']-cost_difference['Minimum Cost_y']"
   ]
  },
  {
   "cell_type": "code",
   "execution_count": 20,
   "id": "129c192c-2ad4-4552-9106-1b209a351cb7",
   "metadata": {},
   "outputs": [
    {
     "data": {
      "image/png": "[encoded data removed]",
      "text/plain": [
       "<Figure size 1300x500 with 1 Axes>"
      ]
     },
     "metadata": {},
     "output_type": "display_data"
    }
   ],
   "source": [
    "plt.figure(figsize=(13,5))\n",
    "X = cost_difference['Group']\n",
    "Y = cost_difference['difference']\n",
    "X_axis = np.arange(len(X)) \n",
    "  \n",
    "plt.bar(X_axis, Y , 0.4) \n",
    "  \n",
    "plt.xticks(X_axis, X, fontsize=10) \n",
    "plt.xlabel(\"Gender Age Group\", fontsize=13) \n",
    "plt.ylabel(\"Difference in Minimum Cost\", fontsize=13) \n",
    "plt.title(\"Difference in Minimum Cost among Different Gender-Age Groups\",fontsize=16) \n",
    "plt.show() "
   ]
  },
  {
   "cell_type": "markdown",
   "id": "df75c703-2836-4b62-93b1-162546452195",
   "metadata": {},
   "source": [
    "## Sensitivity Analysis"
   ]
  },
  {
   "cell_type": "markdown",
   "id": "e061d80a-490d-4338-8612-cec3a7b3b59f",
   "metadata": {},
   "source": [
    "#### The following function takes old_price series, the food chose to increase its price, and the price increaing rate, returns the new price series."
   ]
  },
  {
   "cell_type": "code",
   "execution_count": 86,
   "id": "f166971b-c857-4b93-8136-56619cdc381d",
   "metadata": {},
   "outputs": [
    {
     "data": {
      "text/html": [
       "        <script type=\"text/javascript\">\n",
       "        window.PlotlyConfig = {MathJaxConfig: 'local'};\n",
       "        if (window.MathJax && window.MathJax.Hub && window.MathJax.Hub.Config) {window.MathJax.Hub.Config({SVG: {font: \"STIX-Web\"}});}\n",
       "        if (typeof require !== 'undefined') {\n",
       "        require.undef(\"plotly\");\n",
       "        requirejs.config({\n",
       "            paths: {\n",
       "                'plotly': ['https://cdn.plot.ly/plotly-2.29.1.min']\n",
       "            }\n",
       "        });\n",
       "        require(['plotly'], function(Plotly) {\n",
       "            window._Plotly = Plotly;\n",
       "        });\n",
       "        }\n",
       "        </script>\n",
       "        "
      ]
     },
     "metadata": {},
     "output_type": "display_data"
    },
    {
     "data": {
      "application/vnd.plotly.v1+json": {
       "config": {
        "linkText": "Export to plot.ly",
        "plotlyServerURL": "https://plot.ly",
        "showLink": true
       },
       "data": [
        {
         "line": {
          "color": "rgba(255, 153, 51, 1.0)",
          "dash": "solid",
          "shape": "linear",
          "width": 1.3
         },
         "mode": "lines",
         "name": "Apple",
         "text": "",
         "type": "scatter",
         "x": [
          -0.6931471805599453,
          -0.5108256237659907,
          -0.35667494393873245,
          -0.22314355131420968,
          -0.10536051565782628,
          0,
          0.09531017980432495,
          0.1823215567939546,
          0.26236426446749106,
          0.33647223662121284,
          0.4054651081081644
         ],
         "y": [
          0,
          0,
          0,
          0,
          0,
          0,
          0,
          0,
          0,
          0,
          0
         ]
        },
        {
         "line": {
          "color": "rgba(55, 128, 191, 1.0)",
          "dash": "solid",
          "shape": "linear",
          "width": 1.3
         },
         "mode": "lines",
         "name": "Broccoli",
         "text": "",
         "type": "scatter",
         "x": [
          -0.6931471805599453,
          -0.5108256237659907,
          -0.35667494393873245,
          -0.22314355131420968,
          -0.10536051565782628,
          0,
          0.09531017980432495,
          0.1823215567939546,
          0.26236426446749106,
          0.33647223662121284,
          0.4054651081081644
         ],
         "y": [
          0,
          0,
          0,
          0,
          0,
          0,
          0,
          0,
          0,
          0,
          0
         ]
        },
        {
         "line": {
          "color": "rgba(50, 171, 96, 1.0)",
          "dash": "solid",
          "shape": "linear",
          "width": 1.3
         },
         "mode": "lines",
         "name": "Carrots",
         "text": "",
         "type": "scatter",
         "x": [
          -0.6931471805599453,
          -0.5108256237659907,
          -0.35667494393873245,
          -0.22314355131420968,
          -0.10536051565782628,
          0,
          0.09531017980432495,
          0.1823215567939546,
          0.26236426446749106,
          0.33647223662121284,
          0.4054651081081644
         ],
         "y": [
          -0.3423040923119491,
          -0.21729311522363293,
          -0.1313432033644557,
          -0.08561833902193391,
          -0.04189313675335544,
          0,
          0.040208442509562986,
          0.07886246564232498,
          0.11236212818599264,
          0.11274792461887104,
          0.11313357227025954
         ]
        },
        {
         "line": {
          "color": "rgba(128, 0, 128, 1.0)",
          "dash": "solid",
          "shape": "linear",
          "width": 1.3
         },
         "mode": "lines",
         "name": "Cauliflower",
         "text": "",
         "type": "scatter",
         "x": [
          -0.6931471805599453,
          -0.5108256237659907,
          -0.35667494393873245,
          -0.22314355131420968,
          -0.10536051565782628,
          0,
          0.09531017980432495,
          0.1823215567939546,
          0.26236426446749106,
          0.33647223662121284,
          0.4054651081081644
         ],
         "y": [
          0,
          0,
          0,
          0,
          0,
          0,
          0,
          0,
          0,
          0,
          0
         ]
        },
        {
         "line": {
          "color": "rgba(219, 64, 82, 1.0)",
          "dash": "solid",
          "shape": "linear",
          "width": 1.3
         },
         "mode": "lines",
         "name": "Cheetos",
         "text": "",
         "type": "scatter",
         "x": [
          -0.6931471805599453,
          -0.5108256237659907,
          -0.35667494393873245,
          -0.22314355131420968,
          -0.10536051565782628,
          0,
          0.09531017980432495,
          0.1823215567939546,
          0.26236426446749106,
          0.33647223662121284,
          0.4054651081081644
         ],
         "y": [
          -0.040368853204518454,
          -0.026740760534076796,
          -0.013295898487270306,
          -2.9405262933381394e-05,
          0,
          0,
          0,
          0,
          0,
          0,
          0
         ]
        },
        {
         "line": {
          "color": "rgba(0, 128, 128, 1.0)",
          "dash": "solid",
          "shape": "linear",
          "width": 1.3
         },
         "mode": "lines",
         "name": "Corn",
         "text": "",
         "type": "scatter",
         "x": [
          -0.6931471805599453,
          -0.5108256237659907,
          -0.35667494393873245,
          -0.22314355131420968,
          -0.10536051565782628,
          0,
          0.09531017980432495,
          0.1823215567939546,
          0.26236426446749106,
          0.33647223662121284,
          0.4054651081081644
         ],
         "y": [
          -0.17552760520102972,
          -0.13787063518332404,
          -0.1015804010595059,
          -0.06656115805842654,
          -0.032726882759683995,
          0,
          0.03168968840721039,
          0.06240591035243345,
          0.09220669495667416,
          0.12114503242184875,
          0.14926944105820913
         ]
        },
        {
         "line": {
          "color": "rgba(255, 255, 51, 1.0)",
          "dash": "solid",
          "shape": "linear",
          "width": 1.3
         },
         "mode": "lines",
         "name": "Egg",
         "text": "",
         "type": "scatter",
         "x": [
          -0.6931471805599453,
          -0.5108256237659907,
          -0.35667494393873245,
          -0.22314355131420968,
          -0.10536051565782628,
          0,
          0.09531017980432495,
          0.1823215567939546,
          0.26236426446749106,
          0.33647223662121284,
          0.4054651081081644
         ],
         "y": [
          0,
          0,
          0,
          0,
          0,
          0,
          0,
          0,
          0,
          0,
          0
         ]
        },
        {
         "line": {
          "color": "rgba(128, 128, 0, 1.0)",
          "dash": "solid",
          "shape": "linear",
          "width": 1.3
         },
         "mode": "lines",
         "name": "Ground beef",
         "text": "",
         "type": "scatter",
         "x": [
          -0.6931471805599453,
          -0.5108256237659907,
          -0.35667494393873245,
          -0.22314355131420968,
          -0.10536051565782628,
          0,
          0.09531017980432495,
          0.1823215567939546,
          0.26236426446749106,
          0.33647223662121284,
          0.4054651081081644
         ],
         "y": [
          0,
          0,
          0,
          0,
          0,
          0,
          0,
          0,
          0,
          0,
          0
         ]
        },
        {
         "line": {
          "color": "rgba(251, 128, 114, 1.0)",
          "dash": "solid",
          "shape": "linear",
          "width": 1.3
         },
         "mode": "lines",
         "name": "Loaf of white bread",
         "text": "",
         "type": "scatter",
         "x": [
          -0.6931471805599453,
          -0.5108256237659907,
          -0.35667494393873245,
          -0.22314355131420968,
          -0.10536051565782628,
          0,
          0.09531017980432495,
          0.1823215567939546,
          0.26236426446749106,
          0.33647223662121284,
          0.4054651081081644
         ],
         "y": [
          0,
          0,
          0,
          0,
          0,
          0,
          0,
          0,
          0,
          0,
          0
         ]
        },
        {
         "line": {
          "color": "rgba(128, 177, 211, 1.0)",
          "dash": "solid",
          "shape": "linear",
          "width": 1.3
         },
         "mode": "lines",
         "name": "Potatoes",
         "text": "",
         "type": "scatter",
         "x": [
          -0.6931471805599453,
          -0.5108256237659907,
          -0.35667494393873245,
          -0.22314355131420968,
          -0.10536051565782628,
          0,
          0.09531017980432495,
          0.1823215567939546,
          0.26236426446749106,
          0.33647223662121284,
          0.4054651081081644
         ],
         "y": [
          -0.06481565468805371,
          -0.051512077649805796,
          -0.03838316465919202,
          -0.025424388722479447,
          -0.012631396594617173,
          0,
          0.012473832599178055,
          0.024793983727459473,
          0.03413273474937404,
          0.04185618224470444,
          0.04952043499433274
         ]
        },
        {
         "line": {
          "color": "rgba(128, 177, 211, 0.8999999999999999)",
          "dash": "solid",
          "shape": "linear",
          "width": 1.3
         },
         "mode": "lines",
         "name": "Spaghetti",
         "text": "",
         "type": "scatter",
         "x": [
          -0.6931471805599453,
          -0.5108256237659907,
          -0.35667494393873245,
          -0.22314355131420968,
          -0.10536051565782628,
          0,
          0.09531017980432495,
          0.1823215567939546,
          0.26236426446749106,
          0.33647223662121284,
          0.4054651081081644
         ],
         "y": [
          -0.016082651437016943,
          -0.010689289067254587,
          -0.005324859082066318,
          0,
          0,
          0,
          0,
          0,
          0,
          0,
          0
         ]
        },
        {
         "line": {
          "color": "rgba(255, 153, 51, 0.8999999999999999)",
          "dash": "solid",
          "shape": "linear",
          "width": 1.3
         },
         "mode": "lines",
         "name": "Tomato",
         "text": "",
         "type": "scatter",
         "x": [
          -0.6931471805599453,
          -0.5108256237659907,
          -0.35667494393873245,
          -0.22314355131420968,
          -0.10536051565782628,
          0,
          0.09531017980432495,
          0.1823215567939546,
          0.26236426446749106,
          0.33647223662121284,
          0.4054651081081644
         ],
         "y": [
          -0.10791039919090105,
          -0.06007812229382106,
          -0.014429710206679706,
          0,
          0,
          0,
          0,
          0,
          0,
          0,
          0
         ]
        },
        {
         "line": {
          "color": "rgba(55, 128, 191, 0.8999999999999999)",
          "dash": "solid",
          "shape": "linear",
          "width": 1.3
         },
         "mode": "lines",
         "name": "Whole Chicken",
         "text": "",
         "type": "scatter",
         "x": [
          -0.6931471805599453,
          -0.5108256237659907,
          -0.35667494393873245,
          -0.22314355131420968,
          -0.10536051565782628,
          0,
          0.09531017980432495,
          0.1823215567939546,
          0.26236426446749106,
          0.33647223662121284,
          0.4054651081081644
         ],
         "y": [
          0,
          0,
          0,
          0,
          0,
          0,
          0,
          0,
          0,
          0,
          0
         ]
        },
        {
         "line": {
          "color": "rgba(50, 171, 96, 0.8999999999999999)",
          "dash": "solid",
          "shape": "linear",
          "width": 1.3
         },
         "mode": "lines",
         "name": "Whole Milk",
         "text": "",
         "type": "scatter",
         "x": [
          -0.6931471805599453,
          -0.5108256237659907,
          -0.35667494393873245,
          -0.22314355131420968,
          -0.10536051565782628,
          0,
          0.09531017980432495,
          0.1823215567939546,
          0.26236426446749106,
          0.33647223662121284,
          0.4054651081081644
         ],
         "y": [
          -0.0737711215767691,
          -0.058575093117539265,
          -0.043606531655912835,
          -0.028858727665772528,
          -0.014325264174871708,
          0,
          0.014122945833906463,
          0.028049208589643125,
          0.04178419131803285,
          0.055333077443575046,
          0.06870084250882486
         ]
        }
       ],
       "layout": {
        "autosize": true,
        "legend": {
         "bgcolor": "#F5F6F9",
         "font": {
          "color": "#4D5663"
         }
        },
        "paper_bgcolor": "#F5F6F9",
        "plot_bgcolor": "#F5F6F9",
        "template": {
         "data": {
          "bar": [
           {
            "error_x": {
             "color": "#2a3f5f"
            },
            "error_y": {
             "color": "#2a3f5f"
            },
            "marker": {
             "line": {
              "color": "#E5ECF6",
              "width": 0.5
             },
             "pattern": {
              "fillmode": "overlay",
              "size": 10,
              "solidity": 0.2
             }
            },
            "type": "bar"
           }
          ],
          "barpolar": [
           {
            "marker": {
             "line": {
              "color": "#E5ECF6",
              "width": 0.5
             },
             "pattern": {
              "fillmode": "overlay",
              "size": 10,
              "solidity": 0.2
             }
            },
            "type": "barpolar"
           }
          ],
          "carpet": [
           {
            "aaxis": {
             "endlinecolor": "#2a3f5f",
             "gridcolor": "white",
             "linecolor": "white",
             "minorgridcolor": "white",
             "startlinecolor": "#2a3f5f"
            },
            "baxis": {
             "endlinecolor": "#2a3f5f",
             "gridcolor": "white",
             "linecolor": "white",
             "minorgridcolor": "white",
             "startlinecolor": "#2a3f5f"
            },
            "type": "carpet"
           }
          ],
          "choropleth": [
           {
            "colorbar": {
             "outlinewidth": 0,
             "ticks": ""
            },
            "type": "choropleth"
           }
          ],
          "contour": [
           {
            "colorbar": {
             "outlinewidth": 0,
             "ticks": ""
            },
            "colorscale": [
             [
              0,
              "#0d0887"
             ],
             [
              0.1111111111111111,
              "#46039f"
             ],
             [
              0.2222222222222222,
              "#7201a8"
             ],
             [
              0.3333333333333333,
              "#9c179e"
             ],
             [
              0.4444444444444444,
              "#bd3786"
             ],
             [
              0.5555555555555556,
              "#d8576b"
             ],
             [
              0.6666666666666666,
              "#ed7953"
             ],
             [
              0.7777777777777778,
              "#fb9f3a"
             ],
             [
              0.8888888888888888,
              "#fdca26"
             ],
             [
              1,
              "#f0f921"
             ]
            ],
            "type": "contour"
           }
          ],
          "contourcarpet": [
           {
            "colorbar": {
             "outlinewidth": 0,
             "ticks": ""
            },
            "type": "contourcarpet"
           }
          ],
          "heatmap": [
           {
            "colorbar": {
             "outlinewidth": 0,
             "ticks": ""
            },
            "colorscale": [
             [
              0,
              "#0d0887"
             ],
             [
              0.1111111111111111,
              "#46039f"
             ],
             [
              0.2222222222222222,
              "#7201a8"
             ],
             [
              0.3333333333333333,
              "#9c179e"
             ],
             [
              0.4444444444444444,
              "#bd3786"
             ],
             [
              0.5555555555555556,
              "#d8576b"
             ],
             [
              0.6666666666666666,
              "#ed7953"
             ],
             [
              0.7777777777777778,
              "#fb9f3a"
             ],
             [
              0.8888888888888888,
              "#fdca26"
             ],
             [
              1,
              "#f0f921"
             ]
            ],
            "type": "heatmap"
           }
          ],
          "heatmapgl": [
           {
            "colorbar": {
             "outlinewidth": 0,
             "ticks": ""
            },
            "colorscale": [
             [
              0,
              "#0d0887"
             ],
             [
              0.1111111111111111,
              "#46039f"
             ],
             [
              0.2222222222222222,
              "#7201a8"
             ],
             [
              0.3333333333333333,
              "#9c179e"
             ],
             [
              0.4444444444444444,
              "#bd3786"
             ],
             [
              0.5555555555555556,
              "#d8576b"
             ],
             [
              0.6666666666666666,
              "#ed7953"
             ],
             [
              0.7777777777777778,
              "#fb9f3a"
             ],
             [
              0.8888888888888888,
              "#fdca26"
             ],
             [
              1,
              "#f0f921"
             ]
            ],
            "type": "heatmapgl"
           }
          ],
          "histogram": [
           {
            "marker": {
             "pattern": {
              "fillmode": "overlay",
              "size": 10,
              "solidity": 0.2
             }
            },
            "type": "histogram"
           }
          ],
          "histogram2d": [
           {
            "colorbar": {
             "outlinewidth": 0,
             "ticks": ""
            },
            "colorscale": [
             [
              0,
              "#0d0887"
             ],
             [
              0.1111111111111111,
              "#46039f"
             ],
             [
              0.2222222222222222,
              "#7201a8"
             ],
             [
              0.3333333333333333,
              "#9c179e"
             ],
             [
              0.4444444444444444,
              "#bd3786"
             ],
             [
              0.5555555555555556,
              "#d8576b"
             ],
             [
              0.6666666666666666,
              "#ed7953"
             ],
             [
              0.7777777777777778,
              "#fb9f3a"
             ],
             [
              0.8888888888888888,
              "#fdca26"
             ],
             [
              1,
              "#f0f921"
             ]
            ],
            "type": "histogram2d"
           }
          ],
          "histogram2dcontour": [
           {
            "colorbar": {
             "outlinewidth": 0,
             "ticks": ""
            },
            "colorscale": [
             [
              0,
              "#0d0887"
             ],
             [
              0.1111111111111111,
              "#46039f"
             ],
             [
              0.2222222222222222,
              "#7201a8"
             ],
             [
              0.3333333333333333,
              "#9c179e"
             ],
             [
              0.4444444444444444,
              "#bd3786"
             ],
             [
              0.5555555555555556,
              "#d8576b"
             ],
             [
              0.6666666666666666,
              "#ed7953"
             ],
             [
              0.7777777777777778,
              "#fb9f3a"
             ],
             [
              0.8888888888888888,
              "#fdca26"
             ],
             [
              1,
              "#f0f921"
             ]
            ],
            "type": "histogram2dcontour"
           }
          ],
          "mesh3d": [
           {
            "colorbar": {
             "outlinewidth": 0,
             "ticks": ""
            },
            "type": "mesh3d"
           }
          ],
          "parcoords": [
           {
            "line": {
             "colorbar": {
              "outlinewidth": 0,
              "ticks": ""
             }
            },
            "type": "parcoords"
           }
          ],
          "pie": [
           {
            "automargin": true,
            "type": "pie"
           }
          ],
          "scatter": [
           {
            "fillpattern": {
             "fillmode": "overlay",
             "size": 10,
             "solidity": 0.2
            },
            "type": "scatter"
           }
          ],
          "scatter3d": [
           {
            "line": {
             "colorbar": {
              "outlinewidth": 0,
              "ticks": ""
             }
            },
            "marker": {
             "colorbar": {
              "outlinewidth": 0,
              "ticks": ""
             }
            },
            "type": "scatter3d"
           }
          ],
          "scattercarpet": [
           {
            "marker": {
             "colorbar": {
              "outlinewidth": 0,
              "ticks": ""
             }
            },
            "type": "scattercarpet"
           }
          ],
          "scattergeo": [
           {
            "marker": {
             "colorbar": {
              "outlinewidth": 0,
              "ticks": ""
             }
            },
            "type": "scattergeo"
           }
          ],
          "scattergl": [
           {
            "marker": {
             "colorbar": {
              "outlinewidth": 0,
              "ticks": ""
             }
            },
            "type": "scattergl"
           }
          ],
          "scattermapbox": [
           {
            "marker": {
             "colorbar": {
              "outlinewidth": 0,
              "ticks": ""
             }
            },
            "type": "scattermapbox"
           }
          ],
          "scatterpolar": [
           {
            "marker": {
             "colorbar": {
              "outlinewidth": 0,
              "ticks": ""
             }
            },
            "type": "scatterpolar"
           }
          ],
          "scatterpolargl": [
           {
            "marker": {
             "colorbar": {
              "outlinewidth": 0,
              "ticks": ""
             }
            },
            "type": "scatterpolargl"
           }
          ],
          "scatterternary": [
           {
            "marker": {
             "colorbar": {
              "outlinewidth": 0,
              "ticks": ""
             }
            },
            "type": "scatterternary"
           }
          ],
          "surface": [
           {
            "colorbar": {
             "outlinewidth": 0,
             "ticks": ""
            },
            "colorscale": [
             [
              0,
              "#0d0887"
             ],
             [
              0.1111111111111111,
              "#46039f"
             ],
             [
              0.2222222222222222,
              "#7201a8"
             ],
             [
              0.3333333333333333,
              "#9c179e"
             ],
             [
              0.4444444444444444,
              "#bd3786"
             ],
             [
              0.5555555555555556,
              "#d8576b"
             ],
             [
              0.6666666666666666,
              "#ed7953"
             ],
             [
              0.7777777777777778,
              "#fb9f3a"
             ],
             [
              0.8888888888888888,
              "#fdca26"
             ],
             [
              1,
              "#f0f921"
             ]
            ],
            "type": "surface"
           }
          ],
          "table": [
           {
            "cells": {
             "fill": {
              "color": "#EBF0F8"
             },
             "line": {
              "color": "white"
             }
            },
            "header": {
             "fill": {
              "color": "#C8D4E3"
             },
             "line": {
              "color": "white"
             }
            },
            "type": "table"
           }
          ]
         },
         "layout": {
          "annotationdefaults": {
           "arrowcolor": "#2a3f5f",
           "arrowhead": 0,
           "arrowwidth": 1
          },
          "autotypenumbers": "strict",
          "coloraxis": {
           "colorbar": {
            "outlinewidth": 0,
            "ticks": ""
           }
          },
          "colorscale": {
           "diverging": [
            [
             0,
             "#8e0152"
            ],
            [
             0.1,
             "#c51b7d"
            ],
            [
             0.2,
             "#de77ae"
            ],
            [
             0.3,
             "#f1b6da"
            ],
            [
             0.4,
             "#fde0ef"
            ],
            [
             0.5,
             "#f7f7f7"
            ],
            [
             0.6,
             "#e6f5d0"
            ],
            [
             0.7,
             "#b8e186"
            ],
            [
             0.8,
             "#7fbc41"
            ],
            [
             0.9,
             "#4d9221"
            ],
            [
             1,
             "#276419"
            ]
           ],
           "sequential": [
            [
             0,
             "#0d0887"
            ],
            [
             0.1111111111111111,
             "#46039f"
            ],
            [
             0.2222222222222222,
             "#7201a8"
            ],
            [
             0.3333333333333333,
             "#9c179e"
            ],
            [
             0.4444444444444444,
             "#bd3786"
            ],
            [
             0.5555555555555556,
             "#d8576b"
            ],
            [
             0.6666666666666666,
             "#ed7953"
            ],
            [
             0.7777777777777778,
             "#fb9f3a"
            ],
            [
             0.8888888888888888,
             "#fdca26"
            ],
            [
             1,
             "#f0f921"
            ]
           ],
           "sequentialminus": [
            [
             0,
             "#0d0887"
            ],
            [
             0.1111111111111111,
             "#46039f"
            ],
            [
             0.2222222222222222,
             "#7201a8"
            ],
            [
             0.3333333333333333,
             "#9c179e"
            ],
            [
             0.4444444444444444,
             "#bd3786"
            ],
            [
             0.5555555555555556,
             "#d8576b"
            ],
            [
             0.6666666666666666,
             "#ed7953"
            ],
            [
             0.7777777777777778,
             "#fb9f3a"
            ],
            [
             0.8888888888888888,
             "#fdca26"
            ],
            [
             1,
             "#f0f921"
            ]
           ]
          },
          "colorway": [
           "#636efa",
           "#EF553B",
           "#00cc96",
           "#ab63fa",
           "#FFA15A",
           "#19d3f3",
           "#FF6692",
           "#B6E880",
           "#FF97FF",
           "#FECB52"
          ],
          "font": {
           "color": "#2a3f5f"
          },
          "geo": {
           "bgcolor": "white",
           "lakecolor": "white",
           "landcolor": "#E5ECF6",
           "showlakes": true,
           "showland": true,
           "subunitcolor": "white"
          },
          "hoverlabel": {
           "align": "left"
          },
          "hovermode": "closest",
          "mapbox": {
           "style": "light"
          },
          "paper_bgcolor": "white",
          "plot_bgcolor": "#E5ECF6",
          "polar": {
           "angularaxis": {
            "gridcolor": "white",
            "linecolor": "white",
            "ticks": ""
           },
           "bgcolor": "#E5ECF6",
           "radialaxis": {
            "gridcolor": "white",
            "linecolor": "white",
            "ticks": ""
           }
          },
          "scene": {
           "xaxis": {
            "backgroundcolor": "#E5ECF6",
            "gridcolor": "white",
            "gridwidth": 2,
            "linecolor": "white",
            "showbackground": true,
            "ticks": "",
            "zerolinecolor": "white"
           },
           "yaxis": {
            "backgroundcolor": "#E5ECF6",
            "gridcolor": "white",
            "gridwidth": 2,
            "linecolor": "white",
            "showbackground": true,
            "ticks": "",
            "zerolinecolor": "white"
           },
           "zaxis": {
            "backgroundcolor": "#E5ECF6",
            "gridcolor": "white",
            "gridwidth": 2,
            "linecolor": "white",
            "showbackground": true,
            "ticks": "",
            "zerolinecolor": "white"
           }
          },
          "shapedefaults": {
           "line": {
            "color": "#2a3f5f"
           }
          },
          "ternary": {
           "aaxis": {
            "gridcolor": "white",
            "linecolor": "white",
            "ticks": ""
           },
           "baxis": {
            "gridcolor": "white",
            "linecolor": "white",
            "ticks": ""
           },
           "bgcolor": "#E5ECF6",
           "caxis": {
            "gridcolor": "white",
            "linecolor": "white",
            "ticks": ""
           }
          },
          "title": {
           "x": 0.05
          },
          "xaxis": {
           "automargin": true,
           "gridcolor": "white",
           "linecolor": "white",
           "ticks": "",
           "title": {
            "standoff": 15
           },
           "zerolinecolor": "white",
           "zerolinewidth": 2
          },
          "yaxis": {
           "automargin": true,
           "gridcolor": "white",
           "linecolor": "white",
           "ticks": "",
           "title": {
            "standoff": 15
           },
           "zerolinecolor": "white",
           "zerolinewidth": 2
          }
         }
        },
        "title": {
         "font": {
          "color": "#4D5663"
         },
         "text": "Near City Walmart Population"
        },
        "xaxis": {
         "autorange": true,
         "gridcolor": "#E1E5ED",
         "range": [
          -0.6931471805599453,
          0.4054651081081644
         ],
         "showgrid": true,
         "tickfont": {
          "color": "#4D5663"
         },
         "title": {
          "font": {
           "color": "#4D5663"
          },
          "text": "change in log price"
         },
         "type": "linear",
         "zerolinecolor": "#E1E5ED"
        },
        "yaxis": {
         "autorange": true,
         "gridcolor": "#E1E5ED",
         "range": [
          -0.36961373305473566,
          0.1765790818009957
         ],
         "showgrid": true,
         "tickfont": {
          "color": "#4D5663"
         },
         "title": {
          "font": {
           "color": "#4D5663"
          },
          "text": "change in log cost"
         },
         "type": "linear",
         "zerolinecolor": "#E1E5ED"
        }
       }
      },
      "image/png": "[encoded data removed]",
      "text/html": [
       "<div>                            <div id=\"c76da641-96bf-488d-a9f4-cef7bd89fe87\" class=\"plotly-graph-div\" style=\"height:525px; width:100%;\"></div>            <script type=\"text/javascript\">                require([\"plotly\"], function(Plotly) {                    window.PLOTLYENV=window.PLOTLYENV || {};\n",
       "                    window.PLOTLYENV.BASE_URL='https://plot.ly';                                    if (document.getElementById(\"c76da641-96bf-488d-a9f4-cef7bd89fe87\")) {                    Plotly.newPlot(                        \"c76da641-96bf-488d-a9f4-cef7bd89fe87\",                        [{\"line\":{\"color\":\"rgba(255, 153, 51, 1.0)\",\"dash\":\"solid\",\"shape\":\"linear\",\"width\":1.3},\"mode\":\"lines\",\"name\":\"Apple\",\"text\":\"\",\"x\":[-0.6931471805599453,-0.5108256237659907,-0.35667494393873245,-0.22314355131420968,-0.10536051565782628,0.0,0.09531017980432495,0.1823215567939546,0.26236426446749106,0.33647223662121284,0.4054651081081644],\"y\":[0.0,0.0,0.0,0.0,0.0,0.0,0.0,0.0,0.0,0.0,0.0],\"type\":\"scatter\"},{\"line\":{\"color\":\"rgba(55, 128, 191, 1.0)\",\"dash\":\"solid\",\"shape\":\"linear\",\"width\":1.3},\"mode\":\"lines\",\"name\":\"Broccoli\",\"text\":\"\",\"x\":[-0.6931471805599453,-0.5108256237659907,-0.35667494393873245,-0.22314355131420968,-0.10536051565782628,0.0,0.09531017980432495,0.1823215567939546,0.26236426446749106,0.33647223662121284,0.4054651081081644],\"y\":[0.0,0.0,0.0,0.0,0.0,0.0,0.0,0.0,0.0,0.0,0.0],\"type\":\"scatter\"},{\"line\":{\"color\":\"rgba(50, 171, 96, 1.0)\",\"dash\":\"solid\",\"shape\":\"linear\",\"width\":1.3},\"mode\":\"lines\",\"name\":\"Carrots\",\"text\":\"\",\"x\":[-0.6931471805599453,-0.5108256237659907,-0.35667494393873245,-0.22314355131420968,-0.10536051565782628,0.0,0.09531017980432495,0.1823215567939546,0.26236426446749106,0.33647223662121284,0.4054651081081644],\"y\":[-0.3423040923119491,-0.21729311522363293,-0.1313432033644557,-0.08561833902193391,-0.04189313675335544,0.0,0.040208442509562986,0.07886246564232498,0.11236212818599264,0.11274792461887104,0.11313357227025954],\"type\":\"scatter\"},{\"line\":{\"color\":\"rgba(128, 0, 128, 1.0)\",\"dash\":\"solid\",\"shape\":\"linear\",\"width\":1.3},\"mode\":\"lines\",\"name\":\"Cauliflower\",\"text\":\"\",\"x\":[-0.6931471805599453,-0.5108256237659907,-0.35667494393873245,-0.22314355131420968,-0.10536051565782628,0.0,0.09531017980432495,0.1823215567939546,0.26236426446749106,0.33647223662121284,0.4054651081081644],\"y\":[0.0,0.0,0.0,0.0,0.0,0.0,0.0,0.0,0.0,0.0,0.0],\"type\":\"scatter\"},{\"line\":{\"color\":\"rgba(219, 64, 82, 1.0)\",\"dash\":\"solid\",\"shape\":\"linear\",\"width\":1.3},\"mode\":\"lines\",\"name\":\"Cheetos\",\"text\":\"\",\"x\":[-0.6931471805599453,-0.5108256237659907,-0.35667494393873245,-0.22314355131420968,-0.10536051565782628,0.0,0.09531017980432495,0.1823215567939546,0.26236426446749106,0.33647223662121284,0.4054651081081644],\"y\":[-0.040368853204518454,-0.026740760534076796,-0.013295898487270306,-2.9405262933381394e-05,0.0,0.0,0.0,0.0,0.0,0.0,0.0],\"type\":\"scatter\"},{\"line\":{\"color\":\"rgba(0, 128, 128, 1.0)\",\"dash\":\"solid\",\"shape\":\"linear\",\"width\":1.3},\"mode\":\"lines\",\"name\":\"Corn\",\"text\":\"\",\"x\":[-0.6931471805599453,-0.5108256237659907,-0.35667494393873245,-0.22314355131420968,-0.10536051565782628,0.0,0.09531017980432495,0.1823215567939546,0.26236426446749106,0.33647223662121284,0.4054651081081644],\"y\":[-0.17552760520102972,-0.13787063518332404,-0.1015804010595059,-0.06656115805842654,-0.032726882759683995,0.0,0.03168968840721039,0.06240591035243345,0.09220669495667416,0.12114503242184875,0.14926944105820913],\"type\":\"scatter\"},{\"line\":{\"color\":\"rgba(255, 255, 51, 1.0)\",\"dash\":\"solid\",\"shape\":\"linear\",\"width\":1.3},\"mode\":\"lines\",\"name\":\"Egg\",\"text\":\"\",\"x\":[-0.6931471805599453,-0.5108256237659907,-0.35667494393873245,-0.22314355131420968,-0.10536051565782628,0.0,0.09531017980432495,0.1823215567939546,0.26236426446749106,0.33647223662121284,0.4054651081081644],\"y\":[0.0,0.0,0.0,0.0,0.0,0.0,0.0,0.0,0.0,0.0,0.0],\"type\":\"scatter\"},{\"line\":{\"color\":\"rgba(128, 128, 0, 1.0)\",\"dash\":\"solid\",\"shape\":\"linear\",\"width\":1.3},\"mode\":\"lines\",\"name\":\"Ground beef\",\"text\":\"\",\"x\":[-0.6931471805599453,-0.5108256237659907,-0.35667494393873245,-0.22314355131420968,-0.10536051565782628,0.0,0.09531017980432495,0.1823215567939546,0.26236426446749106,0.33647223662121284,0.4054651081081644],\"y\":[0.0,0.0,0.0,0.0,0.0,0.0,0.0,0.0,0.0,0.0,0.0],\"type\":\"scatter\"},{\"line\":{\"color\":\"rgba(251, 128, 114, 1.0)\",\"dash\":\"solid\",\"shape\":\"linear\",\"width\":1.3},\"mode\":\"lines\",\"name\":\"Loaf of white bread\",\"text\":\"\",\"x\":[-0.6931471805599453,-0.5108256237659907,-0.35667494393873245,-0.22314355131420968,-0.10536051565782628,0.0,0.09531017980432495,0.1823215567939546,0.26236426446749106,0.33647223662121284,0.4054651081081644],\"y\":[0.0,0.0,0.0,0.0,0.0,0.0,0.0,0.0,0.0,0.0,0.0],\"type\":\"scatter\"},{\"line\":{\"color\":\"rgba(128, 177, 211, 1.0)\",\"dash\":\"solid\",\"shape\":\"linear\",\"width\":1.3},\"mode\":\"lines\",\"name\":\"Potatoes\",\"text\":\"\",\"x\":[-0.6931471805599453,-0.5108256237659907,-0.35667494393873245,-0.22314355131420968,-0.10536051565782628,0.0,0.09531017980432495,0.1823215567939546,0.26236426446749106,0.33647223662121284,0.4054651081081644],\"y\":[-0.06481565468805371,-0.051512077649805796,-0.03838316465919202,-0.025424388722479447,-0.012631396594617173,0.0,0.012473832599178055,0.024793983727459473,0.03413273474937404,0.04185618224470444,0.04952043499433274],\"type\":\"scatter\"},{\"line\":{\"color\":\"rgba(128, 177, 211, 0.8999999999999999)\",\"dash\":\"solid\",\"shape\":\"linear\",\"width\":1.3},\"mode\":\"lines\",\"name\":\"Spaghetti\",\"text\":\"\",\"x\":[-0.6931471805599453,-0.5108256237659907,-0.35667494393873245,-0.22314355131420968,-0.10536051565782628,0.0,0.09531017980432495,0.1823215567939546,0.26236426446749106,0.33647223662121284,0.4054651081081644],\"y\":[-0.016082651437016943,-0.010689289067254587,-0.005324859082066318,0.0,0.0,0.0,0.0,0.0,0.0,0.0,0.0],\"type\":\"scatter\"},{\"line\":{\"color\":\"rgba(255, 153, 51, 0.8999999999999999)\",\"dash\":\"solid\",\"shape\":\"linear\",\"width\":1.3},\"mode\":\"lines\",\"name\":\"Tomato\",\"text\":\"\",\"x\":[-0.6931471805599453,-0.5108256237659907,-0.35667494393873245,-0.22314355131420968,-0.10536051565782628,0.0,0.09531017980432495,0.1823215567939546,0.26236426446749106,0.33647223662121284,0.4054651081081644],\"y\":[-0.10791039919090105,-0.06007812229382106,-0.014429710206679706,0.0,0.0,0.0,0.0,0.0,0.0,0.0,0.0],\"type\":\"scatter\"},{\"line\":{\"color\":\"rgba(55, 128, 191, 0.8999999999999999)\",\"dash\":\"solid\",\"shape\":\"linear\",\"width\":1.3},\"mode\":\"lines\",\"name\":\"Whole Chicken\",\"text\":\"\",\"x\":[-0.6931471805599453,-0.5108256237659907,-0.35667494393873245,-0.22314355131420968,-0.10536051565782628,0.0,0.09531017980432495,0.1823215567939546,0.26236426446749106,0.33647223662121284,0.4054651081081644],\"y\":[0.0,0.0,0.0,0.0,0.0,0.0,0.0,0.0,0.0,0.0,0.0],\"type\":\"scatter\"},{\"line\":{\"color\":\"rgba(50, 171, 96, 0.8999999999999999)\",\"dash\":\"solid\",\"shape\":\"linear\",\"width\":1.3},\"mode\":\"lines\",\"name\":\"Whole Milk\",\"text\":\"\",\"x\":[-0.6931471805599453,-0.5108256237659907,-0.35667494393873245,-0.22314355131420968,-0.10536051565782628,0.0,0.09531017980432495,0.1823215567939546,0.26236426446749106,0.33647223662121284,0.4054651081081644],\"y\":[-0.0737711215767691,-0.058575093117539265,-0.043606531655912835,-0.028858727665772528,-0.014325264174871708,0.0,0.014122945833906463,0.028049208589643125,0.04178419131803285,0.055333077443575046,0.06870084250882486],\"type\":\"scatter\"}],                        {\"legend\":{\"bgcolor\":\"#F5F6F9\",\"font\":{\"color\":\"#4D5663\"}},\"paper_bgcolor\":\"#F5F6F9\",\"plot_bgcolor\":\"#F5F6F9\",\"template\":{\"data\":{\"barpolar\":[{\"marker\":{\"line\":{\"color\":\"#E5ECF6\",\"width\":0.5},\"pattern\":{\"fillmode\":\"overlay\",\"size\":10,\"solidity\":0.2}},\"type\":\"barpolar\"}],\"bar\":[{\"error_x\":{\"color\":\"#2a3f5f\"},\"error_y\":{\"color\":\"#2a3f5f\"},\"marker\":{\"line\":{\"color\":\"#E5ECF6\",\"width\":0.5},\"pattern\":{\"fillmode\":\"overlay\",\"size\":10,\"solidity\":0.2}},\"type\":\"bar\"}],\"carpet\":[{\"aaxis\":{\"endlinecolor\":\"#2a3f5f\",\"gridcolor\":\"white\",\"linecolor\":\"white\",\"minorgridcolor\":\"white\",\"startlinecolor\":\"#2a3f5f\"},\"baxis\":{\"endlinecolor\":\"#2a3f5f\",\"gridcolor\":\"white\",\"linecolor\":\"white\",\"minorgridcolor\":\"white\",\"startlinecolor\":\"#2a3f5f\"},\"type\":\"carpet\"}],\"choropleth\":[{\"colorbar\":{\"outlinewidth\":0,\"ticks\":\"\"},\"type\":\"choropleth\"}],\"contourcarpet\":[{\"colorbar\":{\"outlinewidth\":0,\"ticks\":\"\"},\"type\":\"contourcarpet\"}],\"contour\":[{\"colorbar\":{\"outlinewidth\":0,\"ticks\":\"\"},\"colorscale\":[[0.0,\"#0d0887\"],[0.1111111111111111,\"#46039f\"],[0.2222222222222222,\"#7201a8\"],[0.3333333333333333,\"#9c179e\"],[0.4444444444444444,\"#bd3786\"],[0.5555555555555556,\"#d8576b\"],[0.6666666666666666,\"#ed7953\"],[0.7777777777777778,\"#fb9f3a\"],[0.8888888888888888,\"#fdca26\"],[1.0,\"#f0f921\"]],\"type\":\"contour\"}],\"heatmapgl\":[{\"colorbar\":{\"outlinewidth\":0,\"ticks\":\"\"},\"colorscale\":[[0.0,\"#0d0887\"],[0.1111111111111111,\"#46039f\"],[0.2222222222222222,\"#7201a8\"],[0.3333333333333333,\"#9c179e\"],[0.4444444444444444,\"#bd3786\"],[0.5555555555555556,\"#d8576b\"],[0.6666666666666666,\"#ed7953\"],[0.7777777777777778,\"#fb9f3a\"],[0.8888888888888888,\"#fdca26\"],[1.0,\"#f0f921\"]],\"type\":\"heatmapgl\"}],\"heatmap\":[{\"colorbar\":{\"outlinewidth\":0,\"ticks\":\"\"},\"colorscale\":[[0.0,\"#0d0887\"],[0.1111111111111111,\"#46039f\"],[0.2222222222222222,\"#7201a8\"],[0.3333333333333333,\"#9c179e\"],[0.4444444444444444,\"#bd3786\"],[0.5555555555555556,\"#d8576b\"],[0.6666666666666666,\"#ed7953\"],[0.7777777777777778,\"#fb9f3a\"],[0.8888888888888888,\"#fdca26\"],[1.0,\"#f0f921\"]],\"type\":\"heatmap\"}],\"histogram2dcontour\":[{\"colorbar\":{\"outlinewidth\":0,\"ticks\":\"\"},\"colorscale\":[[0.0,\"#0d0887\"],[0.1111111111111111,\"#46039f\"],[0.2222222222222222,\"#7201a8\"],[0.3333333333333333,\"#9c179e\"],[0.4444444444444444,\"#bd3786\"],[0.5555555555555556,\"#d8576b\"],[0.6666666666666666,\"#ed7953\"],[0.7777777777777778,\"#fb9f3a\"],[0.8888888888888888,\"#fdca26\"],[1.0,\"#f0f921\"]],\"type\":\"histogram2dcontour\"}],\"histogram2d\":[{\"colorbar\":{\"outlinewidth\":0,\"ticks\":\"\"},\"colorscale\":[[0.0,\"#0d0887\"],[0.1111111111111111,\"#46039f\"],[0.2222222222222222,\"#7201a8\"],[0.3333333333333333,\"#9c179e\"],[0.4444444444444444,\"#bd3786\"],[0.5555555555555556,\"#d8576b\"],[0.6666666666666666,\"#ed7953\"],[0.7777777777777778,\"#fb9f3a\"],[0.8888888888888888,\"#fdca26\"],[1.0,\"#f0f921\"]],\"type\":\"histogram2d\"}],\"histogram\":[{\"marker\":{\"pattern\":{\"fillmode\":\"overlay\",\"size\":10,\"solidity\":0.2}},\"type\":\"histogram\"}],\"mesh3d\":[{\"colorbar\":{\"outlinewidth\":0,\"ticks\":\"\"},\"type\":\"mesh3d\"}],\"parcoords\":[{\"line\":{\"colorbar\":{\"outlinewidth\":0,\"ticks\":\"\"}},\"type\":\"parcoords\"}],\"pie\":[{\"automargin\":true,\"type\":\"pie\"}],\"scatter3d\":[{\"line\":{\"colorbar\":{\"outlinewidth\":0,\"ticks\":\"\"}},\"marker\":{\"colorbar\":{\"outlinewidth\":0,\"ticks\":\"\"}},\"type\":\"scatter3d\"}],\"scattercarpet\":[{\"marker\":{\"colorbar\":{\"outlinewidth\":0,\"ticks\":\"\"}},\"type\":\"scattercarpet\"}],\"scattergeo\":[{\"marker\":{\"colorbar\":{\"outlinewidth\":0,\"ticks\":\"\"}},\"type\":\"scattergeo\"}],\"scattergl\":[{\"marker\":{\"colorbar\":{\"outlinewidth\":0,\"ticks\":\"\"}},\"type\":\"scattergl\"}],\"scattermapbox\":[{\"marker\":{\"colorbar\":{\"outlinewidth\":0,\"ticks\":\"\"}},\"type\":\"scattermapbox\"}],\"scatterpolargl\":[{\"marker\":{\"colorbar\":{\"outlinewidth\":0,\"ticks\":\"\"}},\"type\":\"scatterpolargl\"}],\"scatterpolar\":[{\"marker\":{\"colorbar\":{\"outlinewidth\":0,\"ticks\":\"\"}},\"type\":\"scatterpolar\"}],\"scatter\":[{\"fillpattern\":{\"fillmode\":\"overlay\",\"size\":10,\"solidity\":0.2},\"type\":\"scatter\"}],\"scatterternary\":[{\"marker\":{\"colorbar\":{\"outlinewidth\":0,\"ticks\":\"\"}},\"type\":\"scatterternary\"}],\"surface\":[{\"colorbar\":{\"outlinewidth\":0,\"ticks\":\"\"},\"colorscale\":[[0.0,\"#0d0887\"],[0.1111111111111111,\"#46039f\"],[0.2222222222222222,\"#7201a8\"],[0.3333333333333333,\"#9c179e\"],[0.4444444444444444,\"#bd3786\"],[0.5555555555555556,\"#d8576b\"],[0.6666666666666666,\"#ed7953\"],[0.7777777777777778,\"#fb9f3a\"],[0.8888888888888888,\"#fdca26\"],[1.0,\"#f0f921\"]],\"type\":\"surface\"}],\"table\":[{\"cells\":{\"fill\":{\"color\":\"#EBF0F8\"},\"line\":{\"color\":\"white\"}},\"header\":{\"fill\":{\"color\":\"#C8D4E3\"},\"line\":{\"color\":\"white\"}},\"type\":\"table\"}]},\"layout\":{\"annotationdefaults\":{\"arrowcolor\":\"#2a3f5f\",\"arrowhead\":0,\"arrowwidth\":1},\"autotypenumbers\":\"strict\",\"coloraxis\":{\"colorbar\":{\"outlinewidth\":0,\"ticks\":\"\"}},\"colorscale\":{\"diverging\":[[0,\"#8e0152\"],[0.1,\"#c51b7d\"],[0.2,\"#de77ae\"],[0.3,\"#f1b6da\"],[0.4,\"#fde0ef\"],[0.5,\"#f7f7f7\"],[0.6,\"#e6f5d0\"],[0.7,\"#b8e186\"],[0.8,\"#7fbc41\"],[0.9,\"#4d9221\"],[1,\"#276419\"]],\"sequential\":[[0.0,\"#0d0887\"],[0.1111111111111111,\"#46039f\"],[0.2222222222222222,\"#7201a8\"],[0.3333333333333333,\"#9c179e\"],[0.4444444444444444,\"#bd3786\"],[0.5555555555555556,\"#d8576b\"],[0.6666666666666666,\"#ed7953\"],[0.7777777777777778,\"#fb9f3a\"],[0.8888888888888888,\"#fdca26\"],[1.0,\"#f0f921\"]],\"sequentialminus\":[[0.0,\"#0d0887\"],[0.1111111111111111,\"#46039f\"],[0.2222222222222222,\"#7201a8\"],[0.3333333333333333,\"#9c179e\"],[0.4444444444444444,\"#bd3786\"],[0.5555555555555556,\"#d8576b\"],[0.6666666666666666,\"#ed7953\"],[0.7777777777777778,\"#fb9f3a\"],[0.8888888888888888,\"#fdca26\"],[1.0,\"#f0f921\"]]},\"colorway\":[\"#636efa\",\"#EF553B\",\"#00cc96\",\"#ab63fa\",\"#FFA15A\",\"#19d3f3\",\"#FF6692\",\"#B6E880\",\"#FF97FF\",\"#FECB52\"],\"font\":{\"color\":\"#2a3f5f\"},\"geo\":{\"bgcolor\":\"white\",\"lakecolor\":\"white\",\"landcolor\":\"#E5ECF6\",\"showlakes\":true,\"showland\":true,\"subunitcolor\":\"white\"},\"hoverlabel\":{\"align\":\"left\"},\"hovermode\":\"closest\",\"mapbox\":{\"style\":\"light\"},\"paper_bgcolor\":\"white\",\"plot_bgcolor\":\"#E5ECF6\",\"polar\":{\"angularaxis\":{\"gridcolor\":\"white\",\"linecolor\":\"white\",\"ticks\":\"\"},\"bgcolor\":\"#E5ECF6\",\"radialaxis\":{\"gridcolor\":\"white\",\"linecolor\":\"white\",\"ticks\":\"\"}},\"scene\":{\"xaxis\":{\"backgroundcolor\":\"#E5ECF6\",\"gridcolor\":\"white\",\"gridwidth\":2,\"linecolor\":\"white\",\"showbackground\":true,\"ticks\":\"\",\"zerolinecolor\":\"white\"},\"yaxis\":{\"backgroundcolor\":\"#E5ECF6\",\"gridcolor\":\"white\",\"gridwidth\":2,\"linecolor\":\"white\",\"showbackground\":true,\"ticks\":\"\",\"zerolinecolor\":\"white\"},\"zaxis\":{\"backgroundcolor\":\"#E5ECF6\",\"gridcolor\":\"white\",\"gridwidth\":2,\"linecolor\":\"white\",\"showbackground\":true,\"ticks\":\"\",\"zerolinecolor\":\"white\"}},\"shapedefaults\":{\"line\":{\"color\":\"#2a3f5f\"}},\"ternary\":{\"aaxis\":{\"gridcolor\":\"white\",\"linecolor\":\"white\",\"ticks\":\"\"},\"baxis\":{\"gridcolor\":\"white\",\"linecolor\":\"white\",\"ticks\":\"\"},\"bgcolor\":\"#E5ECF6\",\"caxis\":{\"gridcolor\":\"white\",\"linecolor\":\"white\",\"ticks\":\"\"}},\"title\":{\"x\":0.05},\"xaxis\":{\"automargin\":true,\"gridcolor\":\"white\",\"linecolor\":\"white\",\"ticks\":\"\",\"title\":{\"standoff\":15},\"zerolinecolor\":\"white\",\"zerolinewidth\":2},\"yaxis\":{\"automargin\":true,\"gridcolor\":\"white\",\"linecolor\":\"white\",\"ticks\":\"\",\"title\":{\"standoff\":15},\"zerolinecolor\":\"white\",\"zerolinewidth\":2}}},\"title\":{\"font\":{\"color\":\"#4D5663\"},\"text\":\"Near City Walmart Population\"},\"xaxis\":{\"gridcolor\":\"#E1E5ED\",\"showgrid\":true,\"tickfont\":{\"color\":\"#4D5663\"},\"title\":{\"font\":{\"color\":\"#4D5663\"},\"text\":\"change in log price\"},\"zerolinecolor\":\"#E1E5ED\"},\"yaxis\":{\"gridcolor\":\"#E1E5ED\",\"showgrid\":true,\"tickfont\":{\"color\":\"#4D5663\"},\"title\":{\"font\":{\"color\":\"#4D5663\"},\"text\":\"change in log cost\"},\"zerolinecolor\":\"#E1E5ED\"}},                        {\"showLink\": true, \"linkText\": \"Export to plot.ly\", \"plotlyServerURL\": \"https://plot.ly\", \"responsive\": true}                    ).then(function(){\n",
       "                            \n",
       "var gd = document.getElementById('c76da641-96bf-488d-a9f4-cef7bd89fe87');\n",
       "var x = new MutationObserver(function (mutations, observer) {{\n",
       "        var display = window.getComputedStyle(gd).display;\n",
       "        if (!display || display === 'none') {{\n",
       "            console.log([gd, 'removed!']);\n",
       "            Plotly.purge(gd);\n",
       "            observer.disconnect();\n",
       "        }}\n",
       "}});\n",
       "\n",
       "// Listen for the removal of the full notebook cells\n",
       "var notebookContainer = gd.closest('#notebook-container');\n",
       "if (notebookContainer) {{\n",
       "    x.observe(notebookContainer, {childList: true});\n",
       "}}\n",
       "\n",
       "// Listen for the clearing of the current output cell\n",
       "var outputEl = gd.closest('.output');\n",
       "if (outputEl) {{\n",
       "    x.observe(outputEl, {childList: true});\n",
       "}}\n",
       "\n",
       "                        })                };                });            </script>        </div>"
      ]
     },
     "metadata": {},
     "output_type": "display_data"
    }
   ],
   "source": [
    "import cufflinks as cf\n",
    "cf.go_offline()\n",
    "\n",
    "\n",
    "group=\"F 4-8\"\n",
    "scale = [.5,.6,.7,.8,.9,1.,1.1,1.2,1.3,1.4,1.5]\n",
    "Prices=Near_city_walmart_price\n",
    "cost0 = solve_subsistence_problem(FoodNutrients,Prices,diet_min[group],diet_max[group],tol=tol).fun\n",
    "\n",
    "my_p = Near_city_walmart_price.copy()\n",
    "\n",
    "Price_response={}\n",
    "for s in scale:\n",
    "    cost = {}\n",
    "    for i in Prices.index:\n",
    "        my_p = Prices.copy()\n",
    "        my_p[i] = (Prices[i]*s)\n",
    "        result = solve_subsistence_problem(FoodNutrients,my_p,diet_min[group],diet_max[group],tol=tol)\n",
    "        cost[i] = np.log(result.fun/cost0)\n",
    "    Price_response[np.log(s)] = cost\n",
    "\n",
    "Price_response = pd.DataFrame(Price_response).T\n",
    "Price_response.iplot(xTitle='change in log price',yTitle='change in log cost', title=\"Near City Walmart Population\")\n"
   ]
  },
  {
   "cell_type": "code",
   "execution_count": 87,
   "id": "f21692e8-dca8-40cb-b339-8159648a49c5",
   "metadata": {},
   "outputs": [
    {
     "data": {
      "text/html": [
       "        <script type=\"text/javascript\">\n",
       "        window.PlotlyConfig = {MathJaxConfig: 'local'};\n",
       "        if (window.MathJax && window.MathJax.Hub && window.MathJax.Hub.Config) {window.MathJax.Hub.Config({SVG: {font: \"STIX-Web\"}});}\n",
       "        if (typeof require !== 'undefined') {\n",
       "        require.undef(\"plotly\");\n",
       "        requirejs.config({\n",
       "            paths: {\n",
       "                'plotly': ['https://cdn.plot.ly/plotly-2.29.1.min']\n",
       "            }\n",
       "        });\n",
       "        require(['plotly'], function(Plotly) {\n",
       "            window._Plotly = Plotly;\n",
       "        });\n",
       "        }\n",
       "        </script>\n",
       "        "
      ]
     },
     "metadata": {},
     "output_type": "display_data"
    },
    {
     "data": {
      "application/vnd.plotly.v1+json": {
       "config": {
        "linkText": "Export to plot.ly",
        "plotlyServerURL": "https://plot.ly",
        "showLink": true
       },
       "data": [
        {
         "line": {
          "color": "rgba(255, 153, 51, 1.0)",
          "dash": "solid",
          "shape": "linear",
          "width": 1.3
         },
         "mode": "lines",
         "name": "Apple",
         "text": "",
         "type": "scatter",
         "x": [
          -0.6931471805599453,
          -0.5108256237659907,
          -0.35667494393873245,
          -0.22314355131420968,
          -0.10536051565782628,
          0,
          0.09531017980432495,
          0.1823215567939546,
          0.26236426446749106,
          0.33647223662121284,
          0.4054651081081644
         ],
         "y": [
          0,
          0,
          0,
          0,
          0,
          0,
          0,
          0,
          0,
          0,
          0
         ]
        },
        {
         "line": {
          "color": "rgba(55, 128, 191, 1.0)",
          "dash": "solid",
          "shape": "linear",
          "width": 1.3
         },
         "mode": "lines",
         "name": "Broccoli",
         "text": "",
         "type": "scatter",
         "x": [
          -0.6931471805599453,
          -0.5108256237659907,
          -0.35667494393873245,
          -0.22314355131420968,
          -0.10536051565782628,
          0,
          0.09531017980432495,
          0.1823215567939546,
          0.26236426446749106,
          0.33647223662121284,
          0.4054651081081644
         ],
         "y": [
          0,
          0,
          0,
          0,
          0,
          0,
          0,
          0,
          0,
          0,
          0
         ]
        },
        {
         "line": {
          "color": "rgba(50, 171, 96, 1.0)",
          "dash": "solid",
          "shape": "linear",
          "width": 1.3
         },
         "mode": "lines",
         "name": "Carrots",
         "text": "",
         "type": "scatter",
         "x": [
          -0.6931471805599453,
          -0.5108256237659907,
          -0.35667494393873245,
          -0.22314355131420968,
          -0.10536051565782628,
          0,
          0.09531017980432495,
          0.1823215567939546,
          0.26236426446749106,
          0.33647223662121284,
          0.4054651081081644
         ],
         "y": [
          -0.4933712738843223,
          -0.37331021419094756,
          -0.2661310083057437,
          -0.1693352655228998,
          -0.08108760298589428,
          0,
          0.07500272853924476,
          0.1447704085002439,
          0.20167494351252646,
          0.23815313896435691,
          0.2617832909633655
         ]
        },
        {
         "line": {
          "color": "rgba(128, 0, 128, 1.0)",
          "dash": "solid",
          "shape": "linear",
          "width": 1.3
         },
         "mode": "lines",
         "name": "Cauliflower",
         "text": "",
         "type": "scatter",
         "x": [
          -0.6931471805599453,
          -0.5108256237659907,
          -0.35667494393873245,
          -0.22314355131420968,
          -0.10536051565782628,
          0,
          0.09531017980432495,
          0.1823215567939546,
          0.26236426446749106,
          0.33647223662121284,
          0.4054651081081644
         ],
         "y": [
          0,
          0,
          0,
          0,
          0,
          0,
          0,
          0,
          0,
          0,
          0
         ]
        },
        {
         "line": {
          "color": "rgba(219, 64, 82, 1.0)",
          "dash": "solid",
          "shape": "linear",
          "width": 1.3
         },
         "mode": "lines",
         "name": "Cheetos",
         "text": "",
         "type": "scatter",
         "x": [
          -0.6931471805599453,
          -0.5108256237659907,
          -0.35667494393873245,
          -0.22314355131420968,
          -0.10536051565782628,
          0,
          0.09531017980432495,
          0.1823215567939546,
          0.26236426446749106,
          0.33647223662121284,
          0.4054651081081644
         ],
         "y": [
          -0.1101973678054107,
          -0.0684085305874453,
          -0.028296176182024055,
          0,
          0,
          0,
          0,
          0,
          0,
          0,
          0
         ]
        },
        {
         "line": {
          "color": "rgba(0, 128, 128, 1.0)",
          "dash": "solid",
          "shape": "linear",
          "width": 1.3
         },
         "mode": "lines",
         "name": "Corn",
         "text": "",
         "type": "scatter",
         "x": [
          -0.6931471805599453,
          -0.5108256237659907,
          -0.35667494393873245,
          -0.22314355131420968,
          -0.10536051565782628,
          0,
          0.09531017980432495,
          0.1823215567939546,
          0.26236426446749106,
          0.33647223662121284,
          0.4054651081081644
         ],
         "y": [
          -0.11745154684627732,
          -0.05283718938238784,
          0,
          0,
          0,
          0,
          0,
          0,
          0,
          0,
          0
         ]
        },
        {
         "line": {
          "color": "rgba(255, 255, 51, 1.0)",
          "dash": "solid",
          "shape": "linear",
          "width": 1.3
         },
         "mode": "lines",
         "name": "Egg",
         "text": "",
         "type": "scatter",
         "x": [
          -0.6931471805599453,
          -0.5108256237659907,
          -0.35667494393873245,
          -0.22314355131420968,
          -0.10536051565782628,
          0,
          0.09531017980432495,
          0.1823215567939546,
          0.26236426446749106,
          0.33647223662121284,
          0.4054651081081644
         ],
         "y": [
          0,
          0,
          0,
          0,
          0,
          0,
          0,
          0,
          0,
          0,
          0
         ]
        },
        {
         "line": {
          "color": "rgba(128, 128, 0, 1.0)",
          "dash": "solid",
          "shape": "linear",
          "width": 1.3
         },
         "mode": "lines",
         "name": "Ground beef",
         "text": "",
         "type": "scatter",
         "x": [
          -0.6931471805599453,
          -0.5108256237659907,
          -0.35667494393873245,
          -0.22314355131420968,
          -0.10536051565782628,
          0,
          0.09531017980432495,
          0.1823215567939546,
          0.26236426446749106,
          0.33647223662121284,
          0.4054651081081644
         ],
         "y": [
          0,
          0,
          0,
          0,
          0,
          0,
          0,
          0,
          0,
          0,
          0
         ]
        },
        {
         "line": {
          "color": "rgba(251, 128, 114, 1.0)",
          "dash": "solid",
          "shape": "linear",
          "width": 1.3
         },
         "mode": "lines",
         "name": "Loaf of white bread",
         "text": "",
         "type": "scatter",
         "x": [
          -0.6931471805599453,
          -0.5108256237659907,
          -0.35667494393873245,
          -0.22314355131420968,
          -0.10536051565782628,
          0,
          0.09531017980432495,
          0.1823215567939546,
          0.26236426446749106,
          0.33647223662121284,
          0.4054651081081644
         ],
         "y": [
          0,
          0,
          0,
          0,
          0,
          0,
          0,
          0,
          0,
          0,
          0
         ]
        },
        {
         "line": {
          "color": "rgba(128, 177, 211, 1.0)",
          "dash": "solid",
          "shape": "linear",
          "width": 1.3
         },
         "mode": "lines",
         "name": "Potatoes",
         "text": "",
         "type": "scatter",
         "x": [
          -0.6931471805599453,
          -0.5108256237659907,
          -0.35667494393873245,
          -0.22314355131420968,
          -0.10536051565782628,
          0,
          0.09531017980432495,
          0.1823215567939546,
          0.26236426446749106,
          0.33647223662121284,
          0.4054651081081644
         ],
         "y": [
          -0.051990044829573895,
          -0.041373548581075587,
          -0.03086857933566901,
          -0.020472818234763806,
          -0.010184017996522321,
          0,
          0.010081348483727668,
          0.02006207692225715,
          0.029944174022557394,
          0.03972957010931626,
          0.04942013938804268
         ]
        },
        {
         "line": {
          "color": "rgba(128, 177, 211, 0.8999999999999999)",
          "dash": "solid",
          "shape": "linear",
          "width": 1.3
         },
         "mode": "lines",
         "name": "Spaghetti",
         "text": "",
         "type": "scatter",
         "x": [
          -0.6931471805599453,
          -0.5108256237659907,
          -0.35667494393873245,
          -0.22314355131420968,
          -0.10536051565782628,
          0,
          0.09531017980432495,
          0.1823215567939546,
          0.26236426446749106,
          0.33647223662121284,
          0.4054651081081644
         ],
         "y": [
          0,
          0,
          0,
          0,
          0,
          0,
          0,
          0,
          0,
          0,
          0
         ]
        },
        {
         "line": {
          "color": "rgba(255, 153, 51, 0.8999999999999999)",
          "dash": "solid",
          "shape": "linear",
          "width": 1.3
         },
         "mode": "lines",
         "name": "Tomato",
         "text": "",
         "type": "scatter",
         "x": [
          -0.6931471805599453,
          -0.5108256237659907,
          -0.35667494393873245,
          -0.22314355131420968,
          -0.10536051565782628,
          0,
          0.09531017980432495,
          0.1823215567939546,
          0.26236426446749106,
          0.33647223662121284,
          0.4054651081081644
         ],
         "y": [
          -0.16613955809788095,
          -0.054379532475463184,
          0,
          0,
          0,
          0,
          0,
          0,
          0,
          0,
          0
         ]
        },
        {
         "line": {
          "color": "rgba(55, 128, 191, 0.8999999999999999)",
          "dash": "solid",
          "shape": "linear",
          "width": 1.3
         },
         "mode": "lines",
         "name": "Whole Chicken",
         "text": "",
         "type": "scatter",
         "x": [
          -0.6931471805599453,
          -0.5108256237659907,
          -0.35667494393873245,
          -0.22314355131420968,
          -0.10536051565782628,
          0,
          0.09531017980432495,
          0.1823215567939546,
          0.26236426446749106,
          0.33647223662121284,
          0.4054651081081644
         ],
         "y": [
          0,
          0,
          0,
          0,
          0,
          0,
          0,
          0,
          0,
          0,
          0
         ]
        },
        {
         "line": {
          "color": "rgba(50, 171, 96, 0.8999999999999999)",
          "dash": "solid",
          "shape": "linear",
          "width": 1.3
         },
         "mode": "lines",
         "name": "Whole Milk",
         "text": "",
         "type": "scatter",
         "x": [
          -0.6931471805599453,
          -0.5108256237659907,
          -0.35667494393873245,
          -0.22314355131420968,
          -0.10536051565782628,
          0,
          0.09531017980432495,
          0.1823215567939546,
          0.26236426446749106,
          0.33647223662121284,
          0.4054651081081644
         ],
         "y": [
          -0.061772066431331325,
          -0.04910861553200798,
          -0.03660352433087392,
          -0.024252881038311455,
          -0.012052917041241739,
          0,
          0.011909372643703856,
          0.02367857977677213,
          0.03531088236931828,
          0.046809428898400104,
          0.05817726046345417
         ]
        }
       ],
       "layout": {
        "autosize": true,
        "legend": {
         "bgcolor": "#F5F6F9",
         "font": {
          "color": "#4D5663"
         }
        },
        "paper_bgcolor": "#F5F6F9",
        "plot_bgcolor": "#F5F6F9",
        "template": {
         "data": {
          "bar": [
           {
            "error_x": {
             "color": "#2a3f5f"
            },
            "error_y": {
             "color": "#2a3f5f"
            },
            "marker": {
             "line": {
              "color": "#E5ECF6",
              "width": 0.5
             },
             "pattern": {
              "fillmode": "overlay",
              "size": 10,
              "solidity": 0.2
             }
            },
            "type": "bar"
           }
          ],
          "barpolar": [
           {
            "marker": {
             "line": {
              "color": "#E5ECF6",
              "width": 0.5
             },
             "pattern": {
              "fillmode": "overlay",
              "size": 10,
              "solidity": 0.2
             }
            },
            "type": "barpolar"
           }
          ],
          "carpet": [
           {
            "aaxis": {
             "endlinecolor": "#2a3f5f",
             "gridcolor": "white",
             "linecolor": "white",
             "minorgridcolor": "white",
             "startlinecolor": "#2a3f5f"
            },
            "baxis": {
             "endlinecolor": "#2a3f5f",
             "gridcolor": "white",
             "linecolor": "white",
             "minorgridcolor": "white",
             "startlinecolor": "#2a3f5f"
            },
            "type": "carpet"
           }
          ],
          "choropleth": [
           {
            "colorbar": {
             "outlinewidth": 0,
             "ticks": ""
            },
            "type": "choropleth"
           }
          ],
          "contour": [
           {
            "colorbar": {
             "outlinewidth": 0,
             "ticks": ""
            },
            "colorscale": [
             [
              0,
              "#0d0887"
             ],
             [
              0.1111111111111111,
              "#46039f"
             ],
             [
              0.2222222222222222,
              "#7201a8"
             ],
             [
              0.3333333333333333,
              "#9c179e"
             ],
             [
              0.4444444444444444,
              "#bd3786"
             ],
             [
              0.5555555555555556,
              "#d8576b"
             ],
             [
              0.6666666666666666,
              "#ed7953"
             ],
             [
              0.7777777777777778,
              "#fb9f3a"
             ],
             [
              0.8888888888888888,
              "#fdca26"
             ],
             [
              1,
              "#f0f921"
             ]
            ],
            "type": "contour"
           }
          ],
          "contourcarpet": [
           {
            "colorbar": {
             "outlinewidth": 0,
             "ticks": ""
            },
            "type": "contourcarpet"
           }
          ],
          "heatmap": [
           {
            "colorbar": {
             "outlinewidth": 0,
             "ticks": ""
            },
            "colorscale": [
             [
              0,
              "#0d0887"
             ],
             [
              0.1111111111111111,
              "#46039f"
             ],
             [
              0.2222222222222222,
              "#7201a8"
             ],
             [
              0.3333333333333333,
              "#9c179e"
             ],
             [
              0.4444444444444444,
              "#bd3786"
             ],
             [
              0.5555555555555556,
              "#d8576b"
             ],
             [
              0.6666666666666666,
              "#ed7953"
             ],
             [
              0.7777777777777778,
              "#fb9f3a"
             ],
             [
              0.8888888888888888,
              "#fdca26"
             ],
             [
              1,
              "#f0f921"
             ]
            ],
            "type": "heatmap"
           }
          ],
          "heatmapgl": [
           {
            "colorbar": {
             "outlinewidth": 0,
             "ticks": ""
            },
            "colorscale": [
             [
              0,
              "#0d0887"
             ],
             [
              0.1111111111111111,
              "#46039f"
             ],
             [
              0.2222222222222222,
              "#7201a8"
             ],
             [
              0.3333333333333333,
              "#9c179e"
             ],
             [
              0.4444444444444444,
              "#bd3786"
             ],
             [
              0.5555555555555556,
              "#d8576b"
             ],
             [
              0.6666666666666666,
              "#ed7953"
             ],
             [
              0.7777777777777778,
              "#fb9f3a"
             ],
             [
              0.8888888888888888,
              "#fdca26"
             ],
             [
              1,
              "#f0f921"
             ]
            ],
            "type": "heatmapgl"
           }
          ],
          "histogram": [
           {
            "marker": {
             "pattern": {
              "fillmode": "overlay",
              "size": 10,
              "solidity": 0.2
             }
            },
            "type": "histogram"
           }
          ],
          "histogram2d": [
           {
            "colorbar": {
             "outlinewidth": 0,
             "ticks": ""
            },
            "colorscale": [
             [
              0,
              "#0d0887"
             ],
             [
              0.1111111111111111,
              "#46039f"
             ],
             [
              0.2222222222222222,
              "#7201a8"
             ],
             [
              0.3333333333333333,
              "#9c179e"
             ],
             [
              0.4444444444444444,
              "#bd3786"
             ],
             [
              0.5555555555555556,
              "#d8576b"
             ],
             [
              0.6666666666666666,
              "#ed7953"
             ],
             [
              0.7777777777777778,
              "#fb9f3a"
             ],
             [
              0.8888888888888888,
              "#fdca26"
             ],
             [
              1,
              "#f0f921"
             ]
            ],
            "type": "histogram2d"
           }
          ],
          "histogram2dcontour": [
           {
            "colorbar": {
             "outlinewidth": 0,
             "ticks": ""
            },
            "colorscale": [
             [
              0,
              "#0d0887"
             ],
             [
              0.1111111111111111,
              "#46039f"
             ],
             [
              0.2222222222222222,
              "#7201a8"
             ],
             [
              0.3333333333333333,
              "#9c179e"
             ],
             [
              0.4444444444444444,
              "#bd3786"
             ],
             [
              0.5555555555555556,
              "#d8576b"
             ],
             [
              0.6666666666666666,
              "#ed7953"
             ],
             [
              0.7777777777777778,
              "#fb9f3a"
             ],
             [
              0.8888888888888888,
              "#fdca26"
             ],
             [
              1,
              "#f0f921"
             ]
            ],
            "type": "histogram2dcontour"
           }
          ],
          "mesh3d": [
           {
            "colorbar": {
             "outlinewidth": 0,
             "ticks": ""
            },
            "type": "mesh3d"
           }
          ],
          "parcoords": [
           {
            "line": {
             "colorbar": {
              "outlinewidth": 0,
              "ticks": ""
             }
            },
            "type": "parcoords"
           }
          ],
          "pie": [
           {
            "automargin": true,
            "type": "pie"
           }
          ],
          "scatter": [
           {
            "fillpattern": {
             "fillmode": "overlay",
             "size": 10,
             "solidity": 0.2
            },
            "type": "scatter"
           }
          ],
          "scatter3d": [
           {
            "line": {
             "colorbar": {
              "outlinewidth": 0,
              "ticks": ""
             }
            },
            "marker": {
             "colorbar": {
              "outlinewidth": 0,
              "ticks": ""
             }
            },
            "type": "scatter3d"
           }
          ],
          "scattercarpet": [
           {
            "marker": {
             "colorbar": {
              "outlinewidth": 0,
              "ticks": ""
             }
            },
            "type": "scattercarpet"
           }
          ],
          "scattergeo": [
           {
            "marker": {
             "colorbar": {
              "outlinewidth": 0,
              "ticks": ""
             }
            },
            "type": "scattergeo"
           }
          ],
          "scattergl": [
           {
            "marker": {
             "colorbar": {
              "outlinewidth": 0,
              "ticks": ""
             }
            },
            "type": "scattergl"
           }
          ],
          "scattermapbox": [
           {
            "marker": {
             "colorbar": {
              "outlinewidth": 0,
              "ticks": ""
             }
            },
            "type": "scattermapbox"
           }
          ],
          "scatterpolar": [
           {
            "marker": {
             "colorbar": {
              "outlinewidth": 0,
              "ticks": ""
             }
            },
            "type": "scatterpolar"
           }
          ],
          "scatterpolargl": [
           {
            "marker": {
             "colorbar": {
              "outlinewidth": 0,
              "ticks": ""
             }
            },
            "type": "scatterpolargl"
           }
          ],
          "scatterternary": [
           {
            "marker": {
             "colorbar": {
              "outlinewidth": 0,
              "ticks": ""
             }
            },
            "type": "scatterternary"
           }
          ],
          "surface": [
           {
            "colorbar": {
             "outlinewidth": 0,
             "ticks": ""
            },
            "colorscale": [
             [
              0,
              "#0d0887"
             ],
             [
              0.1111111111111111,
              "#46039f"
             ],
             [
              0.2222222222222222,
              "#7201a8"
             ],
             [
              0.3333333333333333,
              "#9c179e"
             ],
             [
              0.4444444444444444,
              "#bd3786"
             ],
             [
              0.5555555555555556,
              "#d8576b"
             ],
             [
              0.6666666666666666,
              "#ed7953"
             ],
             [
              0.7777777777777778,
              "#fb9f3a"
             ],
             [
              0.8888888888888888,
              "#fdca26"
             ],
             [
              1,
              "#f0f921"
             ]
            ],
            "type": "surface"
           }
          ],
          "table": [
           {
            "cells": {
             "fill": {
              "color": "#EBF0F8"
             },
             "line": {
              "color": "white"
             }
            },
            "header": {
             "fill": {
              "color": "#C8D4E3"
             },
             "line": {
              "color": "white"
             }
            },
            "type": "table"
           }
          ]
         },
         "layout": {
          "annotationdefaults": {
           "arrowcolor": "#2a3f5f",
           "arrowhead": 0,
           "arrowwidth": 1
          },
          "autotypenumbers": "strict",
          "coloraxis": {
           "colorbar": {
            "outlinewidth": 0,
            "ticks": ""
           }
          },
          "colorscale": {
           "diverging": [
            [
             0,
             "#8e0152"
            ],
            [
             0.1,
             "#c51b7d"
            ],
            [
             0.2,
             "#de77ae"
            ],
            [
             0.3,
             "#f1b6da"
            ],
            [
             0.4,
             "#fde0ef"
            ],
            [
             0.5,
             "#f7f7f7"
            ],
            [
             0.6,
             "#e6f5d0"
            ],
            [
             0.7,
             "#b8e186"
            ],
            [
             0.8,
             "#7fbc41"
            ],
            [
             0.9,
             "#4d9221"
            ],
            [
             1,
             "#276419"
            ]
           ],
           "sequential": [
            [
             0,
             "#0d0887"
            ],
            [
             0.1111111111111111,
             "#46039f"
            ],
            [
             0.2222222222222222,
             "#7201a8"
            ],
            [
             0.3333333333333333,
             "#9c179e"
            ],
            [
             0.4444444444444444,
             "#bd3786"
            ],
            [
             0.5555555555555556,
             "#d8576b"
            ],
            [
             0.6666666666666666,
             "#ed7953"
            ],
            [
             0.7777777777777778,
             "#fb9f3a"
            ],
            [
             0.8888888888888888,
             "#fdca26"
            ],
            [
             1,
             "#f0f921"
            ]
           ],
           "sequentialminus": [
            [
             0,
             "#0d0887"
            ],
            [
             0.1111111111111111,
             "#46039f"
            ],
            [
             0.2222222222222222,
             "#7201a8"
            ],
            [
             0.3333333333333333,
             "#9c179e"
            ],
            [
             0.4444444444444444,
             "#bd3786"
            ],
            [
             0.5555555555555556,
             "#d8576b"
            ],
            [
             0.6666666666666666,
             "#ed7953"
            ],
            [
             0.7777777777777778,
             "#fb9f3a"
            ],
            [
             0.8888888888888888,
             "#fdca26"
            ],
            [
             1,
             "#f0f921"
            ]
           ]
          },
          "colorway": [
           "#636efa",
           "#EF553B",
           "#00cc96",
           "#ab63fa",
           "#FFA15A",
           "#19d3f3",
           "#FF6692",
           "#B6E880",
           "#FF97FF",
           "#FECB52"
          ],
          "font": {
           "color": "#2a3f5f"
          },
          "geo": {
           "bgcolor": "white",
           "lakecolor": "white",
           "landcolor": "#E5ECF6",
           "showlakes": true,
           "showland": true,
           "subunitcolor": "white"
          },
          "hoverlabel": {
           "align": "left"
          },
          "hovermode": "closest",
          "mapbox": {
           "style": "light"
          },
          "paper_bgcolor": "white",
          "plot_bgcolor": "#E5ECF6",
          "polar": {
           "angularaxis": {
            "gridcolor": "white",
            "linecolor": "white",
            "ticks": ""
           },
           "bgcolor": "#E5ECF6",
           "radialaxis": {
            "gridcolor": "white",
            "linecolor": "white",
            "ticks": ""
           }
          },
          "scene": {
           "xaxis": {
            "backgroundcolor": "#E5ECF6",
            "gridcolor": "white",
            "gridwidth": 2,
            "linecolor": "white",
            "showbackground": true,
            "ticks": "",
            "zerolinecolor": "white"
           },
           "yaxis": {
            "backgroundcolor": "#E5ECF6",
            "gridcolor": "white",
            "gridwidth": 2,
            "linecolor": "white",
            "showbackground": true,
            "ticks": "",
            "zerolinecolor": "white"
           },
           "zaxis": {
            "backgroundcolor": "#E5ECF6",
            "gridcolor": "white",
            "gridwidth": 2,
            "linecolor": "white",
            "showbackground": true,
            "ticks": "",
            "zerolinecolor": "white"
           }
          },
          "shapedefaults": {
           "line": {
            "color": "#2a3f5f"
           }
          },
          "ternary": {
           "aaxis": {
            "gridcolor": "white",
            "linecolor": "white",
            "ticks": ""
           },
           "baxis": {
            "gridcolor": "white",
            "linecolor": "white",
            "ticks": ""
           },
           "bgcolor": "#E5ECF6",
           "caxis": {
            "gridcolor": "white",
            "linecolor": "white",
            "ticks": ""
           }
          },
          "title": {
           "x": 0.05
          },
          "xaxis": {
           "automargin": true,
           "gridcolor": "white",
           "linecolor": "white",
           "ticks": "",
           "title": {
            "standoff": 15
           },
           "zerolinecolor": "white",
           "zerolinewidth": 2
          },
          "yaxis": {
           "automargin": true,
           "gridcolor": "white",
           "linecolor": "white",
           "ticks": "",
           "title": {
            "standoff": 15
           },
           "zerolinecolor": "white",
           "zerolinewidth": 2
          }
         }
        },
        "title": {
         "font": {
          "color": "#4D5663"
         },
         "text": "Native Researvation Population"
        },
        "xaxis": {
         "autorange": true,
         "gridcolor": "#E1E5ED",
         "range": [
          -0.6931471805599453,
          0.4054651081081644
         ],
         "showgrid": true,
         "tickfont": {
          "color": "#4D5663"
         },
         "title": {
          "font": {
           "color": "#4D5663"
          },
          "text": "change in log price"
         },
         "type": "linear",
         "zerolinecolor": "#E1E5ED"
        },
        "yaxis": {
         "autorange": true,
         "gridcolor": "#E1E5ED",
         "range": [
          -0.5353243052647494,
          0.3037363223437926
         ],
         "showgrid": true,
         "tickfont": {
          "color": "#4D5663"
         },
         "title": {
          "font": {
           "color": "#4D5663"
          },
          "text": "change in log cost"
         },
         "type": "linear",
         "zerolinecolor": "#E1E5ED"
        }
       }
      },
      "image/png": "[encoded data removed]",
      "text/html": [
       "<div>                            <div id=\"160397ef-cc1a-44b1-a92c-3c214d958703\" class=\"plotly-graph-div\" style=\"height:525px; width:100%;\"></div>            <script type=\"text/javascript\">                require([\"plotly\"], function(Plotly) {                    window.PLOTLYENV=window.PLOTLYENV || {};\n",
       "                    window.PLOTLYENV.BASE_URL='https://plot.ly';                                    if (document.getElementById(\"160397ef-cc1a-44b1-a92c-3c214d958703\")) {                    Plotly.newPlot(                        \"160397ef-cc1a-44b1-a92c-3c214d958703\",                        [{\"line\":{\"color\":\"rgba(255, 153, 51, 1.0)\",\"dash\":\"solid\",\"shape\":\"linear\",\"width\":1.3},\"mode\":\"lines\",\"name\":\"Apple\",\"text\":\"\",\"x\":[-0.6931471805599453,-0.5108256237659907,-0.35667494393873245,-0.22314355131420968,-0.10536051565782628,0.0,0.09531017980432495,0.1823215567939546,0.26236426446749106,0.33647223662121284,0.4054651081081644],\"y\":[0.0,0.0,0.0,0.0,0.0,0.0,0.0,0.0,0.0,0.0,0.0],\"type\":\"scatter\"},{\"line\":{\"color\":\"rgba(55, 128, 191, 1.0)\",\"dash\":\"solid\",\"shape\":\"linear\",\"width\":1.3},\"mode\":\"lines\",\"name\":\"Broccoli\",\"text\":\"\",\"x\":[-0.6931471805599453,-0.5108256237659907,-0.35667494393873245,-0.22314355131420968,-0.10536051565782628,0.0,0.09531017980432495,0.1823215567939546,0.26236426446749106,0.33647223662121284,0.4054651081081644],\"y\":[0.0,0.0,0.0,0.0,0.0,0.0,0.0,0.0,0.0,0.0,0.0],\"type\":\"scatter\"},{\"line\":{\"color\":\"rgba(50, 171, 96, 1.0)\",\"dash\":\"solid\",\"shape\":\"linear\",\"width\":1.3},\"mode\":\"lines\",\"name\":\"Carrots\",\"text\":\"\",\"x\":[-0.6931471805599453,-0.5108256237659907,-0.35667494393873245,-0.22314355131420968,-0.10536051565782628,0.0,0.09531017980432495,0.1823215567939546,0.26236426446749106,0.33647223662121284,0.4054651081081644],\"y\":[-0.4933712738843223,-0.37331021419094756,-0.2661310083057437,-0.1693352655228998,-0.08108760298589428,0.0,0.07500272853924476,0.1447704085002439,0.20167494351252646,0.23815313896435691,0.2617832909633655],\"type\":\"scatter\"},{\"line\":{\"color\":\"rgba(128, 0, 128, 1.0)\",\"dash\":\"solid\",\"shape\":\"linear\",\"width\":1.3},\"mode\":\"lines\",\"name\":\"Cauliflower\",\"text\":\"\",\"x\":[-0.6931471805599453,-0.5108256237659907,-0.35667494393873245,-0.22314355131420968,-0.10536051565782628,0.0,0.09531017980432495,0.1823215567939546,0.26236426446749106,0.33647223662121284,0.4054651081081644],\"y\":[0.0,0.0,0.0,0.0,0.0,0.0,0.0,0.0,0.0,0.0,0.0],\"type\":\"scatter\"},{\"line\":{\"color\":\"rgba(219, 64, 82, 1.0)\",\"dash\":\"solid\",\"shape\":\"linear\",\"width\":1.3},\"mode\":\"lines\",\"name\":\"Cheetos\",\"text\":\"\",\"x\":[-0.6931471805599453,-0.5108256237659907,-0.35667494393873245,-0.22314355131420968,-0.10536051565782628,0.0,0.09531017980432495,0.1823215567939546,0.26236426446749106,0.33647223662121284,0.4054651081081644],\"y\":[-0.1101973678054107,-0.0684085305874453,-0.028296176182024055,0.0,0.0,0.0,0.0,0.0,0.0,0.0,0.0],\"type\":\"scatter\"},{\"line\":{\"color\":\"rgba(0, 128, 128, 1.0)\",\"dash\":\"solid\",\"shape\":\"linear\",\"width\":1.3},\"mode\":\"lines\",\"name\":\"Corn\",\"text\":\"\",\"x\":[-0.6931471805599453,-0.5108256237659907,-0.35667494393873245,-0.22314355131420968,-0.10536051565782628,0.0,0.09531017980432495,0.1823215567939546,0.26236426446749106,0.33647223662121284,0.4054651081081644],\"y\":[-0.11745154684627732,-0.05283718938238784,0.0,0.0,0.0,0.0,0.0,0.0,0.0,0.0,0.0],\"type\":\"scatter\"},{\"line\":{\"color\":\"rgba(255, 255, 51, 1.0)\",\"dash\":\"solid\",\"shape\":\"linear\",\"width\":1.3},\"mode\":\"lines\",\"name\":\"Egg\",\"text\":\"\",\"x\":[-0.6931471805599453,-0.5108256237659907,-0.35667494393873245,-0.22314355131420968,-0.10536051565782628,0.0,0.09531017980432495,0.1823215567939546,0.26236426446749106,0.33647223662121284,0.4054651081081644],\"y\":[0.0,0.0,0.0,0.0,0.0,0.0,0.0,0.0,0.0,0.0,0.0],\"type\":\"scatter\"},{\"line\":{\"color\":\"rgba(128, 128, 0, 1.0)\",\"dash\":\"solid\",\"shape\":\"linear\",\"width\":1.3},\"mode\":\"lines\",\"name\":\"Ground beef\",\"text\":\"\",\"x\":[-0.6931471805599453,-0.5108256237659907,-0.35667494393873245,-0.22314355131420968,-0.10536051565782628,0.0,0.09531017980432495,0.1823215567939546,0.26236426446749106,0.33647223662121284,0.4054651081081644],\"y\":[0.0,0.0,0.0,0.0,0.0,0.0,0.0,0.0,0.0,0.0,0.0],\"type\":\"scatter\"},{\"line\":{\"color\":\"rgba(251, 128, 114, 1.0)\",\"dash\":\"solid\",\"shape\":\"linear\",\"width\":1.3},\"mode\":\"lines\",\"name\":\"Loaf of white bread\",\"text\":\"\",\"x\":[-0.6931471805599453,-0.5108256237659907,-0.35667494393873245,-0.22314355131420968,-0.10536051565782628,0.0,0.09531017980432495,0.1823215567939546,0.26236426446749106,0.33647223662121284,0.4054651081081644],\"y\":[0.0,0.0,0.0,0.0,0.0,0.0,0.0,0.0,0.0,0.0,0.0],\"type\":\"scatter\"},{\"line\":{\"color\":\"rgba(128, 177, 211, 1.0)\",\"dash\":\"solid\",\"shape\":\"linear\",\"width\":1.3},\"mode\":\"lines\",\"name\":\"Potatoes\",\"text\":\"\",\"x\":[-0.6931471805599453,-0.5108256237659907,-0.35667494393873245,-0.22314355131420968,-0.10536051565782628,0.0,0.09531017980432495,0.1823215567939546,0.26236426446749106,0.33647223662121284,0.4054651081081644],\"y\":[-0.051990044829573895,-0.041373548581075587,-0.03086857933566901,-0.020472818234763806,-0.010184017996522321,0.0,0.010081348483727668,0.02006207692225715,0.029944174022557394,0.03972957010931626,0.04942013938804268],\"type\":\"scatter\"},{\"line\":{\"color\":\"rgba(128, 177, 211, 0.8999999999999999)\",\"dash\":\"solid\",\"shape\":\"linear\",\"width\":1.3},\"mode\":\"lines\",\"name\":\"Spaghetti\",\"text\":\"\",\"x\":[-0.6931471805599453,-0.5108256237659907,-0.35667494393873245,-0.22314355131420968,-0.10536051565782628,0.0,0.09531017980432495,0.1823215567939546,0.26236426446749106,0.33647223662121284,0.4054651081081644],\"y\":[0.0,0.0,0.0,0.0,0.0,0.0,0.0,0.0,0.0,0.0,0.0],\"type\":\"scatter\"},{\"line\":{\"color\":\"rgba(255, 153, 51, 0.8999999999999999)\",\"dash\":\"solid\",\"shape\":\"linear\",\"width\":1.3},\"mode\":\"lines\",\"name\":\"Tomato\",\"text\":\"\",\"x\":[-0.6931471805599453,-0.5108256237659907,-0.35667494393873245,-0.22314355131420968,-0.10536051565782628,0.0,0.09531017980432495,0.1823215567939546,0.26236426446749106,0.33647223662121284,0.4054651081081644],\"y\":[-0.16613955809788095,-0.054379532475463184,0.0,0.0,0.0,0.0,0.0,0.0,0.0,0.0,0.0],\"type\":\"scatter\"},{\"line\":{\"color\":\"rgba(55, 128, 191, 0.8999999999999999)\",\"dash\":\"solid\",\"shape\":\"linear\",\"width\":1.3},\"mode\":\"lines\",\"name\":\"Whole Chicken\",\"text\":\"\",\"x\":[-0.6931471805599453,-0.5108256237659907,-0.35667494393873245,-0.22314355131420968,-0.10536051565782628,0.0,0.09531017980432495,0.1823215567939546,0.26236426446749106,0.33647223662121284,0.4054651081081644],\"y\":[0.0,0.0,0.0,0.0,0.0,0.0,0.0,0.0,0.0,0.0,0.0],\"type\":\"scatter\"},{\"line\":{\"color\":\"rgba(50, 171, 96, 0.8999999999999999)\",\"dash\":\"solid\",\"shape\":\"linear\",\"width\":1.3},\"mode\":\"lines\",\"name\":\"Whole Milk\",\"text\":\"\",\"x\":[-0.6931471805599453,-0.5108256237659907,-0.35667494393873245,-0.22314355131420968,-0.10536051565782628,0.0,0.09531017980432495,0.1823215567939546,0.26236426446749106,0.33647223662121284,0.4054651081081644],\"y\":[-0.061772066431331325,-0.04910861553200798,-0.03660352433087392,-0.024252881038311455,-0.012052917041241739,0.0,0.011909372643703856,0.02367857977677213,0.03531088236931828,0.046809428898400104,0.05817726046345417],\"type\":\"scatter\"}],                        {\"legend\":{\"bgcolor\":\"#F5F6F9\",\"font\":{\"color\":\"#4D5663\"}},\"paper_bgcolor\":\"#F5F6F9\",\"plot_bgcolor\":\"#F5F6F9\",\"template\":{\"data\":{\"barpolar\":[{\"marker\":{\"line\":{\"color\":\"#E5ECF6\",\"width\":0.5},\"pattern\":{\"fillmode\":\"overlay\",\"size\":10,\"solidity\":0.2}},\"type\":\"barpolar\"}],\"bar\":[{\"error_x\":{\"color\":\"#2a3f5f\"},\"error_y\":{\"color\":\"#2a3f5f\"},\"marker\":{\"line\":{\"color\":\"#E5ECF6\",\"width\":0.5},\"pattern\":{\"fillmode\":\"overlay\",\"size\":10,\"solidity\":0.2}},\"type\":\"bar\"}],\"carpet\":[{\"aaxis\":{\"endlinecolor\":\"#2a3f5f\",\"gridcolor\":\"white\",\"linecolor\":\"white\",\"minorgridcolor\":\"white\",\"startlinecolor\":\"#2a3f5f\"},\"baxis\":{\"endlinecolor\":\"#2a3f5f\",\"gridcolor\":\"white\",\"linecolor\":\"white\",\"minorgridcolor\":\"white\",\"startlinecolor\":\"#2a3f5f\"},\"type\":\"carpet\"}],\"choropleth\":[{\"colorbar\":{\"outlinewidth\":0,\"ticks\":\"\"},\"type\":\"choropleth\"}],\"contourcarpet\":[{\"colorbar\":{\"outlinewidth\":0,\"ticks\":\"\"},\"type\":\"contourcarpet\"}],\"contour\":[{\"colorbar\":{\"outlinewidth\":0,\"ticks\":\"\"},\"colorscale\":[[0.0,\"#0d0887\"],[0.1111111111111111,\"#46039f\"],[0.2222222222222222,\"#7201a8\"],[0.3333333333333333,\"#9c179e\"],[0.4444444444444444,\"#bd3786\"],[0.5555555555555556,\"#d8576b\"],[0.6666666666666666,\"#ed7953\"],[0.7777777777777778,\"#fb9f3a\"],[0.8888888888888888,\"#fdca26\"],[1.0,\"#f0f921\"]],\"type\":\"contour\"}],\"heatmapgl\":[{\"colorbar\":{\"outlinewidth\":0,\"ticks\":\"\"},\"colorscale\":[[0.0,\"#0d0887\"],[0.1111111111111111,\"#46039f\"],[0.2222222222222222,\"#7201a8\"],[0.3333333333333333,\"#9c179e\"],[0.4444444444444444,\"#bd3786\"],[0.5555555555555556,\"#d8576b\"],[0.6666666666666666,\"#ed7953\"],[0.7777777777777778,\"#fb9f3a\"],[0.8888888888888888,\"#fdca26\"],[1.0,\"#f0f921\"]],\"type\":\"heatmapgl\"}],\"heatmap\":[{\"colorbar\":{\"outlinewidth\":0,\"ticks\":\"\"},\"colorscale\":[[0.0,\"#0d0887\"],[0.1111111111111111,\"#46039f\"],[0.2222222222222222,\"#7201a8\"],[0.3333333333333333,\"#9c179e\"],[0.4444444444444444,\"#bd3786\"],[0.5555555555555556,\"#d8576b\"],[0.6666666666666666,\"#ed7953\"],[0.7777777777777778,\"#fb9f3a\"],[0.8888888888888888,\"#fdca26\"],[1.0,\"#f0f921\"]],\"type\":\"heatmap\"}],\"histogram2dcontour\":[{\"colorbar\":{\"outlinewidth\":0,\"ticks\":\"\"},\"colorscale\":[[0.0,\"#0d0887\"],[0.1111111111111111,\"#46039f\"],[0.2222222222222222,\"#7201a8\"],[0.3333333333333333,\"#9c179e\"],[0.4444444444444444,\"#bd3786\"],[0.5555555555555556,\"#d8576b\"],[0.6666666666666666,\"#ed7953\"],[0.7777777777777778,\"#fb9f3a\"],[0.8888888888888888,\"#fdca26\"],[1.0,\"#f0f921\"]],\"type\":\"histogram2dcontour\"}],\"histogram2d\":[{\"colorbar\":{\"outlinewidth\":0,\"ticks\":\"\"},\"colorscale\":[[0.0,\"#0d0887\"],[0.1111111111111111,\"#46039f\"],[0.2222222222222222,\"#7201a8\"],[0.3333333333333333,\"#9c179e\"],[0.4444444444444444,\"#bd3786\"],[0.5555555555555556,\"#d8576b\"],[0.6666666666666666,\"#ed7953\"],[0.7777777777777778,\"#fb9f3a\"],[0.8888888888888888,\"#fdca26\"],[1.0,\"#f0f921\"]],\"type\":\"histogram2d\"}],\"histogram\":[{\"marker\":{\"pattern\":{\"fillmode\":\"overlay\",\"size\":10,\"solidity\":0.2}},\"type\":\"histogram\"}],\"mesh3d\":[{\"colorbar\":{\"outlinewidth\":0,\"ticks\":\"\"},\"type\":\"mesh3d\"}],\"parcoords\":[{\"line\":{\"colorbar\":{\"outlinewidth\":0,\"ticks\":\"\"}},\"type\":\"parcoords\"}],\"pie\":[{\"automargin\":true,\"type\":\"pie\"}],\"scatter3d\":[{\"line\":{\"colorbar\":{\"outlinewidth\":0,\"ticks\":\"\"}},\"marker\":{\"colorbar\":{\"outlinewidth\":0,\"ticks\":\"\"}},\"type\":\"scatter3d\"}],\"scattercarpet\":[{\"marker\":{\"colorbar\":{\"outlinewidth\":0,\"ticks\":\"\"}},\"type\":\"scattercarpet\"}],\"scattergeo\":[{\"marker\":{\"colorbar\":{\"outlinewidth\":0,\"ticks\":\"\"}},\"type\":\"scattergeo\"}],\"scattergl\":[{\"marker\":{\"colorbar\":{\"outlinewidth\":0,\"ticks\":\"\"}},\"type\":\"scattergl\"}],\"scattermapbox\":[{\"marker\":{\"colorbar\":{\"outlinewidth\":0,\"ticks\":\"\"}},\"type\":\"scattermapbox\"}],\"scatterpolargl\":[{\"marker\":{\"colorbar\":{\"outlinewidth\":0,\"ticks\":\"\"}},\"type\":\"scatterpolargl\"}],\"scatterpolar\":[{\"marker\":{\"colorbar\":{\"outlinewidth\":0,\"ticks\":\"\"}},\"type\":\"scatterpolar\"}],\"scatter\":[{\"fillpattern\":{\"fillmode\":\"overlay\",\"size\":10,\"solidity\":0.2},\"type\":\"scatter\"}],\"scatterternary\":[{\"marker\":{\"colorbar\":{\"outlinewidth\":0,\"ticks\":\"\"}},\"type\":\"scatterternary\"}],\"surface\":[{\"colorbar\":{\"outlinewidth\":0,\"ticks\":\"\"},\"colorscale\":[[0.0,\"#0d0887\"],[0.1111111111111111,\"#46039f\"],[0.2222222222222222,\"#7201a8\"],[0.3333333333333333,\"#9c179e\"],[0.4444444444444444,\"#bd3786\"],[0.5555555555555556,\"#d8576b\"],[0.6666666666666666,\"#ed7953\"],[0.7777777777777778,\"#fb9f3a\"],[0.8888888888888888,\"#fdca26\"],[1.0,\"#f0f921\"]],\"type\":\"surface\"}],\"table\":[{\"cells\":{\"fill\":{\"color\":\"#EBF0F8\"},\"line\":{\"color\":\"white\"}},\"header\":{\"fill\":{\"color\":\"#C8D4E3\"},\"line\":{\"color\":\"white\"}},\"type\":\"table\"}]},\"layout\":{\"annotationdefaults\":{\"arrowcolor\":\"#2a3f5f\",\"arrowhead\":0,\"arrowwidth\":1},\"autotypenumbers\":\"strict\",\"coloraxis\":{\"colorbar\":{\"outlinewidth\":0,\"ticks\":\"\"}},\"colorscale\":{\"diverging\":[[0,\"#8e0152\"],[0.1,\"#c51b7d\"],[0.2,\"#de77ae\"],[0.3,\"#f1b6da\"],[0.4,\"#fde0ef\"],[0.5,\"#f7f7f7\"],[0.6,\"#e6f5d0\"],[0.7,\"#b8e186\"],[0.8,\"#7fbc41\"],[0.9,\"#4d9221\"],[1,\"#276419\"]],\"sequential\":[[0.0,\"#0d0887\"],[0.1111111111111111,\"#46039f\"],[0.2222222222222222,\"#7201a8\"],[0.3333333333333333,\"#9c179e\"],[0.4444444444444444,\"#bd3786\"],[0.5555555555555556,\"#d8576b\"],[0.6666666666666666,\"#ed7953\"],[0.7777777777777778,\"#fb9f3a\"],[0.8888888888888888,\"#fdca26\"],[1.0,\"#f0f921\"]],\"sequentialminus\":[[0.0,\"#0d0887\"],[0.1111111111111111,\"#46039f\"],[0.2222222222222222,\"#7201a8\"],[0.3333333333333333,\"#9c179e\"],[0.4444444444444444,\"#bd3786\"],[0.5555555555555556,\"#d8576b\"],[0.6666666666666666,\"#ed7953\"],[0.7777777777777778,\"#fb9f3a\"],[0.8888888888888888,\"#fdca26\"],[1.0,\"#f0f921\"]]},\"colorway\":[\"#636efa\",\"#EF553B\",\"#00cc96\",\"#ab63fa\",\"#FFA15A\",\"#19d3f3\",\"#FF6692\",\"#B6E880\",\"#FF97FF\",\"#FECB52\"],\"font\":{\"color\":\"#2a3f5f\"},\"geo\":{\"bgcolor\":\"white\",\"lakecolor\":\"white\",\"landcolor\":\"#E5ECF6\",\"showlakes\":true,\"showland\":true,\"subunitcolor\":\"white\"},\"hoverlabel\":{\"align\":\"left\"},\"hovermode\":\"closest\",\"mapbox\":{\"style\":\"light\"},\"paper_bgcolor\":\"white\",\"plot_bgcolor\":\"#E5ECF6\",\"polar\":{\"angularaxis\":{\"gridcolor\":\"white\",\"linecolor\":\"white\",\"ticks\":\"\"},\"bgcolor\":\"#E5ECF6\",\"radialaxis\":{\"gridcolor\":\"white\",\"linecolor\":\"white\",\"ticks\":\"\"}},\"scene\":{\"xaxis\":{\"backgroundcolor\":\"#E5ECF6\",\"gridcolor\":\"white\",\"gridwidth\":2,\"linecolor\":\"white\",\"showbackground\":true,\"ticks\":\"\",\"zerolinecolor\":\"white\"},\"yaxis\":{\"backgroundcolor\":\"#E5ECF6\",\"gridcolor\":\"white\",\"gridwidth\":2,\"linecolor\":\"white\",\"showbackground\":true,\"ticks\":\"\",\"zerolinecolor\":\"white\"},\"zaxis\":{\"backgroundcolor\":\"#E5ECF6\",\"gridcolor\":\"white\",\"gridwidth\":2,\"linecolor\":\"white\",\"showbackground\":true,\"ticks\":\"\",\"zerolinecolor\":\"white\"}},\"shapedefaults\":{\"line\":{\"color\":\"#2a3f5f\"}},\"ternary\":{\"aaxis\":{\"gridcolor\":\"white\",\"linecolor\":\"white\",\"ticks\":\"\"},\"baxis\":{\"gridcolor\":\"white\",\"linecolor\":\"white\",\"ticks\":\"\"},\"bgcolor\":\"#E5ECF6\",\"caxis\":{\"gridcolor\":\"white\",\"linecolor\":\"white\",\"ticks\":\"\"}},\"title\":{\"x\":0.05},\"xaxis\":{\"automargin\":true,\"gridcolor\":\"white\",\"linecolor\":\"white\",\"ticks\":\"\",\"title\":{\"standoff\":15},\"zerolinecolor\":\"white\",\"zerolinewidth\":2},\"yaxis\":{\"automargin\":true,\"gridcolor\":\"white\",\"linecolor\":\"white\",\"ticks\":\"\",\"title\":{\"standoff\":15},\"zerolinecolor\":\"white\",\"zerolinewidth\":2}}},\"title\":{\"font\":{\"color\":\"#4D5663\"},\"text\":\"Native Researvation Population\"},\"xaxis\":{\"gridcolor\":\"#E1E5ED\",\"showgrid\":true,\"tickfont\":{\"color\":\"#4D5663\"},\"title\":{\"font\":{\"color\":\"#4D5663\"},\"text\":\"change in log price\"},\"zerolinecolor\":\"#E1E5ED\"},\"yaxis\":{\"gridcolor\":\"#E1E5ED\",\"showgrid\":true,\"tickfont\":{\"color\":\"#4D5663\"},\"title\":{\"font\":{\"color\":\"#4D5663\"},\"text\":\"change in log cost\"},\"zerolinecolor\":\"#E1E5ED\"}},                        {\"showLink\": true, \"linkText\": \"Export to plot.ly\", \"plotlyServerURL\": \"https://plot.ly\", \"responsive\": true}                    ).then(function(){\n",
       "                            \n",
       "var gd = document.getElementById('160397ef-cc1a-44b1-a92c-3c214d958703');\n",
       "var x = new MutationObserver(function (mutations, observer) {{\n",
       "        var display = window.getComputedStyle(gd).display;\n",
       "        if (!display || display === 'none') {{\n",
       "            console.log([gd, 'removed!']);\n",
       "            Plotly.purge(gd);\n",
       "            observer.disconnect();\n",
       "        }}\n",
       "}});\n",
       "\n",
       "// Listen for the removal of the full notebook cells\n",
       "var notebookContainer = gd.closest('#notebook-container');\n",
       "if (notebookContainer) {{\n",
       "    x.observe(notebookContainer, {childList: true});\n",
       "}}\n",
       "\n",
       "// Listen for the clearing of the current output cell\n",
       "var outputEl = gd.closest('.output');\n",
       "if (outputEl) {{\n",
       "    x.observe(outputEl, {childList: true});\n",
       "}}\n",
       "\n",
       "                        })                };                });            </script>        </div>"
      ]
     },
     "metadata": {},
     "output_type": "display_data"
    }
   ],
   "source": [
    "cf.go_offline()\n",
    "\n",
    "\n",
    "group=\"F 4-8\"\n",
    "scale = [.5,.6,.7,.8,.9,1.,1.1,1.2,1.3,1.4,1.5]\n",
    "Prices=Reservation_Prices\n",
    "cost0 = solve_subsistence_problem(FoodNutrients,Prices,diet_min[group],diet_max[group],tol=tol).fun\n",
    "\n",
    "my_p = Reservation_Prices.copy()\n",
    "\n",
    "Price_response={}\n",
    "for s in scale:\n",
    "    cost = {}\n",
    "    for i in Prices.index:\n",
    "        my_p = Prices.copy()\n",
    "        my_p[i] = (Prices[i]*s)\n",
    "        result = solve_subsistence_problem(FoodNutrients,my_p,diet_min[group],diet_max[group],tol=tol)\n",
    "        cost[i] = np.log(result.fun/cost0)\n",
    "    Price_response[np.log(s)] = cost\n",
    "\n",
    "Price_response = pd.DataFrame(Price_response).T\n",
    "Price_response.iplot(xTitle='change in log price',yTitle='change in log cost', title=\"Native Researvation Population\")"
   ]
  }
 ],
 "metadata": {
  "kernelspec": {
   "display_name": "Python 3 (ipykernel)",
   "language": "python",
   "name": "python3"
  },
  "language_info": {
   "codemirror_mode": {
    "name": "ipython",
    "version": 3
   },
   "file_extension": ".py",
   "mimetype": "text/x-python",
   "name": "python",
   "nbconvert_exporter": "python",
   "pygments_lexer": "ipython3",
   "version": "3.9.15"
  }
 },
 "nbformat": 4,
 "nbformat_minor": 5
}
